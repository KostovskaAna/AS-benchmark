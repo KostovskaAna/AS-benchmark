{
 "cells": [
  {
   "cell_type": "code",
   "execution_count": 34,
   "metadata": {},
   "outputs": [
    {
     "name": "stdout",
     "output_type": "stream",
     "text": [
      "Runtime: 100\n",
      "Loss classification pairwise sum: AS-pairwise-classification    15.562034\n",
      "dtype: float64\n",
      "Loss classification sum: AS-classification    14.99005\n",
      "dtype: float64\n",
      "Loss regression sum: AS-regression    12.159573\n",
      "dtype: float64\n"
     ]
    },
    {
     "data": {
      "application/vnd.plotly.v1+json": {
       "config": {
        "plotlyServerURL": "https://plot.ly"
       },
       "data": [
        {
         "alignmentgroup": "True",
         "hovertemplate": "=%{x}<br>Loss=%{y}<extra></extra>",
         "legendgroup": "AS-classification",
         "marker": {
          "color": "rgb(41, 24, 107)"
         },
         "name": "AS-classification",
         "notched": false,
         "offsetgroup": "AS-classification",
         "orientation": "v",
         "showlegend": true,
         "type": "box",
         "x": [
          "AS-classification",
          "AS-classification",
          "AS-classification",
          "AS-classification",
          "AS-classification",
          "AS-classification",
          "AS-classification",
          "AS-classification",
          "AS-classification",
          "AS-classification",
          "AS-classification",
          "AS-classification",
          "AS-classification",
          "AS-classification",
          "AS-classification",
          "AS-classification",
          "AS-classification",
          "AS-classification",
          "AS-classification",
          "AS-classification",
          "AS-classification",
          "AS-classification",
          "AS-classification",
          "AS-classification",
          "AS-classification",
          "AS-classification",
          "AS-classification",
          "AS-classification",
          "AS-classification",
          "AS-classification",
          "AS-classification",
          "AS-classification",
          "AS-classification",
          "AS-classification",
          "AS-classification",
          "AS-classification",
          "AS-classification",
          "AS-classification",
          "AS-classification",
          "AS-classification",
          "AS-classification",
          "AS-classification",
          "AS-classification",
          "AS-classification",
          "AS-classification",
          "AS-classification",
          "AS-classification",
          "AS-classification",
          "AS-classification",
          "AS-classification",
          "AS-classification",
          "AS-classification",
          "AS-classification",
          "AS-classification",
          "AS-classification",
          "AS-classification",
          "AS-classification",
          "AS-classification",
          "AS-classification",
          "AS-classification",
          "AS-classification",
          "AS-classification",
          "AS-classification",
          "AS-classification",
          "AS-classification",
          "AS-classification",
          "AS-classification",
          "AS-classification",
          "AS-classification",
          "AS-classification",
          "AS-classification",
          "AS-classification",
          "AS-classification",
          "AS-classification",
          "AS-classification",
          "AS-classification",
          "AS-classification",
          "AS-classification",
          "AS-classification",
          "AS-classification",
          "AS-classification",
          "AS-classification",
          "AS-classification",
          "AS-classification",
          "AS-classification",
          "AS-classification",
          "AS-classification",
          "AS-classification",
          "AS-classification",
          "AS-classification",
          "AS-classification",
          "AS-classification",
          "AS-classification",
          "AS-classification",
          "AS-classification",
          "AS-classification",
          "AS-classification",
          "AS-classification",
          "AS-classification",
          "AS-classification",
          "AS-classification",
          "AS-classification",
          "AS-classification",
          "AS-classification",
          "AS-classification",
          "AS-classification",
          "AS-classification",
          "AS-classification",
          "AS-classification",
          "AS-classification",
          "AS-classification",
          "AS-classification",
          "AS-classification",
          "AS-classification",
          "AS-classification",
          "AS-classification",
          "AS-classification",
          "AS-classification",
          "AS-classification",
          "AS-classification",
          "AS-classification",
          "AS-classification",
          "AS-classification",
          "AS-classification",
          "AS-classification",
          "AS-classification",
          "AS-classification",
          "AS-classification",
          "AS-classification",
          "AS-classification",
          "AS-classification",
          "AS-classification",
          "AS-classification",
          "AS-classification",
          "AS-classification",
          "AS-classification",
          "AS-classification",
          "AS-classification",
          "AS-classification",
          "AS-classification",
          "AS-classification",
          "AS-classification",
          "AS-classification",
          "AS-classification",
          "AS-classification",
          "AS-classification",
          "AS-classification",
          "AS-classification",
          "AS-classification",
          "AS-classification",
          "AS-classification",
          "AS-classification",
          "AS-classification",
          "AS-classification",
          "AS-classification",
          "AS-classification",
          "AS-classification",
          "AS-classification",
          "AS-classification",
          "AS-classification",
          "AS-classification",
          "AS-classification",
          "AS-classification",
          "AS-classification",
          "AS-classification",
          "AS-classification",
          "AS-classification",
          "AS-classification",
          "AS-classification",
          "AS-classification",
          "AS-classification",
          "AS-classification",
          "AS-classification",
          "AS-classification",
          "AS-classification",
          "AS-classification",
          "AS-classification",
          "AS-classification",
          "AS-classification",
          "AS-classification",
          "AS-classification",
          "AS-classification",
          "AS-classification",
          "AS-classification",
          "AS-classification",
          "AS-classification",
          "AS-classification",
          "AS-classification",
          "AS-classification",
          "AS-classification",
          "AS-classification",
          "AS-classification",
          "AS-classification",
          "AS-classification",
          "AS-classification",
          "AS-classification",
          "AS-classification",
          "AS-classification",
          "AS-classification",
          "AS-classification",
          "AS-classification",
          "AS-classification",
          "AS-classification",
          "AS-classification",
          "AS-classification",
          "AS-classification",
          "AS-classification",
          "AS-classification",
          "AS-classification",
          "AS-classification",
          "AS-classification",
          "AS-classification",
          "AS-classification",
          "AS-classification",
          "AS-classification",
          "AS-classification",
          "AS-classification",
          "AS-classification",
          "AS-classification",
          "AS-classification",
          "AS-classification",
          "AS-classification",
          "AS-classification",
          "AS-classification",
          "AS-classification",
          "AS-classification",
          "AS-classification",
          "AS-classification",
          "AS-classification",
          "AS-classification",
          "AS-classification",
          "AS-classification",
          "AS-classification",
          "AS-classification",
          "AS-classification",
          "AS-classification",
          "AS-classification",
          "AS-classification",
          "AS-classification",
          "AS-classification"
         ],
         "x0": " ",
         "xaxis": "x",
         "y": [
          0,
          0.2313813105763067,
          0.3118009562146246,
          0.3097064486466014,
          0,
          0,
          0,
          0.0451792788969567,
          0.2972683206672362,
          0.2930217099569376,
          0,
          0,
          0,
          0,
          0,
          0.1231793994385399,
          0,
          0,
          0,
          0,
          0,
          0,
          0,
          0,
          0,
          0,
          0,
          0,
          0,
          0,
          0,
          0,
          0,
          0.9848349296528502,
          0,
          0,
          0,
          0,
          0,
          0,
          0,
          0,
          0,
          0,
          0,
          0,
          0,
          0,
          0,
          0,
          0,
          0,
          0.0052305769448683,
          0,
          0.3052861279647034,
          0,
          0,
          0,
          0,
          0.0145005218538885,
          0.2603722514346337,
          0.0079139143790774,
          0,
          0.0378473782924908,
          0.1581250203263654,
          0,
          0,
          0,
          0,
          0.0759532910977728,
          0.1060515476986991,
          0.0377007354857921,
          0.059593380965976,
          0.0784342255131435,
          0.0158602150077238,
          0.0755259404789325,
          0.0463743143864274,
          0.1489662335394563,
          0,
          0.5479086112465079,
          0.2795082659658732,
          0.0061837944544262,
          0.1421280786978038,
          0.0441864096345814,
          0.0419918734396069,
          0.1111051071855188,
          0.204047401494506,
          0,
          0.1752310475070864,
          0.417527502116281,
          0,
          0,
          0,
          0,
          0,
          0,
          0,
          0,
          0,
          0,
          0,
          0,
          0,
          0,
          0,
          0,
          0,
          0,
          0,
          0,
          0,
          0,
          0.0148429108535321,
          0,
          0,
          0.0078692328917457,
          0,
          0,
          0,
          0,
          0,
          0.0557901759094025,
          0,
          0,
          0.1984837964928034,
          0.5616414272408516,
          0.0131587678011758,
          0,
          0,
          0,
          0.620240733699596,
          0.2726155524620822,
          0,
          0.0962827209655957,
          0.0019842168713599,
          0,
          0,
          0.6750901881097586,
          0,
          0.593614689785688,
          0.0317597441659806,
          0,
          0,
          0,
          0,
          0,
          0,
          0,
          0,
          0,
          0,
          0,
          0.003724819196113,
          0.0190883748850871,
          0,
          0,
          0,
          0,
          0,
          0,
          0,
          0,
          0,
          0.4231327363645274,
          0,
          0,
          0,
          0,
          0,
          0,
          0.0760518079356624,
          0.025988967732528,
          0,
          0,
          0.1513502496083192,
          0,
          0,
          0,
          0,
          0.0374445619183307,
          0,
          0.0933876257120953,
          0,
          0,
          0,
          0.056889022162174,
          0,
          0,
          0,
          0.0749182257683862,
          0,
          0,
          0,
          0,
          0,
          0,
          0,
          0,
          0,
          0,
          0.9366904064846208,
          0,
          0.2114010682795923,
          0,
          0.3855162036450138,
          0.1986560160259373,
          0,
          0.7220739152377713,
          0,
          0,
          0.2007877840177916,
          0,
          0,
          0,
          0,
          0.1641108039336152,
          0,
          0,
          0,
          0.1106394458349069,
          0,
          0.8071278906947255,
          1.1477697794691502,
          0,
          0,
          0,
          0,
          0,
          0,
          0,
          0,
          0,
          0,
          0,
          0,
          0,
          0,
          0,
          0,
          0
         ],
         "y0": " ",
         "yaxis": "y"
        },
        {
         "alignmentgroup": "True",
         "hovertemplate": "=%{x}<br>Loss=%{y}<extra></extra>",
         "legendgroup": "AS-pairwise-classification",
         "marker": {
          "color": "rgb(42, 35, 160)"
         },
         "name": "AS-pairwise-classification",
         "notched": false,
         "offsetgroup": "AS-pairwise-classification",
         "orientation": "v",
         "showlegend": true,
         "type": "box",
         "x": [
          "AS-pairwise-classification",
          "AS-pairwise-classification",
          "AS-pairwise-classification",
          "AS-pairwise-classification",
          "AS-pairwise-classification",
          "AS-pairwise-classification",
          "AS-pairwise-classification",
          "AS-pairwise-classification",
          "AS-pairwise-classification",
          "AS-pairwise-classification",
          "AS-pairwise-classification",
          "AS-pairwise-classification",
          "AS-pairwise-classification",
          "AS-pairwise-classification",
          "AS-pairwise-classification",
          "AS-pairwise-classification",
          "AS-pairwise-classification",
          "AS-pairwise-classification",
          "AS-pairwise-classification",
          "AS-pairwise-classification",
          "AS-pairwise-classification",
          "AS-pairwise-classification",
          "AS-pairwise-classification",
          "AS-pairwise-classification",
          "AS-pairwise-classification",
          "AS-pairwise-classification",
          "AS-pairwise-classification",
          "AS-pairwise-classification",
          "AS-pairwise-classification",
          "AS-pairwise-classification",
          "AS-pairwise-classification",
          "AS-pairwise-classification",
          "AS-pairwise-classification",
          "AS-pairwise-classification",
          "AS-pairwise-classification",
          "AS-pairwise-classification",
          "AS-pairwise-classification",
          "AS-pairwise-classification",
          "AS-pairwise-classification",
          "AS-pairwise-classification",
          "AS-pairwise-classification",
          "AS-pairwise-classification",
          "AS-pairwise-classification",
          "AS-pairwise-classification",
          "AS-pairwise-classification",
          "AS-pairwise-classification",
          "AS-pairwise-classification",
          "AS-pairwise-classification",
          "AS-pairwise-classification",
          "AS-pairwise-classification",
          "AS-pairwise-classification",
          "AS-pairwise-classification",
          "AS-pairwise-classification",
          "AS-pairwise-classification",
          "AS-pairwise-classification",
          "AS-pairwise-classification",
          "AS-pairwise-classification",
          "AS-pairwise-classification",
          "AS-pairwise-classification",
          "AS-pairwise-classification",
          "AS-pairwise-classification",
          "AS-pairwise-classification",
          "AS-pairwise-classification",
          "AS-pairwise-classification",
          "AS-pairwise-classification",
          "AS-pairwise-classification",
          "AS-pairwise-classification",
          "AS-pairwise-classification",
          "AS-pairwise-classification",
          "AS-pairwise-classification",
          "AS-pairwise-classification",
          "AS-pairwise-classification",
          "AS-pairwise-classification",
          "AS-pairwise-classification",
          "AS-pairwise-classification",
          "AS-pairwise-classification",
          "AS-pairwise-classification",
          "AS-pairwise-classification",
          "AS-pairwise-classification",
          "AS-pairwise-classification",
          "AS-pairwise-classification",
          "AS-pairwise-classification",
          "AS-pairwise-classification",
          "AS-pairwise-classification",
          "AS-pairwise-classification",
          "AS-pairwise-classification",
          "AS-pairwise-classification",
          "AS-pairwise-classification",
          "AS-pairwise-classification",
          "AS-pairwise-classification",
          "AS-pairwise-classification",
          "AS-pairwise-classification",
          "AS-pairwise-classification",
          "AS-pairwise-classification",
          "AS-pairwise-classification",
          "AS-pairwise-classification",
          "AS-pairwise-classification",
          "AS-pairwise-classification",
          "AS-pairwise-classification",
          "AS-pairwise-classification",
          "AS-pairwise-classification",
          "AS-pairwise-classification",
          "AS-pairwise-classification",
          "AS-pairwise-classification",
          "AS-pairwise-classification",
          "AS-pairwise-classification",
          "AS-pairwise-classification",
          "AS-pairwise-classification",
          "AS-pairwise-classification",
          "AS-pairwise-classification",
          "AS-pairwise-classification",
          "AS-pairwise-classification",
          "AS-pairwise-classification",
          "AS-pairwise-classification",
          "AS-pairwise-classification",
          "AS-pairwise-classification",
          "AS-pairwise-classification",
          "AS-pairwise-classification",
          "AS-pairwise-classification",
          "AS-pairwise-classification",
          "AS-pairwise-classification",
          "AS-pairwise-classification",
          "AS-pairwise-classification",
          "AS-pairwise-classification",
          "AS-pairwise-classification",
          "AS-pairwise-classification",
          "AS-pairwise-classification",
          "AS-pairwise-classification",
          "AS-pairwise-classification",
          "AS-pairwise-classification",
          "AS-pairwise-classification",
          "AS-pairwise-classification",
          "AS-pairwise-classification",
          "AS-pairwise-classification",
          "AS-pairwise-classification",
          "AS-pairwise-classification",
          "AS-pairwise-classification",
          "AS-pairwise-classification",
          "AS-pairwise-classification",
          "AS-pairwise-classification",
          "AS-pairwise-classification",
          "AS-pairwise-classification",
          "AS-pairwise-classification",
          "AS-pairwise-classification",
          "AS-pairwise-classification",
          "AS-pairwise-classification",
          "AS-pairwise-classification",
          "AS-pairwise-classification",
          "AS-pairwise-classification",
          "AS-pairwise-classification",
          "AS-pairwise-classification",
          "AS-pairwise-classification",
          "AS-pairwise-classification",
          "AS-pairwise-classification",
          "AS-pairwise-classification",
          "AS-pairwise-classification",
          "AS-pairwise-classification",
          "AS-pairwise-classification",
          "AS-pairwise-classification",
          "AS-pairwise-classification",
          "AS-pairwise-classification",
          "AS-pairwise-classification",
          "AS-pairwise-classification",
          "AS-pairwise-classification",
          "AS-pairwise-classification",
          "AS-pairwise-classification",
          "AS-pairwise-classification",
          "AS-pairwise-classification",
          "AS-pairwise-classification",
          "AS-pairwise-classification",
          "AS-pairwise-classification",
          "AS-pairwise-classification",
          "AS-pairwise-classification",
          "AS-pairwise-classification",
          "AS-pairwise-classification",
          "AS-pairwise-classification",
          "AS-pairwise-classification",
          "AS-pairwise-classification",
          "AS-pairwise-classification",
          "AS-pairwise-classification",
          "AS-pairwise-classification",
          "AS-pairwise-classification",
          "AS-pairwise-classification",
          "AS-pairwise-classification",
          "AS-pairwise-classification",
          "AS-pairwise-classification",
          "AS-pairwise-classification",
          "AS-pairwise-classification",
          "AS-pairwise-classification",
          "AS-pairwise-classification",
          "AS-pairwise-classification",
          "AS-pairwise-classification",
          "AS-pairwise-classification",
          "AS-pairwise-classification",
          "AS-pairwise-classification",
          "AS-pairwise-classification",
          "AS-pairwise-classification",
          "AS-pairwise-classification",
          "AS-pairwise-classification",
          "AS-pairwise-classification",
          "AS-pairwise-classification",
          "AS-pairwise-classification",
          "AS-pairwise-classification",
          "AS-pairwise-classification",
          "AS-pairwise-classification",
          "AS-pairwise-classification",
          "AS-pairwise-classification",
          "AS-pairwise-classification",
          "AS-pairwise-classification",
          "AS-pairwise-classification",
          "AS-pairwise-classification",
          "AS-pairwise-classification",
          "AS-pairwise-classification",
          "AS-pairwise-classification",
          "AS-pairwise-classification",
          "AS-pairwise-classification",
          "AS-pairwise-classification",
          "AS-pairwise-classification",
          "AS-pairwise-classification",
          "AS-pairwise-classification",
          "AS-pairwise-classification",
          "AS-pairwise-classification",
          "AS-pairwise-classification",
          "AS-pairwise-classification",
          "AS-pairwise-classification",
          "AS-pairwise-classification",
          "AS-pairwise-classification",
          "AS-pairwise-classification",
          "AS-pairwise-classification",
          "AS-pairwise-classification",
          "AS-pairwise-classification",
          "AS-pairwise-classification",
          "AS-pairwise-classification",
          "AS-pairwise-classification",
          "AS-pairwise-classification",
          "AS-pairwise-classification",
          "AS-pairwise-classification",
          "AS-pairwise-classification",
          "AS-pairwise-classification",
          "AS-pairwise-classification"
         ],
         "x0": " ",
         "xaxis": "x",
         "y": [
          0,
          0.2313813105763067,
          0.3118009562146246,
          0.0017624617014084,
          0,
          0,
          0,
          0.0451792788969567,
          0.2972683206672362,
          0.2930217099569376,
          0,
          0,
          0,
          0,
          0.0314499867284554,
          0.1231793994385399,
          0,
          0,
          0,
          0,
          0,
          0,
          0,
          0,
          0,
          0,
          0,
          0,
          0,
          0,
          0,
          0,
          0,
          0.9848349296528502,
          0,
          0.8547459206344165,
          0,
          0,
          0,
          0,
          0,
          0,
          0,
          0,
          0,
          0,
          0,
          0,
          0,
          0,
          0,
          0,
          0.0052305769448683,
          0,
          0.3052861279647034,
          0,
          0,
          0,
          0,
          0.0145005218538885,
          0,
          0.0079139143790774,
          0,
          0.0378473782924908,
          0.1581250203263654,
          0,
          0,
          0,
          0,
          0.0759532910977728,
          0.1060515476986991,
          0.0377007354857921,
          0.059593380965976,
          0,
          0.0158602150077238,
          0.0755259404789325,
          0,
          0.1489662335394563,
          0,
          0.5479086112465079,
          0.2795082659658732,
          0,
          0.1421280786978038,
          0,
          0.0419918734396069,
          0.1111051071855188,
          0.204047401494506,
          0,
          0.1752310475070864,
          0.417527502116281,
          0,
          0,
          0,
          0,
          0,
          0,
          0,
          0,
          0,
          0,
          0,
          0,
          0,
          0,
          0,
          0,
          0,
          0,
          0,
          0,
          0,
          0,
          0.0148429108535321,
          0,
          0,
          0.0078692328917457,
          0,
          0,
          0,
          0,
          0,
          0.0557901759094025,
          0,
          0,
          0.1984837964928034,
          0.5616414272408516,
          0.0131587678011758,
          0,
          0,
          0,
          0,
          0.2726155524620822,
          0,
          0.0962827209655957,
          0.0019842168713599,
          0,
          0,
          0.6750901881097586,
          0,
          0,
          0.0317597441659806,
          0,
          0,
          0,
          0,
          0,
          0,
          0,
          0,
          0,
          0,
          0,
          0.003724819196113,
          0.0190883748850871,
          0,
          0,
          0,
          0,
          0,
          0,
          0,
          0,
          0,
          0.4231327363645274,
          0,
          0,
          0,
          0,
          0,
          0,
          0.0760518079356624,
          0.025988967732528,
          0,
          0,
          0.1513502496083192,
          0,
          0,
          0,
          0,
          0.0374445619183307,
          0,
          0.0933876257120953,
          0,
          0,
          0,
          0.056889022162174,
          0,
          0,
          0,
          0.0749182257683862,
          0,
          0,
          0,
          0.4483680858406872,
          0.5477671201553278,
          0.6724177034390558,
          0.6196884117409011,
          0,
          0,
          0.6026500457398853,
          0.9366904064846208,
          0,
          0,
          0.0194624285757915,
          0.3855162036450138,
          0.1986560160259373,
          0,
          0.7220739152377713,
          0,
          0,
          0.2007877840177916,
          0.0919553078284662,
          0,
          0,
          0,
          0.1641108039336152,
          0,
          0,
          0,
          0.1106394458349069,
          0,
          0.8071278906947255,
          0,
          0,
          0,
          0,
          0,
          0,
          0,
          0,
          0,
          0,
          0,
          0,
          0,
          0,
          0,
          0,
          0,
          0
         ],
         "y0": " ",
         "yaxis": "y"
        },
        {
         "alignmentgroup": "True",
         "hovertemplate": "=%{x}<br>Loss=%{y}<extra></extra>",
         "legendgroup": "AS-regression",
         "marker": {
          "color": "rgb(15, 71, 153)"
         },
         "name": "AS-regression",
         "notched": false,
         "offsetgroup": "AS-regression",
         "orientation": "v",
         "showlegend": true,
         "type": "box",
         "x": [
          "AS-regression",
          "AS-regression",
          "AS-regression",
          "AS-regression",
          "AS-regression",
          "AS-regression",
          "AS-regression",
          "AS-regression",
          "AS-regression",
          "AS-regression",
          "AS-regression",
          "AS-regression",
          "AS-regression",
          "AS-regression",
          "AS-regression",
          "AS-regression",
          "AS-regression",
          "AS-regression",
          "AS-regression",
          "AS-regression",
          "AS-regression",
          "AS-regression",
          "AS-regression",
          "AS-regression",
          "AS-regression",
          "AS-regression",
          "AS-regression",
          "AS-regression",
          "AS-regression",
          "AS-regression",
          "AS-regression",
          "AS-regression",
          "AS-regression",
          "AS-regression",
          "AS-regression",
          "AS-regression",
          "AS-regression",
          "AS-regression",
          "AS-regression",
          "AS-regression",
          "AS-regression",
          "AS-regression",
          "AS-regression",
          "AS-regression",
          "AS-regression",
          "AS-regression",
          "AS-regression",
          "AS-regression",
          "AS-regression",
          "AS-regression",
          "AS-regression",
          "AS-regression",
          "AS-regression",
          "AS-regression",
          "AS-regression",
          "AS-regression",
          "AS-regression",
          "AS-regression",
          "AS-regression",
          "AS-regression",
          "AS-regression",
          "AS-regression",
          "AS-regression",
          "AS-regression",
          "AS-regression",
          "AS-regression",
          "AS-regression",
          "AS-regression",
          "AS-regression",
          "AS-regression",
          "AS-regression",
          "AS-regression",
          "AS-regression",
          "AS-regression",
          "AS-regression",
          "AS-regression",
          "AS-regression",
          "AS-regression",
          "AS-regression",
          "AS-regression",
          "AS-regression",
          "AS-regression",
          "AS-regression",
          "AS-regression",
          "AS-regression",
          "AS-regression",
          "AS-regression",
          "AS-regression",
          "AS-regression",
          "AS-regression",
          "AS-regression",
          "AS-regression",
          "AS-regression",
          "AS-regression",
          "AS-regression",
          "AS-regression",
          "AS-regression",
          "AS-regression",
          "AS-regression",
          "AS-regression",
          "AS-regression",
          "AS-regression",
          "AS-regression",
          "AS-regression",
          "AS-regression",
          "AS-regression",
          "AS-regression",
          "AS-regression",
          "AS-regression",
          "AS-regression",
          "AS-regression",
          "AS-regression",
          "AS-regression",
          "AS-regression",
          "AS-regression",
          "AS-regression",
          "AS-regression",
          "AS-regression",
          "AS-regression",
          "AS-regression",
          "AS-regression",
          "AS-regression",
          "AS-regression",
          "AS-regression",
          "AS-regression",
          "AS-regression",
          "AS-regression",
          "AS-regression",
          "AS-regression",
          "AS-regression",
          "AS-regression",
          "AS-regression",
          "AS-regression",
          "AS-regression",
          "AS-regression",
          "AS-regression",
          "AS-regression",
          "AS-regression",
          "AS-regression",
          "AS-regression",
          "AS-regression",
          "AS-regression",
          "AS-regression",
          "AS-regression",
          "AS-regression",
          "AS-regression",
          "AS-regression",
          "AS-regression",
          "AS-regression",
          "AS-regression",
          "AS-regression",
          "AS-regression",
          "AS-regression",
          "AS-regression",
          "AS-regression",
          "AS-regression",
          "AS-regression",
          "AS-regression",
          "AS-regression",
          "AS-regression",
          "AS-regression",
          "AS-regression",
          "AS-regression",
          "AS-regression",
          "AS-regression",
          "AS-regression",
          "AS-regression",
          "AS-regression",
          "AS-regression",
          "AS-regression",
          "AS-regression",
          "AS-regression",
          "AS-regression",
          "AS-regression",
          "AS-regression",
          "AS-regression",
          "AS-regression",
          "AS-regression",
          "AS-regression",
          "AS-regression",
          "AS-regression",
          "AS-regression",
          "AS-regression",
          "AS-regression",
          "AS-regression",
          "AS-regression",
          "AS-regression",
          "AS-regression",
          "AS-regression",
          "AS-regression",
          "AS-regression",
          "AS-regression",
          "AS-regression",
          "AS-regression",
          "AS-regression",
          "AS-regression",
          "AS-regression",
          "AS-regression",
          "AS-regression",
          "AS-regression",
          "AS-regression",
          "AS-regression",
          "AS-regression",
          "AS-regression",
          "AS-regression",
          "AS-regression",
          "AS-regression",
          "AS-regression",
          "AS-regression",
          "AS-regression",
          "AS-regression",
          "AS-regression",
          "AS-regression",
          "AS-regression",
          "AS-regression",
          "AS-regression",
          "AS-regression",
          "AS-regression",
          "AS-regression",
          "AS-regression",
          "AS-regression",
          "AS-regression",
          "AS-regression",
          "AS-regression",
          "AS-regression",
          "AS-regression",
          "AS-regression",
          "AS-regression",
          "AS-regression",
          "AS-regression",
          "AS-regression",
          "AS-regression",
          "AS-regression",
          "AS-regression",
          "AS-regression",
          "AS-regression",
          "AS-regression",
          "AS-regression",
          "AS-regression",
          "AS-regression"
         ],
         "x0": " ",
         "xaxis": "x",
         "y": [
          0,
          0.2313813105763067,
          0.3118009562146246,
          0.3097064486466014,
          0,
          0,
          0,
          0.0451792788969567,
          0.2972683206672362,
          0.2930217099569376,
          0.3613250488981747,
          0,
          0.1495693655114021,
          0.5686996453559974,
          0.0314499867284554,
          0.0667527713234403,
          0,
          0.3450208192908657,
          0.0302820311921938,
          0,
          0,
          0,
          0,
          0,
          0,
          0,
          0,
          0,
          0,
          0,
          0,
          0,
          0,
          0,
          0,
          0,
          0,
          0,
          0,
          0,
          0,
          0,
          0,
          0,
          0,
          0,
          0,
          0,
          0,
          0,
          0,
          0,
          0.0052305769448683,
          0,
          0.3052861279647034,
          0,
          0.2999675888370998,
          0,
          0,
          0.0145005218538885,
          0,
          0.0079139143790774,
          0,
          0.0378473782924908,
          0.1581250203263654,
          0,
          0,
          0,
          0,
          0.0759532910977728,
          0.1060515476986991,
          0,
          0.059593380965976,
          0,
          0,
          0.0755259404789325,
          0.0463743143864274,
          0,
          0,
          0,
          0.2795082659658732,
          0,
          0.1421280786978038,
          0,
          0.0419918734396069,
          0.1111051071855188,
          0.204047401494506,
          0,
          0.1752310475070864,
          0.417527502116281,
          0,
          0,
          0,
          0,
          0,
          0,
          0,
          0,
          0,
          0,
          0,
          0,
          0,
          0,
          0,
          0,
          0,
          0,
          0,
          0,
          0.014088097658738,
          0.0213825365421062,
          0,
          0.0093239325881325,
          0.0764984618139302,
          0,
          0.0088847424758105,
          0.0108789831979375,
          0.0130525436509537,
          0,
          0,
          0.0557901759094025,
          0,
          0,
          0.1984837964928034,
          0.5616414272408516,
          0.0131587678011758,
          0,
          0,
          0,
          0.620240733699596,
          0.2726155524620822,
          0,
          0.0962827209655957,
          0.0019842168713599,
          0,
          0,
          0.6750901881097586,
          0,
          0,
          0.0317597441659806,
          0,
          0,
          0,
          0,
          0,
          0,
          0,
          0,
          0,
          0,
          0,
          0.003724819196113,
          0.0190883748850871,
          0,
          0,
          0,
          0,
          0,
          0,
          0,
          0,
          1.105705723066408,
          0.4231327363645274,
          0,
          0,
          0,
          0.3306142341929536,
          0,
          0,
          0.0760518079356624,
          0.025988967732528,
          0,
          0,
          0.1513502496083192,
          0,
          0.2220123455914815,
          0,
          0,
          0.0374445619183307,
          0,
          0.0933876257120953,
          0,
          0,
          0,
          0.056889022162174,
          0,
          0,
          0,
          0.0749182257683862,
          0,
          0,
          0,
          0,
          0,
          0,
          0,
          0,
          0,
          0,
          0,
          0.0285396755489243,
          0.2114010682795923,
          0.0194624285757915,
          0,
          0.1986560160259373,
          0.2271883853752856,
          0,
          0,
          0,
          0.2007877840177916,
          0.0919553078284662,
          0,
          0,
          0,
          0.1641108039336152,
          0,
          0,
          0,
          0.1106394458349069,
          0,
          0,
          0,
          0,
          0,
          0,
          0,
          0,
          0,
          0,
          0,
          0,
          0,
          0,
          0,
          0,
          0,
          0,
          0,
          0
         ],
         "y0": " ",
         "yaxis": "y"
        }
       ],
       "layout": {
        "autosize": false,
        "boxmode": "overlay",
        "font": {
         "size": 22
        },
        "height": 700,
        "legend": {
         "title": {
          "text": ""
         },
         "tracegroupgap": 0
        },
        "margin": {
         "b": 0,
         "l": 50,
         "pad": 4,
         "r": 50,
         "t": 50
        },
        "showlegend": false,
        "template": {
         "data": {
          "bar": [
           {
            "error_x": {
             "color": "#2a3f5f"
            },
            "error_y": {
             "color": "#2a3f5f"
            },
            "marker": {
             "line": {
              "color": "#E5ECF6",
              "width": 0.5
             },
             "pattern": {
              "fillmode": "overlay",
              "size": 10,
              "solidity": 0.2
             }
            },
            "type": "bar"
           }
          ],
          "barpolar": [
           {
            "marker": {
             "line": {
              "color": "#E5ECF6",
              "width": 0.5
             },
             "pattern": {
              "fillmode": "overlay",
              "size": 10,
              "solidity": 0.2
             }
            },
            "type": "barpolar"
           }
          ],
          "carpet": [
           {
            "aaxis": {
             "endlinecolor": "#2a3f5f",
             "gridcolor": "white",
             "linecolor": "white",
             "minorgridcolor": "white",
             "startlinecolor": "#2a3f5f"
            },
            "baxis": {
             "endlinecolor": "#2a3f5f",
             "gridcolor": "white",
             "linecolor": "white",
             "minorgridcolor": "white",
             "startlinecolor": "#2a3f5f"
            },
            "type": "carpet"
           }
          ],
          "choropleth": [
           {
            "colorbar": {
             "outlinewidth": 0,
             "ticks": ""
            },
            "type": "choropleth"
           }
          ],
          "contour": [
           {
            "colorbar": {
             "outlinewidth": 0,
             "ticks": ""
            },
            "colorscale": [
             [
              0,
              "#0d0887"
             ],
             [
              0.1111111111111111,
              "#46039f"
             ],
             [
              0.2222222222222222,
              "#7201a8"
             ],
             [
              0.3333333333333333,
              "#9c179e"
             ],
             [
              0.4444444444444444,
              "#bd3786"
             ],
             [
              0.5555555555555556,
              "#d8576b"
             ],
             [
              0.6666666666666666,
              "#ed7953"
             ],
             [
              0.7777777777777778,
              "#fb9f3a"
             ],
             [
              0.8888888888888888,
              "#fdca26"
             ],
             [
              1,
              "#f0f921"
             ]
            ],
            "type": "contour"
           }
          ],
          "contourcarpet": [
           {
            "colorbar": {
             "outlinewidth": 0,
             "ticks": ""
            },
            "type": "contourcarpet"
           }
          ],
          "heatmap": [
           {
            "colorbar": {
             "outlinewidth": 0,
             "ticks": ""
            },
            "colorscale": [
             [
              0,
              "#0d0887"
             ],
             [
              0.1111111111111111,
              "#46039f"
             ],
             [
              0.2222222222222222,
              "#7201a8"
             ],
             [
              0.3333333333333333,
              "#9c179e"
             ],
             [
              0.4444444444444444,
              "#bd3786"
             ],
             [
              0.5555555555555556,
              "#d8576b"
             ],
             [
              0.6666666666666666,
              "#ed7953"
             ],
             [
              0.7777777777777778,
              "#fb9f3a"
             ],
             [
              0.8888888888888888,
              "#fdca26"
             ],
             [
              1,
              "#f0f921"
             ]
            ],
            "type": "heatmap"
           }
          ],
          "heatmapgl": [
           {
            "colorbar": {
             "outlinewidth": 0,
             "ticks": ""
            },
            "colorscale": [
             [
              0,
              "#0d0887"
             ],
             [
              0.1111111111111111,
              "#46039f"
             ],
             [
              0.2222222222222222,
              "#7201a8"
             ],
             [
              0.3333333333333333,
              "#9c179e"
             ],
             [
              0.4444444444444444,
              "#bd3786"
             ],
             [
              0.5555555555555556,
              "#d8576b"
             ],
             [
              0.6666666666666666,
              "#ed7953"
             ],
             [
              0.7777777777777778,
              "#fb9f3a"
             ],
             [
              0.8888888888888888,
              "#fdca26"
             ],
             [
              1,
              "#f0f921"
             ]
            ],
            "type": "heatmapgl"
           }
          ],
          "histogram": [
           {
            "marker": {
             "pattern": {
              "fillmode": "overlay",
              "size": 10,
              "solidity": 0.2
             }
            },
            "type": "histogram"
           }
          ],
          "histogram2d": [
           {
            "colorbar": {
             "outlinewidth": 0,
             "ticks": ""
            },
            "colorscale": [
             [
              0,
              "#0d0887"
             ],
             [
              0.1111111111111111,
              "#46039f"
             ],
             [
              0.2222222222222222,
              "#7201a8"
             ],
             [
              0.3333333333333333,
              "#9c179e"
             ],
             [
              0.4444444444444444,
              "#bd3786"
             ],
             [
              0.5555555555555556,
              "#d8576b"
             ],
             [
              0.6666666666666666,
              "#ed7953"
             ],
             [
              0.7777777777777778,
              "#fb9f3a"
             ],
             [
              0.8888888888888888,
              "#fdca26"
             ],
             [
              1,
              "#f0f921"
             ]
            ],
            "type": "histogram2d"
           }
          ],
          "histogram2dcontour": [
           {
            "colorbar": {
             "outlinewidth": 0,
             "ticks": ""
            },
            "colorscale": [
             [
              0,
              "#0d0887"
             ],
             [
              0.1111111111111111,
              "#46039f"
             ],
             [
              0.2222222222222222,
              "#7201a8"
             ],
             [
              0.3333333333333333,
              "#9c179e"
             ],
             [
              0.4444444444444444,
              "#bd3786"
             ],
             [
              0.5555555555555556,
              "#d8576b"
             ],
             [
              0.6666666666666666,
              "#ed7953"
             ],
             [
              0.7777777777777778,
              "#fb9f3a"
             ],
             [
              0.8888888888888888,
              "#fdca26"
             ],
             [
              1,
              "#f0f921"
             ]
            ],
            "type": "histogram2dcontour"
           }
          ],
          "mesh3d": [
           {
            "colorbar": {
             "outlinewidth": 0,
             "ticks": ""
            },
            "type": "mesh3d"
           }
          ],
          "parcoords": [
           {
            "line": {
             "colorbar": {
              "outlinewidth": 0,
              "ticks": ""
             }
            },
            "type": "parcoords"
           }
          ],
          "pie": [
           {
            "automargin": true,
            "type": "pie"
           }
          ],
          "scatter": [
           {
            "fillpattern": {
             "fillmode": "overlay",
             "size": 10,
             "solidity": 0.2
            },
            "type": "scatter"
           }
          ],
          "scatter3d": [
           {
            "line": {
             "colorbar": {
              "outlinewidth": 0,
              "ticks": ""
             }
            },
            "marker": {
             "colorbar": {
              "outlinewidth": 0,
              "ticks": ""
             }
            },
            "type": "scatter3d"
           }
          ],
          "scattercarpet": [
           {
            "marker": {
             "colorbar": {
              "outlinewidth": 0,
              "ticks": ""
             }
            },
            "type": "scattercarpet"
           }
          ],
          "scattergeo": [
           {
            "marker": {
             "colorbar": {
              "outlinewidth": 0,
              "ticks": ""
             }
            },
            "type": "scattergeo"
           }
          ],
          "scattergl": [
           {
            "marker": {
             "colorbar": {
              "outlinewidth": 0,
              "ticks": ""
             }
            },
            "type": "scattergl"
           }
          ],
          "scattermapbox": [
           {
            "marker": {
             "colorbar": {
              "outlinewidth": 0,
              "ticks": ""
             }
            },
            "type": "scattermapbox"
           }
          ],
          "scatterpolar": [
           {
            "marker": {
             "colorbar": {
              "outlinewidth": 0,
              "ticks": ""
             }
            },
            "type": "scatterpolar"
           }
          ],
          "scatterpolargl": [
           {
            "marker": {
             "colorbar": {
              "outlinewidth": 0,
              "ticks": ""
             }
            },
            "type": "scatterpolargl"
           }
          ],
          "scatterternary": [
           {
            "marker": {
             "colorbar": {
              "outlinewidth": 0,
              "ticks": ""
             }
            },
            "type": "scatterternary"
           }
          ],
          "surface": [
           {
            "colorbar": {
             "outlinewidth": 0,
             "ticks": ""
            },
            "colorscale": [
             [
              0,
              "#0d0887"
             ],
             [
              0.1111111111111111,
              "#46039f"
             ],
             [
              0.2222222222222222,
              "#7201a8"
             ],
             [
              0.3333333333333333,
              "#9c179e"
             ],
             [
              0.4444444444444444,
              "#bd3786"
             ],
             [
              0.5555555555555556,
              "#d8576b"
             ],
             [
              0.6666666666666666,
              "#ed7953"
             ],
             [
              0.7777777777777778,
              "#fb9f3a"
             ],
             [
              0.8888888888888888,
              "#fdca26"
             ],
             [
              1,
              "#f0f921"
             ]
            ],
            "type": "surface"
           }
          ],
          "table": [
           {
            "cells": {
             "fill": {
              "color": "#EBF0F8"
             },
             "line": {
              "color": "white"
             }
            },
            "header": {
             "fill": {
              "color": "#C8D4E3"
             },
             "line": {
              "color": "white"
             }
            },
            "type": "table"
           }
          ]
         },
         "layout": {
          "annotationdefaults": {
           "arrowcolor": "#2a3f5f",
           "arrowhead": 0,
           "arrowwidth": 1
          },
          "autotypenumbers": "strict",
          "coloraxis": {
           "colorbar": {
            "outlinewidth": 0,
            "ticks": ""
           }
          },
          "colorscale": {
           "diverging": [
            [
             0,
             "#8e0152"
            ],
            [
             0.1,
             "#c51b7d"
            ],
            [
             0.2,
             "#de77ae"
            ],
            [
             0.3,
             "#f1b6da"
            ],
            [
             0.4,
             "#fde0ef"
            ],
            [
             0.5,
             "#f7f7f7"
            ],
            [
             0.6,
             "#e6f5d0"
            ],
            [
             0.7,
             "#b8e186"
            ],
            [
             0.8,
             "#7fbc41"
            ],
            [
             0.9,
             "#4d9221"
            ],
            [
             1,
             "#276419"
            ]
           ],
           "sequential": [
            [
             0,
             "#0d0887"
            ],
            [
             0.1111111111111111,
             "#46039f"
            ],
            [
             0.2222222222222222,
             "#7201a8"
            ],
            [
             0.3333333333333333,
             "#9c179e"
            ],
            [
             0.4444444444444444,
             "#bd3786"
            ],
            [
             0.5555555555555556,
             "#d8576b"
            ],
            [
             0.6666666666666666,
             "#ed7953"
            ],
            [
             0.7777777777777778,
             "#fb9f3a"
            ],
            [
             0.8888888888888888,
             "#fdca26"
            ],
            [
             1,
             "#f0f921"
            ]
           ],
           "sequentialminus": [
            [
             0,
             "#0d0887"
            ],
            [
             0.1111111111111111,
             "#46039f"
            ],
            [
             0.2222222222222222,
             "#7201a8"
            ],
            [
             0.3333333333333333,
             "#9c179e"
            ],
            [
             0.4444444444444444,
             "#bd3786"
            ],
            [
             0.5555555555555556,
             "#d8576b"
            ],
            [
             0.6666666666666666,
             "#ed7953"
            ],
            [
             0.7777777777777778,
             "#fb9f3a"
            ],
            [
             0.8888888888888888,
             "#fdca26"
            ],
            [
             1,
             "#f0f921"
            ]
           ]
          },
          "colorway": [
           "#636efa",
           "#EF553B",
           "#00cc96",
           "#ab63fa",
           "#FFA15A",
           "#19d3f3",
           "#FF6692",
           "#B6E880",
           "#FF97FF",
           "#FECB52"
          ],
          "font": {
           "color": "#2a3f5f"
          },
          "geo": {
           "bgcolor": "white",
           "lakecolor": "white",
           "landcolor": "#E5ECF6",
           "showlakes": true,
           "showland": true,
           "subunitcolor": "white"
          },
          "hoverlabel": {
           "align": "left"
          },
          "hovermode": "closest",
          "mapbox": {
           "style": "light"
          },
          "paper_bgcolor": "white",
          "plot_bgcolor": "#E5ECF6",
          "polar": {
           "angularaxis": {
            "gridcolor": "white",
            "linecolor": "white",
            "ticks": ""
           },
           "bgcolor": "#E5ECF6",
           "radialaxis": {
            "gridcolor": "white",
            "linecolor": "white",
            "ticks": ""
           }
          },
          "scene": {
           "xaxis": {
            "backgroundcolor": "#E5ECF6",
            "gridcolor": "white",
            "gridwidth": 2,
            "linecolor": "white",
            "showbackground": true,
            "ticks": "",
            "zerolinecolor": "white"
           },
           "yaxis": {
            "backgroundcolor": "#E5ECF6",
            "gridcolor": "white",
            "gridwidth": 2,
            "linecolor": "white",
            "showbackground": true,
            "ticks": "",
            "zerolinecolor": "white"
           },
           "zaxis": {
            "backgroundcolor": "#E5ECF6",
            "gridcolor": "white",
            "gridwidth": 2,
            "linecolor": "white",
            "showbackground": true,
            "ticks": "",
            "zerolinecolor": "white"
           }
          },
          "shapedefaults": {
           "line": {
            "color": "#2a3f5f"
           }
          },
          "ternary": {
           "aaxis": {
            "gridcolor": "white",
            "linecolor": "white",
            "ticks": ""
           },
           "baxis": {
            "gridcolor": "white",
            "linecolor": "white",
            "ticks": ""
           },
           "bgcolor": "#E5ECF6",
           "caxis": {
            "gridcolor": "white",
            "linecolor": "white",
            "ticks": ""
           }
          },
          "title": {
           "x": 0.05
          },
          "xaxis": {
           "automargin": true,
           "gridcolor": "white",
           "linecolor": "white",
           "ticks": "",
           "title": {
            "standoff": 15
           },
           "zerolinecolor": "white",
           "zerolinewidth": 2
          },
          "yaxis": {
           "automargin": true,
           "gridcolor": "white",
           "linecolor": "white",
           "ticks": "",
           "title": {
            "standoff": 15
           },
           "zerolinecolor": "white",
           "zerolinewidth": 2
          }
         }
        },
        "title": {
         "text": "Runtime: 100",
         "x": 0.5
        },
        "width": 1000,
        "xaxis": {
         "anchor": "y",
         "categoryarray": [
          "AS-classification",
          "AS-pairwise-classification",
          "AS-regression"
         ],
         "categoryorder": "array",
         "domain": [
          0,
          1
         ],
         "title": {
          "text": ""
         }
        },
        "yaxis": {
         "anchor": "x",
         "domain": [
          0,
          1
         ],
         "title": {
          "text": "Loss"
         }
        }
       }
      }
     },
     "metadata": {},
     "output_type": "display_data"
    },
    {
     "name": "stdout",
     "output_type": "stream",
     "text": [
      "Runtime: 250\n",
      "Loss classification pairwise sum: AS-pairwise-classification    26.907317\n",
      "dtype: float64\n",
      "Loss classification sum: AS-classification    15.975678\n",
      "dtype: float64\n",
      "Loss regression sum: AS-regression    22.442585\n",
      "dtype: float64\n"
     ]
    },
    {
     "data": {
      "application/vnd.plotly.v1+json": {
       "config": {
        "plotlyServerURL": "https://plot.ly"
       },
       "data": [
        {
         "alignmentgroup": "True",
         "hovertemplate": "=%{x}<br>Loss=%{y}<extra></extra>",
         "legendgroup": "AS-classification",
         "marker": {
          "color": "rgb(41, 24, 107)"
         },
         "name": "AS-classification",
         "notched": false,
         "offsetgroup": "AS-classification",
         "orientation": "v",
         "showlegend": true,
         "type": "box",
         "x": [
          "AS-classification",
          "AS-classification",
          "AS-classification",
          "AS-classification",
          "AS-classification",
          "AS-classification",
          "AS-classification",
          "AS-classification",
          "AS-classification",
          "AS-classification",
          "AS-classification",
          "AS-classification",
          "AS-classification",
          "AS-classification",
          "AS-classification",
          "AS-classification",
          "AS-classification",
          "AS-classification",
          "AS-classification",
          "AS-classification",
          "AS-classification",
          "AS-classification",
          "AS-classification",
          "AS-classification",
          "AS-classification",
          "AS-classification",
          "AS-classification",
          "AS-classification",
          "AS-classification",
          "AS-classification",
          "AS-classification",
          "AS-classification",
          "AS-classification",
          "AS-classification",
          "AS-classification",
          "AS-classification",
          "AS-classification",
          "AS-classification",
          "AS-classification",
          "AS-classification",
          "AS-classification",
          "AS-classification",
          "AS-classification",
          "AS-classification",
          "AS-classification",
          "AS-classification",
          "AS-classification",
          "AS-classification",
          "AS-classification",
          "AS-classification",
          "AS-classification",
          "AS-classification",
          "AS-classification",
          "AS-classification",
          "AS-classification",
          "AS-classification",
          "AS-classification",
          "AS-classification",
          "AS-classification",
          "AS-classification",
          "AS-classification",
          "AS-classification",
          "AS-classification",
          "AS-classification",
          "AS-classification",
          "AS-classification",
          "AS-classification",
          "AS-classification",
          "AS-classification",
          "AS-classification",
          "AS-classification",
          "AS-classification",
          "AS-classification",
          "AS-classification",
          "AS-classification",
          "AS-classification",
          "AS-classification",
          "AS-classification",
          "AS-classification",
          "AS-classification",
          "AS-classification",
          "AS-classification",
          "AS-classification",
          "AS-classification",
          "AS-classification",
          "AS-classification",
          "AS-classification",
          "AS-classification",
          "AS-classification",
          "AS-classification",
          "AS-classification",
          "AS-classification",
          "AS-classification",
          "AS-classification",
          "AS-classification",
          "AS-classification",
          "AS-classification",
          "AS-classification",
          "AS-classification",
          "AS-classification",
          "AS-classification",
          "AS-classification",
          "AS-classification",
          "AS-classification",
          "AS-classification",
          "AS-classification",
          "AS-classification",
          "AS-classification",
          "AS-classification",
          "AS-classification",
          "AS-classification",
          "AS-classification",
          "AS-classification",
          "AS-classification",
          "AS-classification",
          "AS-classification",
          "AS-classification",
          "AS-classification",
          "AS-classification",
          "AS-classification",
          "AS-classification",
          "AS-classification",
          "AS-classification",
          "AS-classification",
          "AS-classification",
          "AS-classification",
          "AS-classification",
          "AS-classification",
          "AS-classification",
          "AS-classification",
          "AS-classification",
          "AS-classification",
          "AS-classification",
          "AS-classification",
          "AS-classification",
          "AS-classification",
          "AS-classification",
          "AS-classification",
          "AS-classification",
          "AS-classification",
          "AS-classification",
          "AS-classification",
          "AS-classification",
          "AS-classification",
          "AS-classification",
          "AS-classification",
          "AS-classification",
          "AS-classification",
          "AS-classification",
          "AS-classification",
          "AS-classification",
          "AS-classification",
          "AS-classification",
          "AS-classification",
          "AS-classification",
          "AS-classification",
          "AS-classification",
          "AS-classification",
          "AS-classification",
          "AS-classification",
          "AS-classification",
          "AS-classification",
          "AS-classification",
          "AS-classification",
          "AS-classification",
          "AS-classification",
          "AS-classification",
          "AS-classification",
          "AS-classification",
          "AS-classification",
          "AS-classification",
          "AS-classification",
          "AS-classification",
          "AS-classification",
          "AS-classification",
          "AS-classification",
          "AS-classification",
          "AS-classification",
          "AS-classification",
          "AS-classification",
          "AS-classification",
          "AS-classification",
          "AS-classification",
          "AS-classification",
          "AS-classification",
          "AS-classification",
          "AS-classification",
          "AS-classification",
          "AS-classification",
          "AS-classification",
          "AS-classification",
          "AS-classification",
          "AS-classification",
          "AS-classification",
          "AS-classification",
          "AS-classification",
          "AS-classification",
          "AS-classification",
          "AS-classification",
          "AS-classification",
          "AS-classification",
          "AS-classification",
          "AS-classification",
          "AS-classification",
          "AS-classification",
          "AS-classification",
          "AS-classification",
          "AS-classification",
          "AS-classification",
          "AS-classification",
          "AS-classification",
          "AS-classification",
          "AS-classification",
          "AS-classification",
          "AS-classification",
          "AS-classification",
          "AS-classification",
          "AS-classification",
          "AS-classification",
          "AS-classification",
          "AS-classification",
          "AS-classification",
          "AS-classification",
          "AS-classification",
          "AS-classification",
          "AS-classification",
          "AS-classification",
          "AS-classification",
          "AS-classification",
          "AS-classification",
          "AS-classification",
          "AS-classification",
          "AS-classification",
          "AS-classification",
          "AS-classification",
          "AS-classification",
          "AS-classification",
          "AS-classification",
          "AS-classification",
          "AS-classification"
         ],
         "x0": " ",
         "xaxis": "x",
         "y": [
          0,
          0,
          0,
          0,
          0.0438538661893117,
          0,
          0,
          0,
          0,
          0,
          0.2170073008473347,
          0,
          0.0085747248116994,
          0.3225531213487734,
          0.0207932435420945,
          0,
          0,
          0.0143517831497188,
          0,
          0,
          0,
          0,
          0,
          0.3934200118514984,
          0,
          0.2745143733094403,
          0,
          0,
          0,
          0,
          0,
          0.0765931861636241,
          0,
          0,
          0,
          0,
          0.3792690369156163,
          0,
          0.2091985940415954,
          0,
          0,
          0,
          0,
          0,
          0,
          0,
          0,
          0,
          0,
          0,
          0,
          0,
          0,
          0,
          0,
          0.1774356505475998,
          0.1474231876015548,
          0.0074224743922901,
          0,
          0,
          0,
          0,
          0,
          0,
          0,
          0,
          0.0528728331394063,
          0,
          0,
          0,
          0,
          0,
          0.2648806825554339,
          0,
          0,
          0,
          0,
          0,
          0,
          0,
          0,
          0,
          0.2951699901507761,
          0,
          0,
          0,
          0,
          0,
          0,
          0,
          0,
          0,
          0,
          0,
          0,
          0,
          0,
          0,
          0,
          0,
          0,
          0,
          0,
          0,
          0,
          0,
          0,
          0,
          0,
          0,
          0,
          0,
          0,
          0,
          0,
          0,
          0,
          0,
          0,
          0,
          0.2756573479797438,
          0.2331042360999008,
          0.1453329948994119,
          0.0388436271761429,
          0.2278874583551514,
          0,
          0,
          0.0035934640930716,
          0.0697373749536718,
          0.0721042253479431,
          0.3249200895381708,
          1.2767692213039288,
          0.1712173328346367,
          0.0043348620821638,
          0.5137994963921801,
          0.2200263277590624,
          0.4260439489957136,
          3.1850482482458133,
          0.1036661296741913,
          0.914025152024562,
          0,
          0,
          0,
          0,
          0,
          0,
          0,
          0,
          0,
          0,
          0,
          0,
          0,
          0,
          0,
          0,
          0.127362049132049,
          0.0360328691031976,
          0,
          0.0023583096220973,
          0,
          0,
          0,
          0,
          0,
          0,
          0.041501764130023,
          0,
          0.3974170287732308,
          0,
          0.2109529828744742,
          0,
          0.0368301267783131,
          0.1391980274426252,
          0.019378908685854,
          0.0771965786790052,
          0.3734951919758238,
          0.2681464951391761,
          0.0374547275378771,
          0.0011382708853604,
          0.0697502671704393,
          0.0368336338030277,
          0.1505738806426757,
          0,
          0.0952655290792401,
          0.0831929489765228,
          0.0594937194216766,
          0.3257821878245637,
          0,
          0.0119623333196632,
          0,
          0,
          0,
          0,
          0,
          0,
          0,
          0,
          0,
          0,
          0,
          0,
          0,
          0,
          0,
          0,
          0,
          0,
          0,
          1.7491116925582988,
          0,
          0.2231846093690538,
          0,
          0.0385357035880523,
          0.1672035783192342,
          0,
          0,
          0,
          0,
          0,
          0,
          0,
          0,
          0,
          0,
          0.0848787695205335,
          0,
          0,
          0,
          0,
          0,
          0,
          0,
          0,
          0,
          0,
          0,
          0,
          0,
          0
         ],
         "y0": " ",
         "yaxis": "y"
        },
        {
         "alignmentgroup": "True",
         "hovertemplate": "=%{x}<br>Loss=%{y}<extra></extra>",
         "legendgroup": "AS-pairwise-classification",
         "marker": {
          "color": "rgb(42, 35, 160)"
         },
         "name": "AS-pairwise-classification",
         "notched": false,
         "offsetgroup": "AS-pairwise-classification",
         "orientation": "v",
         "showlegend": true,
         "type": "box",
         "x": [
          "AS-pairwise-classification",
          "AS-pairwise-classification",
          "AS-pairwise-classification",
          "AS-pairwise-classification",
          "AS-pairwise-classification",
          "AS-pairwise-classification",
          "AS-pairwise-classification",
          "AS-pairwise-classification",
          "AS-pairwise-classification",
          "AS-pairwise-classification",
          "AS-pairwise-classification",
          "AS-pairwise-classification",
          "AS-pairwise-classification",
          "AS-pairwise-classification",
          "AS-pairwise-classification",
          "AS-pairwise-classification",
          "AS-pairwise-classification",
          "AS-pairwise-classification",
          "AS-pairwise-classification",
          "AS-pairwise-classification",
          "AS-pairwise-classification",
          "AS-pairwise-classification",
          "AS-pairwise-classification",
          "AS-pairwise-classification",
          "AS-pairwise-classification",
          "AS-pairwise-classification",
          "AS-pairwise-classification",
          "AS-pairwise-classification",
          "AS-pairwise-classification",
          "AS-pairwise-classification",
          "AS-pairwise-classification",
          "AS-pairwise-classification",
          "AS-pairwise-classification",
          "AS-pairwise-classification",
          "AS-pairwise-classification",
          "AS-pairwise-classification",
          "AS-pairwise-classification",
          "AS-pairwise-classification",
          "AS-pairwise-classification",
          "AS-pairwise-classification",
          "AS-pairwise-classification",
          "AS-pairwise-classification",
          "AS-pairwise-classification",
          "AS-pairwise-classification",
          "AS-pairwise-classification",
          "AS-pairwise-classification",
          "AS-pairwise-classification",
          "AS-pairwise-classification",
          "AS-pairwise-classification",
          "AS-pairwise-classification",
          "AS-pairwise-classification",
          "AS-pairwise-classification",
          "AS-pairwise-classification",
          "AS-pairwise-classification",
          "AS-pairwise-classification",
          "AS-pairwise-classification",
          "AS-pairwise-classification",
          "AS-pairwise-classification",
          "AS-pairwise-classification",
          "AS-pairwise-classification",
          "AS-pairwise-classification",
          "AS-pairwise-classification",
          "AS-pairwise-classification",
          "AS-pairwise-classification",
          "AS-pairwise-classification",
          "AS-pairwise-classification",
          "AS-pairwise-classification",
          "AS-pairwise-classification",
          "AS-pairwise-classification",
          "AS-pairwise-classification",
          "AS-pairwise-classification",
          "AS-pairwise-classification",
          "AS-pairwise-classification",
          "AS-pairwise-classification",
          "AS-pairwise-classification",
          "AS-pairwise-classification",
          "AS-pairwise-classification",
          "AS-pairwise-classification",
          "AS-pairwise-classification",
          "AS-pairwise-classification",
          "AS-pairwise-classification",
          "AS-pairwise-classification",
          "AS-pairwise-classification",
          "AS-pairwise-classification",
          "AS-pairwise-classification",
          "AS-pairwise-classification",
          "AS-pairwise-classification",
          "AS-pairwise-classification",
          "AS-pairwise-classification",
          "AS-pairwise-classification",
          "AS-pairwise-classification",
          "AS-pairwise-classification",
          "AS-pairwise-classification",
          "AS-pairwise-classification",
          "AS-pairwise-classification",
          "AS-pairwise-classification",
          "AS-pairwise-classification",
          "AS-pairwise-classification",
          "AS-pairwise-classification",
          "AS-pairwise-classification",
          "AS-pairwise-classification",
          "AS-pairwise-classification",
          "AS-pairwise-classification",
          "AS-pairwise-classification",
          "AS-pairwise-classification",
          "AS-pairwise-classification",
          "AS-pairwise-classification",
          "AS-pairwise-classification",
          "AS-pairwise-classification",
          "AS-pairwise-classification",
          "AS-pairwise-classification",
          "AS-pairwise-classification",
          "AS-pairwise-classification",
          "AS-pairwise-classification",
          "AS-pairwise-classification",
          "AS-pairwise-classification",
          "AS-pairwise-classification",
          "AS-pairwise-classification",
          "AS-pairwise-classification",
          "AS-pairwise-classification",
          "AS-pairwise-classification",
          "AS-pairwise-classification",
          "AS-pairwise-classification",
          "AS-pairwise-classification",
          "AS-pairwise-classification",
          "AS-pairwise-classification",
          "AS-pairwise-classification",
          "AS-pairwise-classification",
          "AS-pairwise-classification",
          "AS-pairwise-classification",
          "AS-pairwise-classification",
          "AS-pairwise-classification",
          "AS-pairwise-classification",
          "AS-pairwise-classification",
          "AS-pairwise-classification",
          "AS-pairwise-classification",
          "AS-pairwise-classification",
          "AS-pairwise-classification",
          "AS-pairwise-classification",
          "AS-pairwise-classification",
          "AS-pairwise-classification",
          "AS-pairwise-classification",
          "AS-pairwise-classification",
          "AS-pairwise-classification",
          "AS-pairwise-classification",
          "AS-pairwise-classification",
          "AS-pairwise-classification",
          "AS-pairwise-classification",
          "AS-pairwise-classification",
          "AS-pairwise-classification",
          "AS-pairwise-classification",
          "AS-pairwise-classification",
          "AS-pairwise-classification",
          "AS-pairwise-classification",
          "AS-pairwise-classification",
          "AS-pairwise-classification",
          "AS-pairwise-classification",
          "AS-pairwise-classification",
          "AS-pairwise-classification",
          "AS-pairwise-classification",
          "AS-pairwise-classification",
          "AS-pairwise-classification",
          "AS-pairwise-classification",
          "AS-pairwise-classification",
          "AS-pairwise-classification",
          "AS-pairwise-classification",
          "AS-pairwise-classification",
          "AS-pairwise-classification",
          "AS-pairwise-classification",
          "AS-pairwise-classification",
          "AS-pairwise-classification",
          "AS-pairwise-classification",
          "AS-pairwise-classification",
          "AS-pairwise-classification",
          "AS-pairwise-classification",
          "AS-pairwise-classification",
          "AS-pairwise-classification",
          "AS-pairwise-classification",
          "AS-pairwise-classification",
          "AS-pairwise-classification",
          "AS-pairwise-classification",
          "AS-pairwise-classification",
          "AS-pairwise-classification",
          "AS-pairwise-classification",
          "AS-pairwise-classification",
          "AS-pairwise-classification",
          "AS-pairwise-classification",
          "AS-pairwise-classification",
          "AS-pairwise-classification",
          "AS-pairwise-classification",
          "AS-pairwise-classification",
          "AS-pairwise-classification",
          "AS-pairwise-classification",
          "AS-pairwise-classification",
          "AS-pairwise-classification",
          "AS-pairwise-classification",
          "AS-pairwise-classification",
          "AS-pairwise-classification",
          "AS-pairwise-classification",
          "AS-pairwise-classification",
          "AS-pairwise-classification",
          "AS-pairwise-classification",
          "AS-pairwise-classification",
          "AS-pairwise-classification",
          "AS-pairwise-classification",
          "AS-pairwise-classification",
          "AS-pairwise-classification",
          "AS-pairwise-classification",
          "AS-pairwise-classification",
          "AS-pairwise-classification",
          "AS-pairwise-classification",
          "AS-pairwise-classification",
          "AS-pairwise-classification",
          "AS-pairwise-classification",
          "AS-pairwise-classification",
          "AS-pairwise-classification",
          "AS-pairwise-classification",
          "AS-pairwise-classification",
          "AS-pairwise-classification",
          "AS-pairwise-classification",
          "AS-pairwise-classification",
          "AS-pairwise-classification",
          "AS-pairwise-classification",
          "AS-pairwise-classification",
          "AS-pairwise-classification",
          "AS-pairwise-classification",
          "AS-pairwise-classification",
          "AS-pairwise-classification",
          "AS-pairwise-classification",
          "AS-pairwise-classification",
          "AS-pairwise-classification",
          "AS-pairwise-classification",
          "AS-pairwise-classification",
          "AS-pairwise-classification",
          "AS-pairwise-classification",
          "AS-pairwise-classification",
          "AS-pairwise-classification",
          "AS-pairwise-classification",
          "AS-pairwise-classification",
          "AS-pairwise-classification"
         ],
         "x0": " ",
         "xaxis": "x",
         "y": [
          0.6235073345227771,
          0,
          0.401467214359529,
          0,
          0,
          0.4530971871980349,
          0.0654879400340502,
          0.0517778696142898,
          0.1994152408842442,
          0.9397058312029783,
          0,
          0.1575489351793417,
          0.0085747248116994,
          0,
          0.0138295786258648,
          0,
          0.0884444802836936,
          0.0143517831497188,
          0,
          0.1523588745671324,
          0,
          0,
          0,
          0.3934200118514984,
          0,
          0,
          0,
          0,
          0,
          0,
          0,
          0,
          0,
          0,
          0.7147572041251071,
          0.1092829261981753,
          0.3792690369156163,
          0.0623696745104634,
          0,
          0.6080746243448475,
          0,
          0,
          0,
          0,
          0,
          0,
          0,
          0,
          0,
          0,
          0,
          0,
          0,
          0,
          0,
          0.1774356505475998,
          0.1474231876015548,
          0,
          0,
          0,
          0.3117494119817154,
          0.049976563701413,
          0,
          0.3322511894923214,
          0,
          0.1060774974770805,
          0,
          0.3179386344224409,
          0.1553063090387489,
          0,
          0,
          0,
          0.2648806825554339,
          0,
          0,
          0,
          0,
          0,
          0,
          0,
          0,
          0,
          0.2951699901507761,
          0,
          0,
          0,
          0,
          0,
          0,
          0,
          0,
          0,
          0,
          0,
          0,
          0,
          0,
          0,
          0,
          0,
          0,
          0,
          0,
          0,
          0,
          0,
          0,
          0,
          0,
          0,
          0,
          0,
          0,
          0,
          0,
          0,
          0,
          0,
          0,
          0,
          0.7486792240785796,
          0.2331042360999008,
          0.1453329948994119,
          0,
          0.2278874583551514,
          3.876391083622956,
          0.0141379784188691,
          0,
          0.0697373749536718,
          0.0721042253479431,
          0.3249200895381708,
          1.425952999617524,
          0,
          0.0129919384596163,
          0.5137994963921801,
          0,
          0.4260439489957136,
          2.777416307806781,
          0.1036661296741913,
          0.914025152024562,
          0,
          0,
          0,
          0,
          0,
          0,
          0,
          0,
          0,
          0,
          0,
          0,
          0,
          0,
          0,
          0,
          0.127362049132049,
          0.0360328691031976,
          0,
          0.0023583096220973,
          0,
          0.5953506939557487,
          0.2850863096583902,
          0.3387975750319398,
          0,
          0,
          0.041501764130023,
          0,
          0.3974170287732308,
          0.5445835306439597,
          0.0832724240572824,
          0,
          0.0368301267783131,
          0.151964040520943,
          0.1492728598005797,
          0.0800626002160163,
          0.0406691919781929,
          0.0851297846883589,
          0.0374547275378771,
          0.0011382708853604,
          0.053769442012947,
          0.0368336338030277,
          0,
          0.0718513822605846,
          0.0380572359625515,
          0.0689135816212975,
          0.093780665256191,
          0.0489850330726207,
          0.0270941222178078,
          0.0414965823031681,
          0,
          0,
          0,
          0,
          0,
          0,
          0,
          0,
          0,
          0,
          0,
          0,
          0,
          0,
          0,
          0,
          0,
          0,
          0,
          1.7491116925582988,
          0,
          0.2231846093690538,
          0.0488917408389418,
          0,
          0.1672035783192342,
          0,
          0,
          0,
          0,
          0.3114129598365341,
          0,
          0.3472410249652127,
          0.4395270667931658,
          0,
          0,
          0.0848787695205335,
          0,
          0,
          0.5396592322950762,
          0,
          0,
          0,
          0,
          0,
          0,
          0,
          0,
          0,
          0,
          0
         ],
         "y0": " ",
         "yaxis": "y"
        },
        {
         "alignmentgroup": "True",
         "hovertemplate": "=%{x}<br>Loss=%{y}<extra></extra>",
         "legendgroup": "AS-regression",
         "marker": {
          "color": "rgb(15, 71, 153)"
         },
         "name": "AS-regression",
         "notched": false,
         "offsetgroup": "AS-regression",
         "orientation": "v",
         "showlegend": true,
         "type": "box",
         "x": [
          "AS-regression",
          "AS-regression",
          "AS-regression",
          "AS-regression",
          "AS-regression",
          "AS-regression",
          "AS-regression",
          "AS-regression",
          "AS-regression",
          "AS-regression",
          "AS-regression",
          "AS-regression",
          "AS-regression",
          "AS-regression",
          "AS-regression",
          "AS-regression",
          "AS-regression",
          "AS-regression",
          "AS-regression",
          "AS-regression",
          "AS-regression",
          "AS-regression",
          "AS-regression",
          "AS-regression",
          "AS-regression",
          "AS-regression",
          "AS-regression",
          "AS-regression",
          "AS-regression",
          "AS-regression",
          "AS-regression",
          "AS-regression",
          "AS-regression",
          "AS-regression",
          "AS-regression",
          "AS-regression",
          "AS-regression",
          "AS-regression",
          "AS-regression",
          "AS-regression",
          "AS-regression",
          "AS-regression",
          "AS-regression",
          "AS-regression",
          "AS-regression",
          "AS-regression",
          "AS-regression",
          "AS-regression",
          "AS-regression",
          "AS-regression",
          "AS-regression",
          "AS-regression",
          "AS-regression",
          "AS-regression",
          "AS-regression",
          "AS-regression",
          "AS-regression",
          "AS-regression",
          "AS-regression",
          "AS-regression",
          "AS-regression",
          "AS-regression",
          "AS-regression",
          "AS-regression",
          "AS-regression",
          "AS-regression",
          "AS-regression",
          "AS-regression",
          "AS-regression",
          "AS-regression",
          "AS-regression",
          "AS-regression",
          "AS-regression",
          "AS-regression",
          "AS-regression",
          "AS-regression",
          "AS-regression",
          "AS-regression",
          "AS-regression",
          "AS-regression",
          "AS-regression",
          "AS-regression",
          "AS-regression",
          "AS-regression",
          "AS-regression",
          "AS-regression",
          "AS-regression",
          "AS-regression",
          "AS-regression",
          "AS-regression",
          "AS-regression",
          "AS-regression",
          "AS-regression",
          "AS-regression",
          "AS-regression",
          "AS-regression",
          "AS-regression",
          "AS-regression",
          "AS-regression",
          "AS-regression",
          "AS-regression",
          "AS-regression",
          "AS-regression",
          "AS-regression",
          "AS-regression",
          "AS-regression",
          "AS-regression",
          "AS-regression",
          "AS-regression",
          "AS-regression",
          "AS-regression",
          "AS-regression",
          "AS-regression",
          "AS-regression",
          "AS-regression",
          "AS-regression",
          "AS-regression",
          "AS-regression",
          "AS-regression",
          "AS-regression",
          "AS-regression",
          "AS-regression",
          "AS-regression",
          "AS-regression",
          "AS-regression",
          "AS-regression",
          "AS-regression",
          "AS-regression",
          "AS-regression",
          "AS-regression",
          "AS-regression",
          "AS-regression",
          "AS-regression",
          "AS-regression",
          "AS-regression",
          "AS-regression",
          "AS-regression",
          "AS-regression",
          "AS-regression",
          "AS-regression",
          "AS-regression",
          "AS-regression",
          "AS-regression",
          "AS-regression",
          "AS-regression",
          "AS-regression",
          "AS-regression",
          "AS-regression",
          "AS-regression",
          "AS-regression",
          "AS-regression",
          "AS-regression",
          "AS-regression",
          "AS-regression",
          "AS-regression",
          "AS-regression",
          "AS-regression",
          "AS-regression",
          "AS-regression",
          "AS-regression",
          "AS-regression",
          "AS-regression",
          "AS-regression",
          "AS-regression",
          "AS-regression",
          "AS-regression",
          "AS-regression",
          "AS-regression",
          "AS-regression",
          "AS-regression",
          "AS-regression",
          "AS-regression",
          "AS-regression",
          "AS-regression",
          "AS-regression",
          "AS-regression",
          "AS-regression",
          "AS-regression",
          "AS-regression",
          "AS-regression",
          "AS-regression",
          "AS-regression",
          "AS-regression",
          "AS-regression",
          "AS-regression",
          "AS-regression",
          "AS-regression",
          "AS-regression",
          "AS-regression",
          "AS-regression",
          "AS-regression",
          "AS-regression",
          "AS-regression",
          "AS-regression",
          "AS-regression",
          "AS-regression",
          "AS-regression",
          "AS-regression",
          "AS-regression",
          "AS-regression",
          "AS-regression",
          "AS-regression",
          "AS-regression",
          "AS-regression",
          "AS-regression",
          "AS-regression",
          "AS-regression",
          "AS-regression",
          "AS-regression",
          "AS-regression",
          "AS-regression",
          "AS-regression",
          "AS-regression",
          "AS-regression",
          "AS-regression",
          "AS-regression",
          "AS-regression",
          "AS-regression",
          "AS-regression",
          "AS-regression",
          "AS-regression",
          "AS-regression",
          "AS-regression",
          "AS-regression",
          "AS-regression",
          "AS-regression",
          "AS-regression",
          "AS-regression",
          "AS-regression",
          "AS-regression",
          "AS-regression",
          "AS-regression",
          "AS-regression",
          "AS-regression",
          "AS-regression",
          "AS-regression",
          "AS-regression",
          "AS-regression",
          "AS-regression",
          "AS-regression"
         ],
         "x0": " ",
         "xaxis": "x",
         "y": [
          0.6243706988908375,
          0.5518947014590383,
          0.3209630606665197,
          1.167984823811226,
          0.0480684819656973,
          0,
          0,
          0.1462086641702908,
          0.1171616057374311,
          0.9397058312029783,
          0.2170073008473347,
          0,
          0.0344792032738241,
          0.2657545423026529,
          0.0138295786258648,
          0,
          0,
          0.1601615789627208,
          0,
          0.0449925473852648,
          0,
          0,
          0,
          0.3934200118514984,
          0,
          0,
          0,
          0.4780752615897963,
          0,
          0,
          0,
          0.0765931861636241,
          0,
          0.7370590063882514,
          0,
          0,
          0,
          0,
          0.2091985940415954,
          0,
          0,
          0,
          0.1120249490722389,
          0,
          0.1597473163608254,
          0,
          0,
          0,
          0.0785940904453093,
          0,
          0.2100642033443456,
          0.0225151826367255,
          0.0021204400992547,
          0.0709869263651805,
          0.1138071439758323,
          0.1090214085748058,
          0.1474231876015548,
          0.0258587318933269,
          0.0345246681482382,
          0.0923147918698215,
          0,
          0,
          0,
          0,
          0,
          0,
          0.0528728331394063,
          0,
          0,
          0,
          0,
          0,
          0.2648806825554339,
          0,
          0,
          0,
          0,
          0,
          0,
          0,
          0,
          0,
          0.2951699901507761,
          0,
          0,
          0,
          0,
          0,
          0,
          0,
          0,
          0,
          0,
          0,
          0,
          0,
          0,
          0,
          0,
          0,
          0,
          0,
          0,
          0,
          0,
          0,
          0,
          0,
          0,
          0,
          0,
          0,
          0,
          0,
          0,
          0,
          0,
          0,
          0,
          0,
          0.7501712540096039,
          0.2331042360999008,
          0.5177223475897308,
          0.0388436271761429,
          0.2278874583551514,
          0,
          0,
          0,
          0.1083937141321475,
          0.0721042253479431,
          0.3249200895381708,
          0,
          0.1712173328346367,
          0.0043348620821638,
          0.5137994963921801,
          1.087517936182124,
          0.0293560150237996,
          0,
          1.0293344260210615,
          0.914025152024562,
          0,
          0,
          0,
          0,
          0,
          0,
          0,
          0,
          0,
          0,
          0.0376093156173753,
          0,
          0,
          0.0848829965289303,
          0.027333870379089,
          0.0865754079631864,
          0.127362049132049,
          0,
          0.0664274843033558,
          0.0124587969639304,
          0,
          0,
          0.2850863096583902,
          0,
          0,
          0.2012727575603019,
          0.4814830737990734,
          0,
          0.3974170287732308,
          0,
          0.0832724240572824,
          0,
          0,
          0.1391980274426252,
          0,
          0.0800626002160163,
          0.3734951919758238,
          0.2681464951391761,
          0.0040577343772898,
          0.0922165015198819,
          0.053769442012947,
          0.0368336338030277,
          0,
          0.0718513822605846,
          0.0380572359625515,
          0.0689135816212975,
          0.0594937194216766,
          0.0489850330726207,
          0,
          0.0414965823031681,
          0,
          0,
          0,
          0,
          0,
          0,
          0,
          0,
          0,
          0,
          0,
          0,
          0,
          0,
          0,
          0,
          0,
          0,
          0,
          1.7491116925582988,
          0.2909566220204668,
          0.2231846093690538,
          0,
          0.110861056142243,
          0.1672035783192342,
          0.2105699935465378,
          0,
          0.4415352165266005,
          0.1775987965327578,
          0.1678272702913676,
          0.2103249279013632,
          0,
          0.4395270667931658,
          0,
          0,
          0.0848787695205335,
          0,
          0,
          0.5396592322950762,
          0,
          0,
          0,
          0,
          0,
          0,
          0,
          0,
          0,
          0,
          0
         ],
         "y0": " ",
         "yaxis": "y"
        }
       ],
       "layout": {
        "autosize": false,
        "boxmode": "overlay",
        "font": {
         "size": 22
        },
        "height": 700,
        "legend": {
         "title": {
          "text": ""
         },
         "tracegroupgap": 0
        },
        "margin": {
         "b": 0,
         "l": 50,
         "pad": 4,
         "r": 50,
         "t": 50
        },
        "showlegend": false,
        "template": {
         "data": {
          "bar": [
           {
            "error_x": {
             "color": "#2a3f5f"
            },
            "error_y": {
             "color": "#2a3f5f"
            },
            "marker": {
             "line": {
              "color": "#E5ECF6",
              "width": 0.5
             },
             "pattern": {
              "fillmode": "overlay",
              "size": 10,
              "solidity": 0.2
             }
            },
            "type": "bar"
           }
          ],
          "barpolar": [
           {
            "marker": {
             "line": {
              "color": "#E5ECF6",
              "width": 0.5
             },
             "pattern": {
              "fillmode": "overlay",
              "size": 10,
              "solidity": 0.2
             }
            },
            "type": "barpolar"
           }
          ],
          "carpet": [
           {
            "aaxis": {
             "endlinecolor": "#2a3f5f",
             "gridcolor": "white",
             "linecolor": "white",
             "minorgridcolor": "white",
             "startlinecolor": "#2a3f5f"
            },
            "baxis": {
             "endlinecolor": "#2a3f5f",
             "gridcolor": "white",
             "linecolor": "white",
             "minorgridcolor": "white",
             "startlinecolor": "#2a3f5f"
            },
            "type": "carpet"
           }
          ],
          "choropleth": [
           {
            "colorbar": {
             "outlinewidth": 0,
             "ticks": ""
            },
            "type": "choropleth"
           }
          ],
          "contour": [
           {
            "colorbar": {
             "outlinewidth": 0,
             "ticks": ""
            },
            "colorscale": [
             [
              0,
              "#0d0887"
             ],
             [
              0.1111111111111111,
              "#46039f"
             ],
             [
              0.2222222222222222,
              "#7201a8"
             ],
             [
              0.3333333333333333,
              "#9c179e"
             ],
             [
              0.4444444444444444,
              "#bd3786"
             ],
             [
              0.5555555555555556,
              "#d8576b"
             ],
             [
              0.6666666666666666,
              "#ed7953"
             ],
             [
              0.7777777777777778,
              "#fb9f3a"
             ],
             [
              0.8888888888888888,
              "#fdca26"
             ],
             [
              1,
              "#f0f921"
             ]
            ],
            "type": "contour"
           }
          ],
          "contourcarpet": [
           {
            "colorbar": {
             "outlinewidth": 0,
             "ticks": ""
            },
            "type": "contourcarpet"
           }
          ],
          "heatmap": [
           {
            "colorbar": {
             "outlinewidth": 0,
             "ticks": ""
            },
            "colorscale": [
             [
              0,
              "#0d0887"
             ],
             [
              0.1111111111111111,
              "#46039f"
             ],
             [
              0.2222222222222222,
              "#7201a8"
             ],
             [
              0.3333333333333333,
              "#9c179e"
             ],
             [
              0.4444444444444444,
              "#bd3786"
             ],
             [
              0.5555555555555556,
              "#d8576b"
             ],
             [
              0.6666666666666666,
              "#ed7953"
             ],
             [
              0.7777777777777778,
              "#fb9f3a"
             ],
             [
              0.8888888888888888,
              "#fdca26"
             ],
             [
              1,
              "#f0f921"
             ]
            ],
            "type": "heatmap"
           }
          ],
          "heatmapgl": [
           {
            "colorbar": {
             "outlinewidth": 0,
             "ticks": ""
            },
            "colorscale": [
             [
              0,
              "#0d0887"
             ],
             [
              0.1111111111111111,
              "#46039f"
             ],
             [
              0.2222222222222222,
              "#7201a8"
             ],
             [
              0.3333333333333333,
              "#9c179e"
             ],
             [
              0.4444444444444444,
              "#bd3786"
             ],
             [
              0.5555555555555556,
              "#d8576b"
             ],
             [
              0.6666666666666666,
              "#ed7953"
             ],
             [
              0.7777777777777778,
              "#fb9f3a"
             ],
             [
              0.8888888888888888,
              "#fdca26"
             ],
             [
              1,
              "#f0f921"
             ]
            ],
            "type": "heatmapgl"
           }
          ],
          "histogram": [
           {
            "marker": {
             "pattern": {
              "fillmode": "overlay",
              "size": 10,
              "solidity": 0.2
             }
            },
            "type": "histogram"
           }
          ],
          "histogram2d": [
           {
            "colorbar": {
             "outlinewidth": 0,
             "ticks": ""
            },
            "colorscale": [
             [
              0,
              "#0d0887"
             ],
             [
              0.1111111111111111,
              "#46039f"
             ],
             [
              0.2222222222222222,
              "#7201a8"
             ],
             [
              0.3333333333333333,
              "#9c179e"
             ],
             [
              0.4444444444444444,
              "#bd3786"
             ],
             [
              0.5555555555555556,
              "#d8576b"
             ],
             [
              0.6666666666666666,
              "#ed7953"
             ],
             [
              0.7777777777777778,
              "#fb9f3a"
             ],
             [
              0.8888888888888888,
              "#fdca26"
             ],
             [
              1,
              "#f0f921"
             ]
            ],
            "type": "histogram2d"
           }
          ],
          "histogram2dcontour": [
           {
            "colorbar": {
             "outlinewidth": 0,
             "ticks": ""
            },
            "colorscale": [
             [
              0,
              "#0d0887"
             ],
             [
              0.1111111111111111,
              "#46039f"
             ],
             [
              0.2222222222222222,
              "#7201a8"
             ],
             [
              0.3333333333333333,
              "#9c179e"
             ],
             [
              0.4444444444444444,
              "#bd3786"
             ],
             [
              0.5555555555555556,
              "#d8576b"
             ],
             [
              0.6666666666666666,
              "#ed7953"
             ],
             [
              0.7777777777777778,
              "#fb9f3a"
             ],
             [
              0.8888888888888888,
              "#fdca26"
             ],
             [
              1,
              "#f0f921"
             ]
            ],
            "type": "histogram2dcontour"
           }
          ],
          "mesh3d": [
           {
            "colorbar": {
             "outlinewidth": 0,
             "ticks": ""
            },
            "type": "mesh3d"
           }
          ],
          "parcoords": [
           {
            "line": {
             "colorbar": {
              "outlinewidth": 0,
              "ticks": ""
             }
            },
            "type": "parcoords"
           }
          ],
          "pie": [
           {
            "automargin": true,
            "type": "pie"
           }
          ],
          "scatter": [
           {
            "fillpattern": {
             "fillmode": "overlay",
             "size": 10,
             "solidity": 0.2
            },
            "type": "scatter"
           }
          ],
          "scatter3d": [
           {
            "line": {
             "colorbar": {
              "outlinewidth": 0,
              "ticks": ""
             }
            },
            "marker": {
             "colorbar": {
              "outlinewidth": 0,
              "ticks": ""
             }
            },
            "type": "scatter3d"
           }
          ],
          "scattercarpet": [
           {
            "marker": {
             "colorbar": {
              "outlinewidth": 0,
              "ticks": ""
             }
            },
            "type": "scattercarpet"
           }
          ],
          "scattergeo": [
           {
            "marker": {
             "colorbar": {
              "outlinewidth": 0,
              "ticks": ""
             }
            },
            "type": "scattergeo"
           }
          ],
          "scattergl": [
           {
            "marker": {
             "colorbar": {
              "outlinewidth": 0,
              "ticks": ""
             }
            },
            "type": "scattergl"
           }
          ],
          "scattermapbox": [
           {
            "marker": {
             "colorbar": {
              "outlinewidth": 0,
              "ticks": ""
             }
            },
            "type": "scattermapbox"
           }
          ],
          "scatterpolar": [
           {
            "marker": {
             "colorbar": {
              "outlinewidth": 0,
              "ticks": ""
             }
            },
            "type": "scatterpolar"
           }
          ],
          "scatterpolargl": [
           {
            "marker": {
             "colorbar": {
              "outlinewidth": 0,
              "ticks": ""
             }
            },
            "type": "scatterpolargl"
           }
          ],
          "scatterternary": [
           {
            "marker": {
             "colorbar": {
              "outlinewidth": 0,
              "ticks": ""
             }
            },
            "type": "scatterternary"
           }
          ],
          "surface": [
           {
            "colorbar": {
             "outlinewidth": 0,
             "ticks": ""
            },
            "colorscale": [
             [
              0,
              "#0d0887"
             ],
             [
              0.1111111111111111,
              "#46039f"
             ],
             [
              0.2222222222222222,
              "#7201a8"
             ],
             [
              0.3333333333333333,
              "#9c179e"
             ],
             [
              0.4444444444444444,
              "#bd3786"
             ],
             [
              0.5555555555555556,
              "#d8576b"
             ],
             [
              0.6666666666666666,
              "#ed7953"
             ],
             [
              0.7777777777777778,
              "#fb9f3a"
             ],
             [
              0.8888888888888888,
              "#fdca26"
             ],
             [
              1,
              "#f0f921"
             ]
            ],
            "type": "surface"
           }
          ],
          "table": [
           {
            "cells": {
             "fill": {
              "color": "#EBF0F8"
             },
             "line": {
              "color": "white"
             }
            },
            "header": {
             "fill": {
              "color": "#C8D4E3"
             },
             "line": {
              "color": "white"
             }
            },
            "type": "table"
           }
          ]
         },
         "layout": {
          "annotationdefaults": {
           "arrowcolor": "#2a3f5f",
           "arrowhead": 0,
           "arrowwidth": 1
          },
          "autotypenumbers": "strict",
          "coloraxis": {
           "colorbar": {
            "outlinewidth": 0,
            "ticks": ""
           }
          },
          "colorscale": {
           "diverging": [
            [
             0,
             "#8e0152"
            ],
            [
             0.1,
             "#c51b7d"
            ],
            [
             0.2,
             "#de77ae"
            ],
            [
             0.3,
             "#f1b6da"
            ],
            [
             0.4,
             "#fde0ef"
            ],
            [
             0.5,
             "#f7f7f7"
            ],
            [
             0.6,
             "#e6f5d0"
            ],
            [
             0.7,
             "#b8e186"
            ],
            [
             0.8,
             "#7fbc41"
            ],
            [
             0.9,
             "#4d9221"
            ],
            [
             1,
             "#276419"
            ]
           ],
           "sequential": [
            [
             0,
             "#0d0887"
            ],
            [
             0.1111111111111111,
             "#46039f"
            ],
            [
             0.2222222222222222,
             "#7201a8"
            ],
            [
             0.3333333333333333,
             "#9c179e"
            ],
            [
             0.4444444444444444,
             "#bd3786"
            ],
            [
             0.5555555555555556,
             "#d8576b"
            ],
            [
             0.6666666666666666,
             "#ed7953"
            ],
            [
             0.7777777777777778,
             "#fb9f3a"
            ],
            [
             0.8888888888888888,
             "#fdca26"
            ],
            [
             1,
             "#f0f921"
            ]
           ],
           "sequentialminus": [
            [
             0,
             "#0d0887"
            ],
            [
             0.1111111111111111,
             "#46039f"
            ],
            [
             0.2222222222222222,
             "#7201a8"
            ],
            [
             0.3333333333333333,
             "#9c179e"
            ],
            [
             0.4444444444444444,
             "#bd3786"
            ],
            [
             0.5555555555555556,
             "#d8576b"
            ],
            [
             0.6666666666666666,
             "#ed7953"
            ],
            [
             0.7777777777777778,
             "#fb9f3a"
            ],
            [
             0.8888888888888888,
             "#fdca26"
            ],
            [
             1,
             "#f0f921"
            ]
           ]
          },
          "colorway": [
           "#636efa",
           "#EF553B",
           "#00cc96",
           "#ab63fa",
           "#FFA15A",
           "#19d3f3",
           "#FF6692",
           "#B6E880",
           "#FF97FF",
           "#FECB52"
          ],
          "font": {
           "color": "#2a3f5f"
          },
          "geo": {
           "bgcolor": "white",
           "lakecolor": "white",
           "landcolor": "#E5ECF6",
           "showlakes": true,
           "showland": true,
           "subunitcolor": "white"
          },
          "hoverlabel": {
           "align": "left"
          },
          "hovermode": "closest",
          "mapbox": {
           "style": "light"
          },
          "paper_bgcolor": "white",
          "plot_bgcolor": "#E5ECF6",
          "polar": {
           "angularaxis": {
            "gridcolor": "white",
            "linecolor": "white",
            "ticks": ""
           },
           "bgcolor": "#E5ECF6",
           "radialaxis": {
            "gridcolor": "white",
            "linecolor": "white",
            "ticks": ""
           }
          },
          "scene": {
           "xaxis": {
            "backgroundcolor": "#E5ECF6",
            "gridcolor": "white",
            "gridwidth": 2,
            "linecolor": "white",
            "showbackground": true,
            "ticks": "",
            "zerolinecolor": "white"
           },
           "yaxis": {
            "backgroundcolor": "#E5ECF6",
            "gridcolor": "white",
            "gridwidth": 2,
            "linecolor": "white",
            "showbackground": true,
            "ticks": "",
            "zerolinecolor": "white"
           },
           "zaxis": {
            "backgroundcolor": "#E5ECF6",
            "gridcolor": "white",
            "gridwidth": 2,
            "linecolor": "white",
            "showbackground": true,
            "ticks": "",
            "zerolinecolor": "white"
           }
          },
          "shapedefaults": {
           "line": {
            "color": "#2a3f5f"
           }
          },
          "ternary": {
           "aaxis": {
            "gridcolor": "white",
            "linecolor": "white",
            "ticks": ""
           },
           "baxis": {
            "gridcolor": "white",
            "linecolor": "white",
            "ticks": ""
           },
           "bgcolor": "#E5ECF6",
           "caxis": {
            "gridcolor": "white",
            "linecolor": "white",
            "ticks": ""
           }
          },
          "title": {
           "x": 0.05
          },
          "xaxis": {
           "automargin": true,
           "gridcolor": "white",
           "linecolor": "white",
           "ticks": "",
           "title": {
            "standoff": 15
           },
           "zerolinecolor": "white",
           "zerolinewidth": 2
          },
          "yaxis": {
           "automargin": true,
           "gridcolor": "white",
           "linecolor": "white",
           "ticks": "",
           "title": {
            "standoff": 15
           },
           "zerolinecolor": "white",
           "zerolinewidth": 2
          }
         }
        },
        "title": {
         "text": "Runtime: 250",
         "x": 0.5
        },
        "width": 1000,
        "xaxis": {
         "anchor": "y",
         "categoryarray": [
          "AS-classification",
          "AS-pairwise-classification",
          "AS-regression"
         ],
         "categoryorder": "array",
         "domain": [
          0,
          1
         ],
         "title": {
          "text": ""
         }
        },
        "yaxis": {
         "anchor": "x",
         "domain": [
          0,
          1
         ],
         "title": {
          "text": "Loss"
         }
        }
       }
      }
     },
     "metadata": {},
     "output_type": "display_data"
    },
    {
     "name": "stdout",
     "output_type": "stream",
     "text": [
      "Runtime: 500\n",
      "Loss classification pairwise sum: AS-pairwise-classification    22.50498\n",
      "dtype: float64\n",
      "Loss classification sum: AS-classification    12.462064\n",
      "dtype: float64\n",
      "Loss regression sum: AS-regression    27.000491\n",
      "dtype: float64\n"
     ]
    },
    {
     "data": {
      "application/vnd.plotly.v1+json": {
       "config": {
        "plotlyServerURL": "https://plot.ly"
       },
       "data": [
        {
         "alignmentgroup": "True",
         "hovertemplate": "=%{x}<br>Loss=%{y}<extra></extra>",
         "legendgroup": "AS-classification",
         "marker": {
          "color": "rgb(41, 24, 107)"
         },
         "name": "AS-classification",
         "notched": false,
         "offsetgroup": "AS-classification",
         "orientation": "v",
         "showlegend": true,
         "type": "box",
         "x": [
          "AS-classification",
          "AS-classification",
          "AS-classification",
          "AS-classification",
          "AS-classification",
          "AS-classification",
          "AS-classification",
          "AS-classification",
          "AS-classification",
          "AS-classification",
          "AS-classification",
          "AS-classification",
          "AS-classification",
          "AS-classification",
          "AS-classification",
          "AS-classification",
          "AS-classification",
          "AS-classification",
          "AS-classification",
          "AS-classification",
          "AS-classification",
          "AS-classification",
          "AS-classification",
          "AS-classification",
          "AS-classification",
          "AS-classification",
          "AS-classification",
          "AS-classification",
          "AS-classification",
          "AS-classification",
          "AS-classification",
          "AS-classification",
          "AS-classification",
          "AS-classification",
          "AS-classification",
          "AS-classification",
          "AS-classification",
          "AS-classification",
          "AS-classification",
          "AS-classification",
          "AS-classification",
          "AS-classification",
          "AS-classification",
          "AS-classification",
          "AS-classification",
          "AS-classification",
          "AS-classification",
          "AS-classification",
          "AS-classification",
          "AS-classification",
          "AS-classification",
          "AS-classification",
          "AS-classification",
          "AS-classification",
          "AS-classification",
          "AS-classification",
          "AS-classification",
          "AS-classification",
          "AS-classification",
          "AS-classification",
          "AS-classification",
          "AS-classification",
          "AS-classification",
          "AS-classification",
          "AS-classification",
          "AS-classification",
          "AS-classification",
          "AS-classification",
          "AS-classification",
          "AS-classification",
          "AS-classification",
          "AS-classification",
          "AS-classification",
          "AS-classification",
          "AS-classification",
          "AS-classification",
          "AS-classification",
          "AS-classification",
          "AS-classification",
          "AS-classification",
          "AS-classification",
          "AS-classification",
          "AS-classification",
          "AS-classification",
          "AS-classification",
          "AS-classification",
          "AS-classification",
          "AS-classification",
          "AS-classification",
          "AS-classification",
          "AS-classification",
          "AS-classification",
          "AS-classification",
          "AS-classification",
          "AS-classification",
          "AS-classification",
          "AS-classification",
          "AS-classification",
          "AS-classification",
          "AS-classification",
          "AS-classification",
          "AS-classification",
          "AS-classification",
          "AS-classification",
          "AS-classification",
          "AS-classification",
          "AS-classification",
          "AS-classification",
          "AS-classification",
          "AS-classification",
          "AS-classification",
          "AS-classification",
          "AS-classification",
          "AS-classification",
          "AS-classification",
          "AS-classification",
          "AS-classification",
          "AS-classification",
          "AS-classification",
          "AS-classification",
          "AS-classification",
          "AS-classification",
          "AS-classification",
          "AS-classification",
          "AS-classification",
          "AS-classification",
          "AS-classification",
          "AS-classification",
          "AS-classification",
          "AS-classification",
          "AS-classification",
          "AS-classification",
          "AS-classification",
          "AS-classification",
          "AS-classification",
          "AS-classification",
          "AS-classification",
          "AS-classification",
          "AS-classification",
          "AS-classification",
          "AS-classification",
          "AS-classification",
          "AS-classification",
          "AS-classification",
          "AS-classification",
          "AS-classification",
          "AS-classification",
          "AS-classification",
          "AS-classification",
          "AS-classification",
          "AS-classification",
          "AS-classification",
          "AS-classification",
          "AS-classification",
          "AS-classification",
          "AS-classification",
          "AS-classification",
          "AS-classification",
          "AS-classification",
          "AS-classification",
          "AS-classification",
          "AS-classification",
          "AS-classification",
          "AS-classification",
          "AS-classification",
          "AS-classification",
          "AS-classification",
          "AS-classification",
          "AS-classification",
          "AS-classification",
          "AS-classification",
          "AS-classification",
          "AS-classification",
          "AS-classification",
          "AS-classification",
          "AS-classification",
          "AS-classification",
          "AS-classification",
          "AS-classification",
          "AS-classification",
          "AS-classification",
          "AS-classification",
          "AS-classification",
          "AS-classification",
          "AS-classification",
          "AS-classification",
          "AS-classification",
          "AS-classification",
          "AS-classification",
          "AS-classification",
          "AS-classification",
          "AS-classification",
          "AS-classification",
          "AS-classification",
          "AS-classification",
          "AS-classification",
          "AS-classification",
          "AS-classification",
          "AS-classification",
          "AS-classification",
          "AS-classification",
          "AS-classification",
          "AS-classification",
          "AS-classification",
          "AS-classification",
          "AS-classification",
          "AS-classification",
          "AS-classification",
          "AS-classification",
          "AS-classification",
          "AS-classification",
          "AS-classification",
          "AS-classification",
          "AS-classification",
          "AS-classification",
          "AS-classification",
          "AS-classification",
          "AS-classification",
          "AS-classification",
          "AS-classification",
          "AS-classification",
          "AS-classification",
          "AS-classification",
          "AS-classification",
          "AS-classification",
          "AS-classification",
          "AS-classification",
          "AS-classification",
          "AS-classification",
          "AS-classification",
          "AS-classification",
          "AS-classification",
          "AS-classification",
          "AS-classification",
          "AS-classification",
          "AS-classification",
          "AS-classification",
          "AS-classification",
          "AS-classification",
          "AS-classification"
         ],
         "x0": " ",
         "xaxis": "x",
         "y": [
          0,
          0,
          0,
          0,
          0,
          0,
          0,
          0.5390031074048944,
          0,
          0,
          0,
          0,
          0,
          0,
          0,
          0,
          0,
          0,
          0,
          0,
          0.3317731155943252,
          0,
          0.1252786409428523,
          0.7687762419513705,
          0.2162654095580539,
          0.0410357732155425,
          0,
          0,
          0.1328597919549922,
          0,
          0,
          0.0485130863684309,
          0.1144923454370562,
          0,
          0.1109744252263157,
          0,
          0,
          0,
          0,
          0.4425589176758932,
          0,
          0,
          0,
          0,
          0,
          0,
          0,
          0,
          0,
          0,
          0,
          0,
          0,
          0,
          0,
          0,
          0,
          0,
          0.0050287753995528,
          0,
          0,
          0,
          0,
          0,
          0,
          0,
          0,
          0,
          0.1916935709478514,
          0,
          0,
          0,
          0.3569727575625501,
          0,
          0,
          0,
          0,
          0,
          0,
          0,
          0,
          0,
          0.206091641687508,
          0,
          0,
          0,
          0,
          0,
          0,
          0,
          0,
          0,
          0,
          0,
          0,
          0,
          0,
          0,
          0,
          0,
          0,
          0,
          0,
          0,
          0,
          0,
          0,
          0,
          0,
          0,
          0.0172367038996578,
          0,
          0.0373900337736751,
          0,
          0.0016651768456495,
          0.0182618566011745,
          0.0172367038996578,
          0.0463329409146003,
          0.0656140923458332,
          0.0239857786835916,
          0.7527028397390407,
          0.210768196794728,
          0.5197294913809041,
          0.5364550921118432,
          0.1986986815413653,
          0,
          0,
          0.1564957074512395,
          0.0039481750002768,
          0,
          0.0606764852188795,
          0,
          0.1222845147088287,
          0,
          0.5282369331457253,
          1.1224280722277071,
          0.000025258255781979155,
          0,
          1.0466919592611814,
          0.9690621375529406,
          0,
          0,
          0,
          0,
          0,
          0,
          0,
          0,
          0,
          0,
          0.00358591752369,
          0,
          0,
          0,
          0,
          0,
          0.0310508649461478,
          0,
          0,
          0,
          0,
          0,
          0,
          0,
          0,
          0,
          0,
          0,
          0,
          0,
          0,
          0,
          0,
          0.2011479222584544,
          0,
          0,
          0.2427912421006959,
          0.0814017596381246,
          0,
          0,
          0,
          0,
          0.0870852411905398,
          0.1670278085389689,
          0.026143633868199,
          0,
          0.220188869643336,
          0,
          0,
          0,
          0,
          0,
          0,
          0,
          0,
          0,
          0,
          0,
          0,
          0,
          0,
          0,
          0,
          0,
          0,
          0,
          0,
          0,
          0.1247323723780693,
          0,
          0,
          0.4002377703746456,
          0,
          0,
          0.2762801876507489,
          0.3479192646399925,
          0,
          0,
          0,
          0,
          0,
          0,
          0,
          0,
          0,
          0.165227027630445,
          0,
          0,
          0,
          0,
          0,
          0,
          0,
          0,
          0,
          0,
          0,
          0,
          0,
          0
         ],
         "y0": " ",
         "yaxis": "y"
        },
        {
         "alignmentgroup": "True",
         "hovertemplate": "=%{x}<br>Loss=%{y}<extra></extra>",
         "legendgroup": "AS-pairwise-classification",
         "marker": {
          "color": "rgb(42, 35, 160)"
         },
         "name": "AS-pairwise-classification",
         "notched": false,
         "offsetgroup": "AS-pairwise-classification",
         "orientation": "v",
         "showlegend": true,
         "type": "box",
         "x": [
          "AS-pairwise-classification",
          "AS-pairwise-classification",
          "AS-pairwise-classification",
          "AS-pairwise-classification",
          "AS-pairwise-classification",
          "AS-pairwise-classification",
          "AS-pairwise-classification",
          "AS-pairwise-classification",
          "AS-pairwise-classification",
          "AS-pairwise-classification",
          "AS-pairwise-classification",
          "AS-pairwise-classification",
          "AS-pairwise-classification",
          "AS-pairwise-classification",
          "AS-pairwise-classification",
          "AS-pairwise-classification",
          "AS-pairwise-classification",
          "AS-pairwise-classification",
          "AS-pairwise-classification",
          "AS-pairwise-classification",
          "AS-pairwise-classification",
          "AS-pairwise-classification",
          "AS-pairwise-classification",
          "AS-pairwise-classification",
          "AS-pairwise-classification",
          "AS-pairwise-classification",
          "AS-pairwise-classification",
          "AS-pairwise-classification",
          "AS-pairwise-classification",
          "AS-pairwise-classification",
          "AS-pairwise-classification",
          "AS-pairwise-classification",
          "AS-pairwise-classification",
          "AS-pairwise-classification",
          "AS-pairwise-classification",
          "AS-pairwise-classification",
          "AS-pairwise-classification",
          "AS-pairwise-classification",
          "AS-pairwise-classification",
          "AS-pairwise-classification",
          "AS-pairwise-classification",
          "AS-pairwise-classification",
          "AS-pairwise-classification",
          "AS-pairwise-classification",
          "AS-pairwise-classification",
          "AS-pairwise-classification",
          "AS-pairwise-classification",
          "AS-pairwise-classification",
          "AS-pairwise-classification",
          "AS-pairwise-classification",
          "AS-pairwise-classification",
          "AS-pairwise-classification",
          "AS-pairwise-classification",
          "AS-pairwise-classification",
          "AS-pairwise-classification",
          "AS-pairwise-classification",
          "AS-pairwise-classification",
          "AS-pairwise-classification",
          "AS-pairwise-classification",
          "AS-pairwise-classification",
          "AS-pairwise-classification",
          "AS-pairwise-classification",
          "AS-pairwise-classification",
          "AS-pairwise-classification",
          "AS-pairwise-classification",
          "AS-pairwise-classification",
          "AS-pairwise-classification",
          "AS-pairwise-classification",
          "AS-pairwise-classification",
          "AS-pairwise-classification",
          "AS-pairwise-classification",
          "AS-pairwise-classification",
          "AS-pairwise-classification",
          "AS-pairwise-classification",
          "AS-pairwise-classification",
          "AS-pairwise-classification",
          "AS-pairwise-classification",
          "AS-pairwise-classification",
          "AS-pairwise-classification",
          "AS-pairwise-classification",
          "AS-pairwise-classification",
          "AS-pairwise-classification",
          "AS-pairwise-classification",
          "AS-pairwise-classification",
          "AS-pairwise-classification",
          "AS-pairwise-classification",
          "AS-pairwise-classification",
          "AS-pairwise-classification",
          "AS-pairwise-classification",
          "AS-pairwise-classification",
          "AS-pairwise-classification",
          "AS-pairwise-classification",
          "AS-pairwise-classification",
          "AS-pairwise-classification",
          "AS-pairwise-classification",
          "AS-pairwise-classification",
          "AS-pairwise-classification",
          "AS-pairwise-classification",
          "AS-pairwise-classification",
          "AS-pairwise-classification",
          "AS-pairwise-classification",
          "AS-pairwise-classification",
          "AS-pairwise-classification",
          "AS-pairwise-classification",
          "AS-pairwise-classification",
          "AS-pairwise-classification",
          "AS-pairwise-classification",
          "AS-pairwise-classification",
          "AS-pairwise-classification",
          "AS-pairwise-classification",
          "AS-pairwise-classification",
          "AS-pairwise-classification",
          "AS-pairwise-classification",
          "AS-pairwise-classification",
          "AS-pairwise-classification",
          "AS-pairwise-classification",
          "AS-pairwise-classification",
          "AS-pairwise-classification",
          "AS-pairwise-classification",
          "AS-pairwise-classification",
          "AS-pairwise-classification",
          "AS-pairwise-classification",
          "AS-pairwise-classification",
          "AS-pairwise-classification",
          "AS-pairwise-classification",
          "AS-pairwise-classification",
          "AS-pairwise-classification",
          "AS-pairwise-classification",
          "AS-pairwise-classification",
          "AS-pairwise-classification",
          "AS-pairwise-classification",
          "AS-pairwise-classification",
          "AS-pairwise-classification",
          "AS-pairwise-classification",
          "AS-pairwise-classification",
          "AS-pairwise-classification",
          "AS-pairwise-classification",
          "AS-pairwise-classification",
          "AS-pairwise-classification",
          "AS-pairwise-classification",
          "AS-pairwise-classification",
          "AS-pairwise-classification",
          "AS-pairwise-classification",
          "AS-pairwise-classification",
          "AS-pairwise-classification",
          "AS-pairwise-classification",
          "AS-pairwise-classification",
          "AS-pairwise-classification",
          "AS-pairwise-classification",
          "AS-pairwise-classification",
          "AS-pairwise-classification",
          "AS-pairwise-classification",
          "AS-pairwise-classification",
          "AS-pairwise-classification",
          "AS-pairwise-classification",
          "AS-pairwise-classification",
          "AS-pairwise-classification",
          "AS-pairwise-classification",
          "AS-pairwise-classification",
          "AS-pairwise-classification",
          "AS-pairwise-classification",
          "AS-pairwise-classification",
          "AS-pairwise-classification",
          "AS-pairwise-classification",
          "AS-pairwise-classification",
          "AS-pairwise-classification",
          "AS-pairwise-classification",
          "AS-pairwise-classification",
          "AS-pairwise-classification",
          "AS-pairwise-classification",
          "AS-pairwise-classification",
          "AS-pairwise-classification",
          "AS-pairwise-classification",
          "AS-pairwise-classification",
          "AS-pairwise-classification",
          "AS-pairwise-classification",
          "AS-pairwise-classification",
          "AS-pairwise-classification",
          "AS-pairwise-classification",
          "AS-pairwise-classification",
          "AS-pairwise-classification",
          "AS-pairwise-classification",
          "AS-pairwise-classification",
          "AS-pairwise-classification",
          "AS-pairwise-classification",
          "AS-pairwise-classification",
          "AS-pairwise-classification",
          "AS-pairwise-classification",
          "AS-pairwise-classification",
          "AS-pairwise-classification",
          "AS-pairwise-classification",
          "AS-pairwise-classification",
          "AS-pairwise-classification",
          "AS-pairwise-classification",
          "AS-pairwise-classification",
          "AS-pairwise-classification",
          "AS-pairwise-classification",
          "AS-pairwise-classification",
          "AS-pairwise-classification",
          "AS-pairwise-classification",
          "AS-pairwise-classification",
          "AS-pairwise-classification",
          "AS-pairwise-classification",
          "AS-pairwise-classification",
          "AS-pairwise-classification",
          "AS-pairwise-classification",
          "AS-pairwise-classification",
          "AS-pairwise-classification",
          "AS-pairwise-classification",
          "AS-pairwise-classification",
          "AS-pairwise-classification",
          "AS-pairwise-classification",
          "AS-pairwise-classification",
          "AS-pairwise-classification",
          "AS-pairwise-classification",
          "AS-pairwise-classification",
          "AS-pairwise-classification",
          "AS-pairwise-classification",
          "AS-pairwise-classification",
          "AS-pairwise-classification",
          "AS-pairwise-classification",
          "AS-pairwise-classification",
          "AS-pairwise-classification",
          "AS-pairwise-classification",
          "AS-pairwise-classification",
          "AS-pairwise-classification",
          "AS-pairwise-classification",
          "AS-pairwise-classification",
          "AS-pairwise-classification",
          "AS-pairwise-classification",
          "AS-pairwise-classification",
          "AS-pairwise-classification",
          "AS-pairwise-classification",
          "AS-pairwise-classification",
          "AS-pairwise-classification",
          "AS-pairwise-classification",
          "AS-pairwise-classification",
          "AS-pairwise-classification",
          "AS-pairwise-classification",
          "AS-pairwise-classification"
         ],
         "x0": " ",
         "xaxis": "x",
         "y": [
          0,
          0,
          0,
          0,
          0,
          0,
          0,
          0.5390031074048944,
          0,
          0,
          0,
          0,
          0,
          0,
          0,
          0,
          0,
          0,
          0,
          0,
          0.3317731155943252,
          0.8329435799187268,
          0.1252786409428523,
          0.7687762419513705,
          0,
          0.2258187768777645,
          0,
          0,
          0.1328597919549922,
          0,
          0,
          0.0485130863684309,
          0.1144923454370562,
          0,
          0.1109744252263157,
          0,
          0,
          0,
          0,
          0.4425589176758932,
          0,
          0,
          0,
          0,
          0,
          0,
          0,
          0,
          0,
          0,
          0,
          0,
          0,
          0,
          0,
          0,
          0,
          0,
          0.0050287753995528,
          0,
          0,
          0,
          0,
          0,
          0,
          0,
          0,
          0,
          0.1916935709478514,
          0,
          0,
          0,
          0.3569727575625501,
          0,
          0,
          0,
          0,
          0,
          0,
          0,
          0,
          0,
          0.206091641687508,
          0,
          0,
          0,
          0,
          0,
          0,
          0,
          0,
          0,
          0,
          0,
          0,
          0,
          0,
          0,
          0,
          0,
          0,
          0,
          0,
          0,
          0,
          0,
          0,
          0,
          0,
          0,
          0.0172367038996578,
          0.001621137546571,
          0,
          0,
          0.0016651768456495,
          0.0182618566011745,
          0.0172367038996578,
          0.0463329409146003,
          0.0656140923458332,
          0.0239857786835916,
          0.2534114696619474,
          0.210768196794728,
          0.1192823899922411,
          0,
          0.1986986815413653,
          0,
          0.1305458076525794,
          0.0231111929544262,
          0.0039481750002768,
          0,
          0.0606764852188795,
          5.495327936897146,
          0.1222845147088287,
          0.0039702338122699,
          0.5282369331457253,
          0,
          0.2713911351709162,
          0,
          1.0466919592611814,
          0.9690621375529406,
          0,
          0,
          0,
          0,
          0,
          0,
          0,
          0,
          0,
          0,
          0.00358591752369,
          0,
          0,
          0,
          0,
          0,
          0.0310508649461478,
          0,
          0,
          0,
          0.9182901250135038,
          0,
          1.5640643942371435,
          0,
          0,
          0,
          0.8734824765984377,
          0,
          0.6749652874436606,
          0.6883606014549708,
          0.2685695019639357,
          0,
          0,
          0.2011479222584544,
          0,
          0,
          0.2427912421006959,
          0.0814017596381246,
          0,
          0,
          0,
          0,
          0.0870852411905398,
          0.0850690256350044,
          0.026143633868199,
          0.0476181692582389,
          0.1842326031476642,
          0.0474494557272499,
          0.0477648671393359,
          0,
          0,
          0,
          0,
          0,
          0,
          0,
          0,
          0,
          0,
          0,
          0,
          0,
          0,
          0,
          0,
          0,
          0,
          0,
          0.1247323723780693,
          0,
          0,
          0.4002377703746456,
          0,
          0,
          0.2762801876507489,
          0.3479192646399925,
          0,
          0,
          0,
          0,
          0,
          0.2795999007466002,
          0.2494519843129742,
          0,
          0,
          0.165227027630445,
          0,
          0,
          0.5263180233188613,
          0,
          0,
          0,
          0,
          0,
          0,
          0,
          0,
          0,
          0,
          0
         ],
         "y0": " ",
         "yaxis": "y"
        },
        {
         "alignmentgroup": "True",
         "hovertemplate": "=%{x}<br>Loss=%{y}<extra></extra>",
         "legendgroup": "AS-regression",
         "marker": {
          "color": "rgb(15, 71, 153)"
         },
         "name": "AS-regression",
         "notched": false,
         "offsetgroup": "AS-regression",
         "orientation": "v",
         "showlegend": true,
         "type": "box",
         "x": [
          "AS-regression",
          "AS-regression",
          "AS-regression",
          "AS-regression",
          "AS-regression",
          "AS-regression",
          "AS-regression",
          "AS-regression",
          "AS-regression",
          "AS-regression",
          "AS-regression",
          "AS-regression",
          "AS-regression",
          "AS-regression",
          "AS-regression",
          "AS-regression",
          "AS-regression",
          "AS-regression",
          "AS-regression",
          "AS-regression",
          "AS-regression",
          "AS-regression",
          "AS-regression",
          "AS-regression",
          "AS-regression",
          "AS-regression",
          "AS-regression",
          "AS-regression",
          "AS-regression",
          "AS-regression",
          "AS-regression",
          "AS-regression",
          "AS-regression",
          "AS-regression",
          "AS-regression",
          "AS-regression",
          "AS-regression",
          "AS-regression",
          "AS-regression",
          "AS-regression",
          "AS-regression",
          "AS-regression",
          "AS-regression",
          "AS-regression",
          "AS-regression",
          "AS-regression",
          "AS-regression",
          "AS-regression",
          "AS-regression",
          "AS-regression",
          "AS-regression",
          "AS-regression",
          "AS-regression",
          "AS-regression",
          "AS-regression",
          "AS-regression",
          "AS-regression",
          "AS-regression",
          "AS-regression",
          "AS-regression",
          "AS-regression",
          "AS-regression",
          "AS-regression",
          "AS-regression",
          "AS-regression",
          "AS-regression",
          "AS-regression",
          "AS-regression",
          "AS-regression",
          "AS-regression",
          "AS-regression",
          "AS-regression",
          "AS-regression",
          "AS-regression",
          "AS-regression",
          "AS-regression",
          "AS-regression",
          "AS-regression",
          "AS-regression",
          "AS-regression",
          "AS-regression",
          "AS-regression",
          "AS-regression",
          "AS-regression",
          "AS-regression",
          "AS-regression",
          "AS-regression",
          "AS-regression",
          "AS-regression",
          "AS-regression",
          "AS-regression",
          "AS-regression",
          "AS-regression",
          "AS-regression",
          "AS-regression",
          "AS-regression",
          "AS-regression",
          "AS-regression",
          "AS-regression",
          "AS-regression",
          "AS-regression",
          "AS-regression",
          "AS-regression",
          "AS-regression",
          "AS-regression",
          "AS-regression",
          "AS-regression",
          "AS-regression",
          "AS-regression",
          "AS-regression",
          "AS-regression",
          "AS-regression",
          "AS-regression",
          "AS-regression",
          "AS-regression",
          "AS-regression",
          "AS-regression",
          "AS-regression",
          "AS-regression",
          "AS-regression",
          "AS-regression",
          "AS-regression",
          "AS-regression",
          "AS-regression",
          "AS-regression",
          "AS-regression",
          "AS-regression",
          "AS-regression",
          "AS-regression",
          "AS-regression",
          "AS-regression",
          "AS-regression",
          "AS-regression",
          "AS-regression",
          "AS-regression",
          "AS-regression",
          "AS-regression",
          "AS-regression",
          "AS-regression",
          "AS-regression",
          "AS-regression",
          "AS-regression",
          "AS-regression",
          "AS-regression",
          "AS-regression",
          "AS-regression",
          "AS-regression",
          "AS-regression",
          "AS-regression",
          "AS-regression",
          "AS-regression",
          "AS-regression",
          "AS-regression",
          "AS-regression",
          "AS-regression",
          "AS-regression",
          "AS-regression",
          "AS-regression",
          "AS-regression",
          "AS-regression",
          "AS-regression",
          "AS-regression",
          "AS-regression",
          "AS-regression",
          "AS-regression",
          "AS-regression",
          "AS-regression",
          "AS-regression",
          "AS-regression",
          "AS-regression",
          "AS-regression",
          "AS-regression",
          "AS-regression",
          "AS-regression",
          "AS-regression",
          "AS-regression",
          "AS-regression",
          "AS-regression",
          "AS-regression",
          "AS-regression",
          "AS-regression",
          "AS-regression",
          "AS-regression",
          "AS-regression",
          "AS-regression",
          "AS-regression",
          "AS-regression",
          "AS-regression",
          "AS-regression",
          "AS-regression",
          "AS-regression",
          "AS-regression",
          "AS-regression",
          "AS-regression",
          "AS-regression",
          "AS-regression",
          "AS-regression",
          "AS-regression",
          "AS-regression",
          "AS-regression",
          "AS-regression",
          "AS-regression",
          "AS-regression",
          "AS-regression",
          "AS-regression",
          "AS-regression",
          "AS-regression",
          "AS-regression",
          "AS-regression",
          "AS-regression",
          "AS-regression",
          "AS-regression",
          "AS-regression",
          "AS-regression",
          "AS-regression",
          "AS-regression",
          "AS-regression",
          "AS-regression",
          "AS-regression",
          "AS-regression",
          "AS-regression",
          "AS-regression",
          "AS-regression",
          "AS-regression",
          "AS-regression",
          "AS-regression",
          "AS-regression",
          "AS-regression",
          "AS-regression",
          "AS-regression",
          "AS-regression",
          "AS-regression",
          "AS-regression",
          "AS-regression",
          "AS-regression",
          "AS-regression",
          "AS-regression",
          "AS-regression",
          "AS-regression",
          "AS-regression"
         ],
         "x0": " ",
         "xaxis": "x",
         "y": [
          0,
          0,
          0,
          1.1280566955048184,
          0,
          0,
          0,
          0.5390031074048944,
          0,
          0,
          0,
          0,
          0,
          0,
          0,
          0,
          0,
          0,
          0,
          0,
          0.3317731155943252,
          0.8329435799187268,
          0,
          0.8332392870332865,
          0.6670694572651652,
          0,
          0,
          0.3686679187480128,
          0.1328597919549922,
          0.5585000423048957,
          0,
          0.0485130863684309,
          0.6594261862677483,
          0.1494582550651028,
          0.1109744252263157,
          0,
          0,
          0,
          0,
          0.4425589176758932,
          0,
          0,
          0.2366780048443111,
          0.6219123804954352,
          0,
          0,
          0.7572214001741866,
          0,
          0.2812421073601032,
          0.4855699243424132,
          0,
          0.1232086204810194,
          0.0671898882427279,
          0,
          0,
          0.1100444880404771,
          0.1082483183338659,
          0,
          0.0050287753995528,
          0,
          0,
          0,
          0,
          0,
          0,
          0,
          0,
          0,
          0.1916935709478514,
          0,
          0,
          0,
          0.3569727575625501,
          0,
          0,
          0,
          0,
          0,
          0,
          0,
          0,
          0,
          0.206091641687508,
          0,
          0,
          0,
          0,
          0,
          0,
          0,
          0,
          0,
          0,
          0,
          0,
          0,
          0,
          0,
          0,
          0,
          0,
          0,
          0,
          0,
          0,
          0,
          0,
          0,
          0,
          0,
          0.0172367038996578,
          0,
          0,
          0,
          0,
          0.015797348617714,
          0.0172367038996578,
          0.0463329409146003,
          0.0656140923458332,
          0.0239857786835916,
          0.7527028397390407,
          0.000001818113424603696,
          0.5197294913809041,
          0.5364550921118432,
          0,
          2.307952529773772,
          0,
          0.0231111929544262,
          0.4475857918731356,
          0.4611097637750288,
          0.0606764852188795,
          0,
          0.1222845147088287,
          0,
          0.5282369331457253,
          1.1224280722277071,
          0.000025258255781979155,
          0,
          1.0466919592611814,
          0.9690621375529406,
          0.1737847522704432,
          0,
          0.2538167726316866,
          0,
          0,
          0.0562802763908124,
          0.2773958590669406,
          0.1313231210857115,
          0.2362285642993699,
          0.1342454916540119,
          0.00358591752369,
          0,
          0,
          0,
          0.129741267009992,
          0,
          0.0310508649461478,
          0.0029161955172987,
          0.0480948769356071,
          0,
          0,
          0,
          0,
          0,
          0,
          0,
          0,
          0,
          0,
          0,
          0,
          0,
          0.0826789684193723,
          0.2011479222584544,
          0,
          0.1468582487393608,
          0.2427912421006959,
          0.1247926242133077,
          0.0324782040084448,
          0.1381498872507374,
          0.1036305760744031,
          0.088288753672137,
          0.0037615693819497,
          0.0850690256350044,
          0.0165414413118907,
          0,
          0.1842326031476642,
          0.0474494557272499,
          0.0477648671393359,
          0.1360055685599108,
          0,
          0,
          0,
          0,
          0,
          0,
          0,
          0,
          0,
          0,
          0,
          0,
          0,
          0,
          0,
          0,
          0,
          0,
          0.7111042240080563,
          0,
          0.0310775661617608,
          0,
          0.1579378980102468,
          0.0746689845742309,
          0.2762801876507489,
          0,
          0,
          0.6360611550309403,
          0.0439011656534741,
          0.0234498032729036,
          0.275656980315367,
          0.4163985810070836,
          0.2494519843129742,
          0,
          0,
          0,
          0.3208974297494587,
          0,
          0.492062106462569,
          0.283470994427179,
          0,
          0,
          0,
          0,
          0,
          0,
          0,
          0,
          0.4095638297218582,
          0
         ],
         "y0": " ",
         "yaxis": "y"
        }
       ],
       "layout": {
        "autosize": false,
        "boxmode": "overlay",
        "font": {
         "size": 22
        },
        "height": 700,
        "legend": {
         "title": {
          "text": ""
         },
         "tracegroupgap": 0
        },
        "margin": {
         "b": 0,
         "l": 50,
         "pad": 4,
         "r": 50,
         "t": 50
        },
        "showlegend": false,
        "template": {
         "data": {
          "bar": [
           {
            "error_x": {
             "color": "#2a3f5f"
            },
            "error_y": {
             "color": "#2a3f5f"
            },
            "marker": {
             "line": {
              "color": "#E5ECF6",
              "width": 0.5
             },
             "pattern": {
              "fillmode": "overlay",
              "size": 10,
              "solidity": 0.2
             }
            },
            "type": "bar"
           }
          ],
          "barpolar": [
           {
            "marker": {
             "line": {
              "color": "#E5ECF6",
              "width": 0.5
             },
             "pattern": {
              "fillmode": "overlay",
              "size": 10,
              "solidity": 0.2
             }
            },
            "type": "barpolar"
           }
          ],
          "carpet": [
           {
            "aaxis": {
             "endlinecolor": "#2a3f5f",
             "gridcolor": "white",
             "linecolor": "white",
             "minorgridcolor": "white",
             "startlinecolor": "#2a3f5f"
            },
            "baxis": {
             "endlinecolor": "#2a3f5f",
             "gridcolor": "white",
             "linecolor": "white",
             "minorgridcolor": "white",
             "startlinecolor": "#2a3f5f"
            },
            "type": "carpet"
           }
          ],
          "choropleth": [
           {
            "colorbar": {
             "outlinewidth": 0,
             "ticks": ""
            },
            "type": "choropleth"
           }
          ],
          "contour": [
           {
            "colorbar": {
             "outlinewidth": 0,
             "ticks": ""
            },
            "colorscale": [
             [
              0,
              "#0d0887"
             ],
             [
              0.1111111111111111,
              "#46039f"
             ],
             [
              0.2222222222222222,
              "#7201a8"
             ],
             [
              0.3333333333333333,
              "#9c179e"
             ],
             [
              0.4444444444444444,
              "#bd3786"
             ],
             [
              0.5555555555555556,
              "#d8576b"
             ],
             [
              0.6666666666666666,
              "#ed7953"
             ],
             [
              0.7777777777777778,
              "#fb9f3a"
             ],
             [
              0.8888888888888888,
              "#fdca26"
             ],
             [
              1,
              "#f0f921"
             ]
            ],
            "type": "contour"
           }
          ],
          "contourcarpet": [
           {
            "colorbar": {
             "outlinewidth": 0,
             "ticks": ""
            },
            "type": "contourcarpet"
           }
          ],
          "heatmap": [
           {
            "colorbar": {
             "outlinewidth": 0,
             "ticks": ""
            },
            "colorscale": [
             [
              0,
              "#0d0887"
             ],
             [
              0.1111111111111111,
              "#46039f"
             ],
             [
              0.2222222222222222,
              "#7201a8"
             ],
             [
              0.3333333333333333,
              "#9c179e"
             ],
             [
              0.4444444444444444,
              "#bd3786"
             ],
             [
              0.5555555555555556,
              "#d8576b"
             ],
             [
              0.6666666666666666,
              "#ed7953"
             ],
             [
              0.7777777777777778,
              "#fb9f3a"
             ],
             [
              0.8888888888888888,
              "#fdca26"
             ],
             [
              1,
              "#f0f921"
             ]
            ],
            "type": "heatmap"
           }
          ],
          "heatmapgl": [
           {
            "colorbar": {
             "outlinewidth": 0,
             "ticks": ""
            },
            "colorscale": [
             [
              0,
              "#0d0887"
             ],
             [
              0.1111111111111111,
              "#46039f"
             ],
             [
              0.2222222222222222,
              "#7201a8"
             ],
             [
              0.3333333333333333,
              "#9c179e"
             ],
             [
              0.4444444444444444,
              "#bd3786"
             ],
             [
              0.5555555555555556,
              "#d8576b"
             ],
             [
              0.6666666666666666,
              "#ed7953"
             ],
             [
              0.7777777777777778,
              "#fb9f3a"
             ],
             [
              0.8888888888888888,
              "#fdca26"
             ],
             [
              1,
              "#f0f921"
             ]
            ],
            "type": "heatmapgl"
           }
          ],
          "histogram": [
           {
            "marker": {
             "pattern": {
              "fillmode": "overlay",
              "size": 10,
              "solidity": 0.2
             }
            },
            "type": "histogram"
           }
          ],
          "histogram2d": [
           {
            "colorbar": {
             "outlinewidth": 0,
             "ticks": ""
            },
            "colorscale": [
             [
              0,
              "#0d0887"
             ],
             [
              0.1111111111111111,
              "#46039f"
             ],
             [
              0.2222222222222222,
              "#7201a8"
             ],
             [
              0.3333333333333333,
              "#9c179e"
             ],
             [
              0.4444444444444444,
              "#bd3786"
             ],
             [
              0.5555555555555556,
              "#d8576b"
             ],
             [
              0.6666666666666666,
              "#ed7953"
             ],
             [
              0.7777777777777778,
              "#fb9f3a"
             ],
             [
              0.8888888888888888,
              "#fdca26"
             ],
             [
              1,
              "#f0f921"
             ]
            ],
            "type": "histogram2d"
           }
          ],
          "histogram2dcontour": [
           {
            "colorbar": {
             "outlinewidth": 0,
             "ticks": ""
            },
            "colorscale": [
             [
              0,
              "#0d0887"
             ],
             [
              0.1111111111111111,
              "#46039f"
             ],
             [
              0.2222222222222222,
              "#7201a8"
             ],
             [
              0.3333333333333333,
              "#9c179e"
             ],
             [
              0.4444444444444444,
              "#bd3786"
             ],
             [
              0.5555555555555556,
              "#d8576b"
             ],
             [
              0.6666666666666666,
              "#ed7953"
             ],
             [
              0.7777777777777778,
              "#fb9f3a"
             ],
             [
              0.8888888888888888,
              "#fdca26"
             ],
             [
              1,
              "#f0f921"
             ]
            ],
            "type": "histogram2dcontour"
           }
          ],
          "mesh3d": [
           {
            "colorbar": {
             "outlinewidth": 0,
             "ticks": ""
            },
            "type": "mesh3d"
           }
          ],
          "parcoords": [
           {
            "line": {
             "colorbar": {
              "outlinewidth": 0,
              "ticks": ""
             }
            },
            "type": "parcoords"
           }
          ],
          "pie": [
           {
            "automargin": true,
            "type": "pie"
           }
          ],
          "scatter": [
           {
            "fillpattern": {
             "fillmode": "overlay",
             "size": 10,
             "solidity": 0.2
            },
            "type": "scatter"
           }
          ],
          "scatter3d": [
           {
            "line": {
             "colorbar": {
              "outlinewidth": 0,
              "ticks": ""
             }
            },
            "marker": {
             "colorbar": {
              "outlinewidth": 0,
              "ticks": ""
             }
            },
            "type": "scatter3d"
           }
          ],
          "scattercarpet": [
           {
            "marker": {
             "colorbar": {
              "outlinewidth": 0,
              "ticks": ""
             }
            },
            "type": "scattercarpet"
           }
          ],
          "scattergeo": [
           {
            "marker": {
             "colorbar": {
              "outlinewidth": 0,
              "ticks": ""
             }
            },
            "type": "scattergeo"
           }
          ],
          "scattergl": [
           {
            "marker": {
             "colorbar": {
              "outlinewidth": 0,
              "ticks": ""
             }
            },
            "type": "scattergl"
           }
          ],
          "scattermapbox": [
           {
            "marker": {
             "colorbar": {
              "outlinewidth": 0,
              "ticks": ""
             }
            },
            "type": "scattermapbox"
           }
          ],
          "scatterpolar": [
           {
            "marker": {
             "colorbar": {
              "outlinewidth": 0,
              "ticks": ""
             }
            },
            "type": "scatterpolar"
           }
          ],
          "scatterpolargl": [
           {
            "marker": {
             "colorbar": {
              "outlinewidth": 0,
              "ticks": ""
             }
            },
            "type": "scatterpolargl"
           }
          ],
          "scatterternary": [
           {
            "marker": {
             "colorbar": {
              "outlinewidth": 0,
              "ticks": ""
             }
            },
            "type": "scatterternary"
           }
          ],
          "surface": [
           {
            "colorbar": {
             "outlinewidth": 0,
             "ticks": ""
            },
            "colorscale": [
             [
              0,
              "#0d0887"
             ],
             [
              0.1111111111111111,
              "#46039f"
             ],
             [
              0.2222222222222222,
              "#7201a8"
             ],
             [
              0.3333333333333333,
              "#9c179e"
             ],
             [
              0.4444444444444444,
              "#bd3786"
             ],
             [
              0.5555555555555556,
              "#d8576b"
             ],
             [
              0.6666666666666666,
              "#ed7953"
             ],
             [
              0.7777777777777778,
              "#fb9f3a"
             ],
             [
              0.8888888888888888,
              "#fdca26"
             ],
             [
              1,
              "#f0f921"
             ]
            ],
            "type": "surface"
           }
          ],
          "table": [
           {
            "cells": {
             "fill": {
              "color": "#EBF0F8"
             },
             "line": {
              "color": "white"
             }
            },
            "header": {
             "fill": {
              "color": "#C8D4E3"
             },
             "line": {
              "color": "white"
             }
            },
            "type": "table"
           }
          ]
         },
         "layout": {
          "annotationdefaults": {
           "arrowcolor": "#2a3f5f",
           "arrowhead": 0,
           "arrowwidth": 1
          },
          "autotypenumbers": "strict",
          "coloraxis": {
           "colorbar": {
            "outlinewidth": 0,
            "ticks": ""
           }
          },
          "colorscale": {
           "diverging": [
            [
             0,
             "#8e0152"
            ],
            [
             0.1,
             "#c51b7d"
            ],
            [
             0.2,
             "#de77ae"
            ],
            [
             0.3,
             "#f1b6da"
            ],
            [
             0.4,
             "#fde0ef"
            ],
            [
             0.5,
             "#f7f7f7"
            ],
            [
             0.6,
             "#e6f5d0"
            ],
            [
             0.7,
             "#b8e186"
            ],
            [
             0.8,
             "#7fbc41"
            ],
            [
             0.9,
             "#4d9221"
            ],
            [
             1,
             "#276419"
            ]
           ],
           "sequential": [
            [
             0,
             "#0d0887"
            ],
            [
             0.1111111111111111,
             "#46039f"
            ],
            [
             0.2222222222222222,
             "#7201a8"
            ],
            [
             0.3333333333333333,
             "#9c179e"
            ],
            [
             0.4444444444444444,
             "#bd3786"
            ],
            [
             0.5555555555555556,
             "#d8576b"
            ],
            [
             0.6666666666666666,
             "#ed7953"
            ],
            [
             0.7777777777777778,
             "#fb9f3a"
            ],
            [
             0.8888888888888888,
             "#fdca26"
            ],
            [
             1,
             "#f0f921"
            ]
           ],
           "sequentialminus": [
            [
             0,
             "#0d0887"
            ],
            [
             0.1111111111111111,
             "#46039f"
            ],
            [
             0.2222222222222222,
             "#7201a8"
            ],
            [
             0.3333333333333333,
             "#9c179e"
            ],
            [
             0.4444444444444444,
             "#bd3786"
            ],
            [
             0.5555555555555556,
             "#d8576b"
            ],
            [
             0.6666666666666666,
             "#ed7953"
            ],
            [
             0.7777777777777778,
             "#fb9f3a"
            ],
            [
             0.8888888888888888,
             "#fdca26"
            ],
            [
             1,
             "#f0f921"
            ]
           ]
          },
          "colorway": [
           "#636efa",
           "#EF553B",
           "#00cc96",
           "#ab63fa",
           "#FFA15A",
           "#19d3f3",
           "#FF6692",
           "#B6E880",
           "#FF97FF",
           "#FECB52"
          ],
          "font": {
           "color": "#2a3f5f"
          },
          "geo": {
           "bgcolor": "white",
           "lakecolor": "white",
           "landcolor": "#E5ECF6",
           "showlakes": true,
           "showland": true,
           "subunitcolor": "white"
          },
          "hoverlabel": {
           "align": "left"
          },
          "hovermode": "closest",
          "mapbox": {
           "style": "light"
          },
          "paper_bgcolor": "white",
          "plot_bgcolor": "#E5ECF6",
          "polar": {
           "angularaxis": {
            "gridcolor": "white",
            "linecolor": "white",
            "ticks": ""
           },
           "bgcolor": "#E5ECF6",
           "radialaxis": {
            "gridcolor": "white",
            "linecolor": "white",
            "ticks": ""
           }
          },
          "scene": {
           "xaxis": {
            "backgroundcolor": "#E5ECF6",
            "gridcolor": "white",
            "gridwidth": 2,
            "linecolor": "white",
            "showbackground": true,
            "ticks": "",
            "zerolinecolor": "white"
           },
           "yaxis": {
            "backgroundcolor": "#E5ECF6",
            "gridcolor": "white",
            "gridwidth": 2,
            "linecolor": "white",
            "showbackground": true,
            "ticks": "",
            "zerolinecolor": "white"
           },
           "zaxis": {
            "backgroundcolor": "#E5ECF6",
            "gridcolor": "white",
            "gridwidth": 2,
            "linecolor": "white",
            "showbackground": true,
            "ticks": "",
            "zerolinecolor": "white"
           }
          },
          "shapedefaults": {
           "line": {
            "color": "#2a3f5f"
           }
          },
          "ternary": {
           "aaxis": {
            "gridcolor": "white",
            "linecolor": "white",
            "ticks": ""
           },
           "baxis": {
            "gridcolor": "white",
            "linecolor": "white",
            "ticks": ""
           },
           "bgcolor": "#E5ECF6",
           "caxis": {
            "gridcolor": "white",
            "linecolor": "white",
            "ticks": ""
           }
          },
          "title": {
           "x": 0.05
          },
          "xaxis": {
           "automargin": true,
           "gridcolor": "white",
           "linecolor": "white",
           "ticks": "",
           "title": {
            "standoff": 15
           },
           "zerolinecolor": "white",
           "zerolinewidth": 2
          },
          "yaxis": {
           "automargin": true,
           "gridcolor": "white",
           "linecolor": "white",
           "ticks": "",
           "title": {
            "standoff": 15
           },
           "zerolinecolor": "white",
           "zerolinewidth": 2
          }
         }
        },
        "title": {
         "text": "Runtime: 500",
         "x": 0.5
        },
        "width": 1000,
        "xaxis": {
         "anchor": "y",
         "categoryarray": [
          "AS-classification",
          "AS-pairwise-classification",
          "AS-regression"
         ],
         "categoryorder": "array",
         "domain": [
          0,
          1
         ],
         "title": {
          "text": ""
         }
        },
        "yaxis": {
         "anchor": "x",
         "domain": [
          0,
          1
         ],
         "title": {
          "text": "Loss"
         }
        }
       }
      }
     },
     "metadata": {},
     "output_type": "display_data"
    },
    {
     "name": "stdout",
     "output_type": "stream",
     "text": [
      "Runtime: 1000\n",
      "Loss classification pairwise sum: AS-pairwise-classification    58.135684\n",
      "dtype: float64\n",
      "Loss classification sum: AS-classification    36.521397\n",
      "dtype: float64\n",
      "Loss regression sum: AS-regression    37.722823\n",
      "dtype: float64\n"
     ]
    },
    {
     "data": {
      "application/vnd.plotly.v1+json": {
       "config": {
        "plotlyServerURL": "https://plot.ly"
       },
       "data": [
        {
         "alignmentgroup": "True",
         "hovertemplate": "=%{x}<br>Loss=%{y}<extra></extra>",
         "legendgroup": "AS-classification",
         "marker": {
          "color": "rgb(41, 24, 107)"
         },
         "name": "AS-classification",
         "notched": false,
         "offsetgroup": "AS-classification",
         "orientation": "v",
         "showlegend": true,
         "type": "box",
         "x": [
          "AS-classification",
          "AS-classification",
          "AS-classification",
          "AS-classification",
          "AS-classification",
          "AS-classification",
          "AS-classification",
          "AS-classification",
          "AS-classification",
          "AS-classification",
          "AS-classification",
          "AS-classification",
          "AS-classification",
          "AS-classification",
          "AS-classification",
          "AS-classification",
          "AS-classification",
          "AS-classification",
          "AS-classification",
          "AS-classification",
          "AS-classification",
          "AS-classification",
          "AS-classification",
          "AS-classification",
          "AS-classification",
          "AS-classification",
          "AS-classification",
          "AS-classification",
          "AS-classification",
          "AS-classification",
          "AS-classification",
          "AS-classification",
          "AS-classification",
          "AS-classification",
          "AS-classification",
          "AS-classification",
          "AS-classification",
          "AS-classification",
          "AS-classification",
          "AS-classification",
          "AS-classification",
          "AS-classification",
          "AS-classification",
          "AS-classification",
          "AS-classification",
          "AS-classification",
          "AS-classification",
          "AS-classification",
          "AS-classification",
          "AS-classification",
          "AS-classification",
          "AS-classification",
          "AS-classification",
          "AS-classification",
          "AS-classification",
          "AS-classification",
          "AS-classification",
          "AS-classification",
          "AS-classification",
          "AS-classification",
          "AS-classification",
          "AS-classification",
          "AS-classification",
          "AS-classification",
          "AS-classification",
          "AS-classification",
          "AS-classification",
          "AS-classification",
          "AS-classification",
          "AS-classification",
          "AS-classification",
          "AS-classification",
          "AS-classification",
          "AS-classification",
          "AS-classification",
          "AS-classification",
          "AS-classification",
          "AS-classification",
          "AS-classification",
          "AS-classification",
          "AS-classification",
          "AS-classification",
          "AS-classification",
          "AS-classification",
          "AS-classification",
          "AS-classification",
          "AS-classification",
          "AS-classification",
          "AS-classification",
          "AS-classification",
          "AS-classification",
          "AS-classification",
          "AS-classification",
          "AS-classification",
          "AS-classification",
          "AS-classification",
          "AS-classification",
          "AS-classification",
          "AS-classification",
          "AS-classification",
          "AS-classification",
          "AS-classification",
          "AS-classification",
          "AS-classification",
          "AS-classification",
          "AS-classification",
          "AS-classification",
          "AS-classification",
          "AS-classification",
          "AS-classification",
          "AS-classification",
          "AS-classification",
          "AS-classification",
          "AS-classification",
          "AS-classification",
          "AS-classification",
          "AS-classification",
          "AS-classification",
          "AS-classification",
          "AS-classification",
          "AS-classification",
          "AS-classification",
          "AS-classification",
          "AS-classification",
          "AS-classification",
          "AS-classification",
          "AS-classification",
          "AS-classification",
          "AS-classification",
          "AS-classification",
          "AS-classification",
          "AS-classification",
          "AS-classification",
          "AS-classification",
          "AS-classification",
          "AS-classification",
          "AS-classification",
          "AS-classification",
          "AS-classification",
          "AS-classification",
          "AS-classification",
          "AS-classification",
          "AS-classification",
          "AS-classification",
          "AS-classification",
          "AS-classification",
          "AS-classification",
          "AS-classification",
          "AS-classification",
          "AS-classification",
          "AS-classification",
          "AS-classification",
          "AS-classification",
          "AS-classification",
          "AS-classification",
          "AS-classification",
          "AS-classification",
          "AS-classification",
          "AS-classification",
          "AS-classification",
          "AS-classification",
          "AS-classification",
          "AS-classification",
          "AS-classification",
          "AS-classification",
          "AS-classification",
          "AS-classification",
          "AS-classification",
          "AS-classification",
          "AS-classification",
          "AS-classification",
          "AS-classification",
          "AS-classification",
          "AS-classification",
          "AS-classification",
          "AS-classification",
          "AS-classification",
          "AS-classification",
          "AS-classification",
          "AS-classification",
          "AS-classification",
          "AS-classification",
          "AS-classification",
          "AS-classification",
          "AS-classification",
          "AS-classification",
          "AS-classification",
          "AS-classification",
          "AS-classification",
          "AS-classification",
          "AS-classification",
          "AS-classification",
          "AS-classification",
          "AS-classification",
          "AS-classification",
          "AS-classification",
          "AS-classification",
          "AS-classification",
          "AS-classification",
          "AS-classification",
          "AS-classification",
          "AS-classification",
          "AS-classification",
          "AS-classification",
          "AS-classification",
          "AS-classification",
          "AS-classification",
          "AS-classification",
          "AS-classification",
          "AS-classification",
          "AS-classification",
          "AS-classification",
          "AS-classification",
          "AS-classification",
          "AS-classification",
          "AS-classification",
          "AS-classification",
          "AS-classification",
          "AS-classification",
          "AS-classification",
          "AS-classification",
          "AS-classification",
          "AS-classification",
          "AS-classification",
          "AS-classification",
          "AS-classification",
          "AS-classification",
          "AS-classification",
          "AS-classification",
          "AS-classification",
          "AS-classification",
          "AS-classification",
          "AS-classification",
          "AS-classification",
          "AS-classification",
          "AS-classification",
          "AS-classification",
          "AS-classification",
          "AS-classification",
          "AS-classification"
         ],
         "x0": " ",
         "xaxis": "x",
         "y": [
          0,
          0,
          0,
          0,
          0,
          0,
          0,
          0,
          0,
          0,
          0,
          0,
          0,
          0,
          0,
          0,
          0,
          0,
          0,
          0,
          0.1472654288094819,
          0.1979390490997237,
          0,
          0,
          0,
          0,
          0,
          0.0809214458376263,
          0,
          0,
          0,
          0,
          0,
          0,
          0,
          0,
          0,
          0,
          0,
          0,
          0,
          0,
          0,
          0,
          0,
          0,
          0,
          0,
          0,
          0,
          0,
          0,
          0,
          0,
          0,
          0,
          0,
          0,
          0,
          0,
          0,
          0,
          0,
          0,
          0,
          0.038573851980302,
          0,
          0.6631253806087951,
          0.5870263040671149,
          0.7602238252426106,
          0,
          0,
          0.1225473438266551,
          0,
          0,
          0,
          0,
          0,
          0,
          0,
          0,
          0,
          0.288964999822099,
          0,
          0,
          0,
          0,
          0,
          0,
          0,
          0,
          0,
          0,
          0,
          0,
          0,
          0,
          0,
          0,
          0,
          0,
          0,
          0,
          0,
          0,
          0,
          0,
          0,
          0,
          0,
          0,
          0,
          0.0491832952273031,
          0,
          0.0284217649811114,
          0,
          0,
          0,
          0.0026188783775251,
          0,
          0,
          0.1734954703886252,
          0,
          0,
          0.1620172792596992,
          8.288690081597544,
          0,
          0.006946423178998,
          0.0066701382220396,
          0.0021498266945683,
          0,
          7.937028904263291,
          0,
          0,
          0,
          0,
          0.0932726357043556,
          8.075345039589937,
          0,
          0,
          0.0188667452430165,
          0,
          0,
          0,
          0,
          0.0898942602293129,
          0,
          0.0252051610491184,
          0,
          0,
          0.0092669206529105,
          0,
          0.025950785469655,
          0.002807040845598,
          0,
          0.0072307689602777,
          0.0190055914886875,
          0.0262359142839962,
          0.0265791312154135,
          0.0547305464697538,
          0,
          0,
          0,
          0,
          0,
          0,
          0,
          0,
          0,
          0,
          0,
          0,
          0,
          0.0669389115402374,
          0,
          0,
          0,
          0,
          0,
          0,
          0,
          0,
          5.248637058308248e-8,
          0.0000283229563990961,
          0,
          0,
          0.3215247655650453,
          0.0229005583155328,
          0.1962949270268705,
          0,
          0,
          0,
          0,
          0,
          0,
          0,
          0,
          0,
          0,
          0,
          0,
          0,
          2.2189747441683503,
          0,
          1.930007202127534,
          0.3930263994659473,
          1.2104885485143662,
          0,
          0,
          0,
          1.3780370574432783,
          0.4129464786762777,
          0,
          0,
          0.3520287064925521,
          0,
          0,
          0,
          0,
          0,
          0,
          0,
          0,
          0,
          0,
          0,
          0,
          0,
          0,
          0,
          0,
          0,
          0,
          0,
          0,
          0,
          0,
          0,
          0,
          0
         ],
         "y0": " ",
         "yaxis": "y"
        },
        {
         "alignmentgroup": "True",
         "hovertemplate": "=%{x}<br>Loss=%{y}<extra></extra>",
         "legendgroup": "AS-pairwise-classification",
         "marker": {
          "color": "rgb(42, 35, 160)"
         },
         "name": "AS-pairwise-classification",
         "notched": false,
         "offsetgroup": "AS-pairwise-classification",
         "orientation": "v",
         "showlegend": true,
         "type": "box",
         "x": [
          "AS-pairwise-classification",
          "AS-pairwise-classification",
          "AS-pairwise-classification",
          "AS-pairwise-classification",
          "AS-pairwise-classification",
          "AS-pairwise-classification",
          "AS-pairwise-classification",
          "AS-pairwise-classification",
          "AS-pairwise-classification",
          "AS-pairwise-classification",
          "AS-pairwise-classification",
          "AS-pairwise-classification",
          "AS-pairwise-classification",
          "AS-pairwise-classification",
          "AS-pairwise-classification",
          "AS-pairwise-classification",
          "AS-pairwise-classification",
          "AS-pairwise-classification",
          "AS-pairwise-classification",
          "AS-pairwise-classification",
          "AS-pairwise-classification",
          "AS-pairwise-classification",
          "AS-pairwise-classification",
          "AS-pairwise-classification",
          "AS-pairwise-classification",
          "AS-pairwise-classification",
          "AS-pairwise-classification",
          "AS-pairwise-classification",
          "AS-pairwise-classification",
          "AS-pairwise-classification",
          "AS-pairwise-classification",
          "AS-pairwise-classification",
          "AS-pairwise-classification",
          "AS-pairwise-classification",
          "AS-pairwise-classification",
          "AS-pairwise-classification",
          "AS-pairwise-classification",
          "AS-pairwise-classification",
          "AS-pairwise-classification",
          "AS-pairwise-classification",
          "AS-pairwise-classification",
          "AS-pairwise-classification",
          "AS-pairwise-classification",
          "AS-pairwise-classification",
          "AS-pairwise-classification",
          "AS-pairwise-classification",
          "AS-pairwise-classification",
          "AS-pairwise-classification",
          "AS-pairwise-classification",
          "AS-pairwise-classification",
          "AS-pairwise-classification",
          "AS-pairwise-classification",
          "AS-pairwise-classification",
          "AS-pairwise-classification",
          "AS-pairwise-classification",
          "AS-pairwise-classification",
          "AS-pairwise-classification",
          "AS-pairwise-classification",
          "AS-pairwise-classification",
          "AS-pairwise-classification",
          "AS-pairwise-classification",
          "AS-pairwise-classification",
          "AS-pairwise-classification",
          "AS-pairwise-classification",
          "AS-pairwise-classification",
          "AS-pairwise-classification",
          "AS-pairwise-classification",
          "AS-pairwise-classification",
          "AS-pairwise-classification",
          "AS-pairwise-classification",
          "AS-pairwise-classification",
          "AS-pairwise-classification",
          "AS-pairwise-classification",
          "AS-pairwise-classification",
          "AS-pairwise-classification",
          "AS-pairwise-classification",
          "AS-pairwise-classification",
          "AS-pairwise-classification",
          "AS-pairwise-classification",
          "AS-pairwise-classification",
          "AS-pairwise-classification",
          "AS-pairwise-classification",
          "AS-pairwise-classification",
          "AS-pairwise-classification",
          "AS-pairwise-classification",
          "AS-pairwise-classification",
          "AS-pairwise-classification",
          "AS-pairwise-classification",
          "AS-pairwise-classification",
          "AS-pairwise-classification",
          "AS-pairwise-classification",
          "AS-pairwise-classification",
          "AS-pairwise-classification",
          "AS-pairwise-classification",
          "AS-pairwise-classification",
          "AS-pairwise-classification",
          "AS-pairwise-classification",
          "AS-pairwise-classification",
          "AS-pairwise-classification",
          "AS-pairwise-classification",
          "AS-pairwise-classification",
          "AS-pairwise-classification",
          "AS-pairwise-classification",
          "AS-pairwise-classification",
          "AS-pairwise-classification",
          "AS-pairwise-classification",
          "AS-pairwise-classification",
          "AS-pairwise-classification",
          "AS-pairwise-classification",
          "AS-pairwise-classification",
          "AS-pairwise-classification",
          "AS-pairwise-classification",
          "AS-pairwise-classification",
          "AS-pairwise-classification",
          "AS-pairwise-classification",
          "AS-pairwise-classification",
          "AS-pairwise-classification",
          "AS-pairwise-classification",
          "AS-pairwise-classification",
          "AS-pairwise-classification",
          "AS-pairwise-classification",
          "AS-pairwise-classification",
          "AS-pairwise-classification",
          "AS-pairwise-classification",
          "AS-pairwise-classification",
          "AS-pairwise-classification",
          "AS-pairwise-classification",
          "AS-pairwise-classification",
          "AS-pairwise-classification",
          "AS-pairwise-classification",
          "AS-pairwise-classification",
          "AS-pairwise-classification",
          "AS-pairwise-classification",
          "AS-pairwise-classification",
          "AS-pairwise-classification",
          "AS-pairwise-classification",
          "AS-pairwise-classification",
          "AS-pairwise-classification",
          "AS-pairwise-classification",
          "AS-pairwise-classification",
          "AS-pairwise-classification",
          "AS-pairwise-classification",
          "AS-pairwise-classification",
          "AS-pairwise-classification",
          "AS-pairwise-classification",
          "AS-pairwise-classification",
          "AS-pairwise-classification",
          "AS-pairwise-classification",
          "AS-pairwise-classification",
          "AS-pairwise-classification",
          "AS-pairwise-classification",
          "AS-pairwise-classification",
          "AS-pairwise-classification",
          "AS-pairwise-classification",
          "AS-pairwise-classification",
          "AS-pairwise-classification",
          "AS-pairwise-classification",
          "AS-pairwise-classification",
          "AS-pairwise-classification",
          "AS-pairwise-classification",
          "AS-pairwise-classification",
          "AS-pairwise-classification",
          "AS-pairwise-classification",
          "AS-pairwise-classification",
          "AS-pairwise-classification",
          "AS-pairwise-classification",
          "AS-pairwise-classification",
          "AS-pairwise-classification",
          "AS-pairwise-classification",
          "AS-pairwise-classification",
          "AS-pairwise-classification",
          "AS-pairwise-classification",
          "AS-pairwise-classification",
          "AS-pairwise-classification",
          "AS-pairwise-classification",
          "AS-pairwise-classification",
          "AS-pairwise-classification",
          "AS-pairwise-classification",
          "AS-pairwise-classification",
          "AS-pairwise-classification",
          "AS-pairwise-classification",
          "AS-pairwise-classification",
          "AS-pairwise-classification",
          "AS-pairwise-classification",
          "AS-pairwise-classification",
          "AS-pairwise-classification",
          "AS-pairwise-classification",
          "AS-pairwise-classification",
          "AS-pairwise-classification",
          "AS-pairwise-classification",
          "AS-pairwise-classification",
          "AS-pairwise-classification",
          "AS-pairwise-classification",
          "AS-pairwise-classification",
          "AS-pairwise-classification",
          "AS-pairwise-classification",
          "AS-pairwise-classification",
          "AS-pairwise-classification",
          "AS-pairwise-classification",
          "AS-pairwise-classification",
          "AS-pairwise-classification",
          "AS-pairwise-classification",
          "AS-pairwise-classification",
          "AS-pairwise-classification",
          "AS-pairwise-classification",
          "AS-pairwise-classification",
          "AS-pairwise-classification",
          "AS-pairwise-classification",
          "AS-pairwise-classification",
          "AS-pairwise-classification",
          "AS-pairwise-classification",
          "AS-pairwise-classification",
          "AS-pairwise-classification",
          "AS-pairwise-classification",
          "AS-pairwise-classification",
          "AS-pairwise-classification",
          "AS-pairwise-classification",
          "AS-pairwise-classification",
          "AS-pairwise-classification",
          "AS-pairwise-classification",
          "AS-pairwise-classification",
          "AS-pairwise-classification",
          "AS-pairwise-classification",
          "AS-pairwise-classification",
          "AS-pairwise-classification",
          "AS-pairwise-classification",
          "AS-pairwise-classification",
          "AS-pairwise-classification",
          "AS-pairwise-classification",
          "AS-pairwise-classification",
          "AS-pairwise-classification",
          "AS-pairwise-classification",
          "AS-pairwise-classification",
          "AS-pairwise-classification",
          "AS-pairwise-classification",
          "AS-pairwise-classification",
          "AS-pairwise-classification",
          "AS-pairwise-classification",
          "AS-pairwise-classification",
          "AS-pairwise-classification"
         ],
         "x0": " ",
         "xaxis": "x",
         "y": [
          0,
          0,
          0,
          0,
          0,
          0,
          0,
          2.9078544166387137,
          0,
          0,
          0,
          0,
          0,
          0,
          0,
          0,
          0,
          0,
          0,
          0,
          0.1472654288094819,
          0.1979390490997237,
          0,
          0,
          0,
          0,
          0,
          0.0809214458376263,
          0,
          0,
          0,
          0,
          0,
          0,
          0,
          0,
          0,
          0,
          0,
          0,
          0,
          0,
          0,
          0,
          0,
          0,
          0,
          0,
          0,
          0,
          0,
          0,
          0,
          0,
          0,
          0,
          0.1607627507550962,
          0,
          0,
          0,
          0,
          0,
          0,
          0,
          0,
          0.038573851980302,
          0,
          0.6631253806087951,
          0.5870263040671149,
          0.7602238252426106,
          0,
          0,
          0.1225473438266551,
          0,
          0,
          0,
          0,
          0,
          0,
          0,
          0,
          0,
          0.288964999822099,
          0,
          0,
          0,
          0,
          0,
          0,
          0,
          0,
          0,
          0,
          0,
          0,
          0,
          0,
          0,
          0,
          0,
          0,
          0,
          0,
          0,
          0,
          0,
          0,
          0,
          0,
          0,
          0.0092961104598423,
          0,
          0.0491832952273031,
          0,
          0,
          0,
          0,
          0.0392763665850992,
          0.0026188783775251,
          0,
          0.7965100179874379,
          0.210394162893643,
          0.0976409033343688,
          0.3288717478439641,
          0.1620172792596992,
          8.288690081597544,
          0.1797065894318698,
          0,
          0.0066701382220396,
          0.0021498266945683,
          0,
          7.937028904263291,
          0.1902090558289365,
          0,
          0.9283602445084062,
          0,
          0.0932726357043556,
          0,
          1.3817308821864676,
          0,
          0.0188667452430165,
          0,
          0,
          0,
          0,
          0.0898942602293129,
          0,
          0,
          0,
          0,
          0.0092669206529105,
          0.0036219987800909,
          0.025950785469655,
          0.002807040845598,
          0,
          0,
          0.0190055914886875,
          0,
          0.0265791312154135,
          0.0023764221289566,
          0,
          3.628791586810928,
          0,
          4.222398529973442,
          0,
          0,
          0,
          4.1269569322088016,
          0,
          4.949541805064327,
          0,
          0,
          0,
          0.0669389115402374,
          0,
          0,
          0,
          0,
          0,
          0,
          0,
          0,
          5.248637058308248e-8,
          0.0000283229563990961,
          0,
          0,
          0,
          0.0229005583155328,
          0.1962949270268705,
          0,
          0,
          0,
          0,
          0,
          0,
          0,
          0,
          0,
          0,
          0,
          3.084298804972393,
          0,
          2.2189747441683503,
          0,
          1.930007202127534,
          0.3930263994659473,
          1.2104885485143662,
          0.8821754205699692,
          0,
          3.580684893453049,
          0,
          0.4129464786762777,
          0,
          0,
          0.3520287064925521,
          0,
          0,
          0,
          0,
          0,
          0,
          0,
          0,
          0,
          0,
          0,
          0,
          0,
          0,
          0,
          0,
          0,
          0,
          0,
          0,
          0,
          0,
          0,
          0,
          0
         ],
         "y0": " ",
         "yaxis": "y"
        },
        {
         "alignmentgroup": "True",
         "hovertemplate": "=%{x}<br>Loss=%{y}<extra></extra>",
         "legendgroup": "AS-regression",
         "marker": {
          "color": "rgb(15, 71, 153)"
         },
         "name": "AS-regression",
         "notched": false,
         "offsetgroup": "AS-regression",
         "orientation": "v",
         "showlegend": true,
         "type": "box",
         "x": [
          "AS-regression",
          "AS-regression",
          "AS-regression",
          "AS-regression",
          "AS-regression",
          "AS-regression",
          "AS-regression",
          "AS-regression",
          "AS-regression",
          "AS-regression",
          "AS-regression",
          "AS-regression",
          "AS-regression",
          "AS-regression",
          "AS-regression",
          "AS-regression",
          "AS-regression",
          "AS-regression",
          "AS-regression",
          "AS-regression",
          "AS-regression",
          "AS-regression",
          "AS-regression",
          "AS-regression",
          "AS-regression",
          "AS-regression",
          "AS-regression",
          "AS-regression",
          "AS-regression",
          "AS-regression",
          "AS-regression",
          "AS-regression",
          "AS-regression",
          "AS-regression",
          "AS-regression",
          "AS-regression",
          "AS-regression",
          "AS-regression",
          "AS-regression",
          "AS-regression",
          "AS-regression",
          "AS-regression",
          "AS-regression",
          "AS-regression",
          "AS-regression",
          "AS-regression",
          "AS-regression",
          "AS-regression",
          "AS-regression",
          "AS-regression",
          "AS-regression",
          "AS-regression",
          "AS-regression",
          "AS-regression",
          "AS-regression",
          "AS-regression",
          "AS-regression",
          "AS-regression",
          "AS-regression",
          "AS-regression",
          "AS-regression",
          "AS-regression",
          "AS-regression",
          "AS-regression",
          "AS-regression",
          "AS-regression",
          "AS-regression",
          "AS-regression",
          "AS-regression",
          "AS-regression",
          "AS-regression",
          "AS-regression",
          "AS-regression",
          "AS-regression",
          "AS-regression",
          "AS-regression",
          "AS-regression",
          "AS-regression",
          "AS-regression",
          "AS-regression",
          "AS-regression",
          "AS-regression",
          "AS-regression",
          "AS-regression",
          "AS-regression",
          "AS-regression",
          "AS-regression",
          "AS-regression",
          "AS-regression",
          "AS-regression",
          "AS-regression",
          "AS-regression",
          "AS-regression",
          "AS-regression",
          "AS-regression",
          "AS-regression",
          "AS-regression",
          "AS-regression",
          "AS-regression",
          "AS-regression",
          "AS-regression",
          "AS-regression",
          "AS-regression",
          "AS-regression",
          "AS-regression",
          "AS-regression",
          "AS-regression",
          "AS-regression",
          "AS-regression",
          "AS-regression",
          "AS-regression",
          "AS-regression",
          "AS-regression",
          "AS-regression",
          "AS-regression",
          "AS-regression",
          "AS-regression",
          "AS-regression",
          "AS-regression",
          "AS-regression",
          "AS-regression",
          "AS-regression",
          "AS-regression",
          "AS-regression",
          "AS-regression",
          "AS-regression",
          "AS-regression",
          "AS-regression",
          "AS-regression",
          "AS-regression",
          "AS-regression",
          "AS-regression",
          "AS-regression",
          "AS-regression",
          "AS-regression",
          "AS-regression",
          "AS-regression",
          "AS-regression",
          "AS-regression",
          "AS-regression",
          "AS-regression",
          "AS-regression",
          "AS-regression",
          "AS-regression",
          "AS-regression",
          "AS-regression",
          "AS-regression",
          "AS-regression",
          "AS-regression",
          "AS-regression",
          "AS-regression",
          "AS-regression",
          "AS-regression",
          "AS-regression",
          "AS-regression",
          "AS-regression",
          "AS-regression",
          "AS-regression",
          "AS-regression",
          "AS-regression",
          "AS-regression",
          "AS-regression",
          "AS-regression",
          "AS-regression",
          "AS-regression",
          "AS-regression",
          "AS-regression",
          "AS-regression",
          "AS-regression",
          "AS-regression",
          "AS-regression",
          "AS-regression",
          "AS-regression",
          "AS-regression",
          "AS-regression",
          "AS-regression",
          "AS-regression",
          "AS-regression",
          "AS-regression",
          "AS-regression",
          "AS-regression",
          "AS-regression",
          "AS-regression",
          "AS-regression",
          "AS-regression",
          "AS-regression",
          "AS-regression",
          "AS-regression",
          "AS-regression",
          "AS-regression",
          "AS-regression",
          "AS-regression",
          "AS-regression",
          "AS-regression",
          "AS-regression",
          "AS-regression",
          "AS-regression",
          "AS-regression",
          "AS-regression",
          "AS-regression",
          "AS-regression",
          "AS-regression",
          "AS-regression",
          "AS-regression",
          "AS-regression",
          "AS-regression",
          "AS-regression",
          "AS-regression",
          "AS-regression",
          "AS-regression",
          "AS-regression",
          "AS-regression",
          "AS-regression",
          "AS-regression",
          "AS-regression",
          "AS-regression",
          "AS-regression",
          "AS-regression",
          "AS-regression",
          "AS-regression",
          "AS-regression",
          "AS-regression",
          "AS-regression",
          "AS-regression",
          "AS-regression",
          "AS-regression",
          "AS-regression",
          "AS-regression",
          "AS-regression",
          "AS-regression",
          "AS-regression",
          "AS-regression",
          "AS-regression",
          "AS-regression",
          "AS-regression",
          "AS-regression",
          "AS-regression",
          "AS-regression",
          "AS-regression",
          "AS-regression"
         ],
         "x0": " ",
         "xaxis": "x",
         "y": [
          0,
          0,
          0,
          0,
          0,
          0,
          0,
          2.9078544166387137,
          0,
          0,
          0,
          0,
          0,
          0,
          0,
          0,
          0,
          0,
          0,
          0,
          0.1472654288094819,
          0.1979390490997237,
          0,
          0,
          0,
          0,
          0,
          0.8305954493014414,
          0,
          0,
          0,
          0,
          0,
          1.8433699202515703,
          0,
          0,
          0,
          0,
          0,
          0,
          0,
          0,
          0,
          0,
          0,
          0,
          0,
          0,
          0,
          0,
          0,
          0,
          0,
          0.3007700383447209,
          0.446004105261978,
          0.3590206737202428,
          0.1607627507550962,
          0.0789901629920947,
          0.2534567179704454,
          0.30077852094926,
          0,
          0,
          0,
          0,
          0,
          0.038573851980302,
          0,
          0.6631253806087951,
          0.5870263040671149,
          0.7602238252426106,
          0,
          0,
          0.1225473438266551,
          0,
          0,
          0,
          0,
          0,
          0,
          0,
          0,
          0,
          0.288964999822099,
          0,
          0,
          0,
          0,
          0,
          0,
          0,
          0,
          0,
          0,
          0,
          0,
          0,
          0,
          0,
          0,
          0,
          0,
          0,
          0,
          0,
          0,
          0,
          0,
          0,
          0,
          0,
          0.0424076390566428,
          0.0166034382090263,
          0.0432940935929991,
          0.0076231997780825,
          0.0493889073200062,
          0.0430064503976055,
          0.0424076390566428,
          0.0475480122156861,
          0.0646634499754245,
          0.0001898232781983,
          0.7965100179874379,
          0,
          0.6173708152583675,
          0.8653538392941951,
          3.470152645096425e-7,
          0,
          0.0684860507992569,
          0.1564348135948932,
          0.0047562372604756,
          0.461121392432978,
          0.323381541471626,
          5.750405132502361,
          0.1902090558289365,
          0.008965712162662,
          0.9283602445084062,
          1.8146762072662628,
          0,
          0,
          1.3817308821864676,
          1.251712194076922,
          0,
          0.0424518480820171,
          0.0272234549883081,
          0.0333359097075478,
          0.1811296044025528,
          0,
          0.1012210650735873,
          0.0252051610491184,
          0.1852896470295152,
          0.0337838407654466,
          0.0092669206529105,
          0.0036219987800909,
          0.025950785469655,
          0.002807040845598,
          0,
          0,
          0,
          0,
          0.0265791312154135,
          0.0547305464697538,
          0,
          0,
          0,
          0,
          0,
          0,
          0,
          0,
          0,
          0,
          0,
          0,
          0.0671359290430322,
          0.066938342422915,
          0.1249383716238877,
          0.3072142905577886,
          0.2598981045154038,
          0.3009365673080272,
          0.0669457060016212,
          0.2632417262218356,
          0.187861553651254,
          0.1898700605066194,
          2.7481741216028865e-8,
          0.0207024080155976,
          0.2077017946865089,
          0.2426855200940649,
          0.1915443114781634,
          0.0229005583155328,
          0.1962949270268705,
          0.2172799061561237,
          0,
          0,
          0,
          0,
          0,
          0,
          0,
          0,
          0,
          0,
          0,
          0,
          2.2189747441683503,
          0,
          1.930007202127534,
          0.3930263994659473,
          1.2104885485143662,
          0.8821754205699692,
          0,
          0,
          0,
          0.4129464786762777,
          1.3726121071697344,
          0,
          0.3520287064925521,
          0,
          0,
          0,
          0,
          0,
          0,
          0,
          0,
          0,
          0,
          0,
          0,
          0,
          0,
          0,
          0,
          0,
          0,
          0,
          0,
          0,
          0,
          0,
          0,
          0
         ],
         "y0": " ",
         "yaxis": "y"
        }
       ],
       "layout": {
        "autosize": false,
        "boxmode": "overlay",
        "font": {
         "size": 22
        },
        "height": 700,
        "legend": {
         "title": {
          "text": ""
         },
         "tracegroupgap": 0
        },
        "margin": {
         "b": 0,
         "l": 50,
         "pad": 4,
         "r": 50,
         "t": 50
        },
        "showlegend": false,
        "template": {
         "data": {
          "bar": [
           {
            "error_x": {
             "color": "#2a3f5f"
            },
            "error_y": {
             "color": "#2a3f5f"
            },
            "marker": {
             "line": {
              "color": "#E5ECF6",
              "width": 0.5
             },
             "pattern": {
              "fillmode": "overlay",
              "size": 10,
              "solidity": 0.2
             }
            },
            "type": "bar"
           }
          ],
          "barpolar": [
           {
            "marker": {
             "line": {
              "color": "#E5ECF6",
              "width": 0.5
             },
             "pattern": {
              "fillmode": "overlay",
              "size": 10,
              "solidity": 0.2
             }
            },
            "type": "barpolar"
           }
          ],
          "carpet": [
           {
            "aaxis": {
             "endlinecolor": "#2a3f5f",
             "gridcolor": "white",
             "linecolor": "white",
             "minorgridcolor": "white",
             "startlinecolor": "#2a3f5f"
            },
            "baxis": {
             "endlinecolor": "#2a3f5f",
             "gridcolor": "white",
             "linecolor": "white",
             "minorgridcolor": "white",
             "startlinecolor": "#2a3f5f"
            },
            "type": "carpet"
           }
          ],
          "choropleth": [
           {
            "colorbar": {
             "outlinewidth": 0,
             "ticks": ""
            },
            "type": "choropleth"
           }
          ],
          "contour": [
           {
            "colorbar": {
             "outlinewidth": 0,
             "ticks": ""
            },
            "colorscale": [
             [
              0,
              "#0d0887"
             ],
             [
              0.1111111111111111,
              "#46039f"
             ],
             [
              0.2222222222222222,
              "#7201a8"
             ],
             [
              0.3333333333333333,
              "#9c179e"
             ],
             [
              0.4444444444444444,
              "#bd3786"
             ],
             [
              0.5555555555555556,
              "#d8576b"
             ],
             [
              0.6666666666666666,
              "#ed7953"
             ],
             [
              0.7777777777777778,
              "#fb9f3a"
             ],
             [
              0.8888888888888888,
              "#fdca26"
             ],
             [
              1,
              "#f0f921"
             ]
            ],
            "type": "contour"
           }
          ],
          "contourcarpet": [
           {
            "colorbar": {
             "outlinewidth": 0,
             "ticks": ""
            },
            "type": "contourcarpet"
           }
          ],
          "heatmap": [
           {
            "colorbar": {
             "outlinewidth": 0,
             "ticks": ""
            },
            "colorscale": [
             [
              0,
              "#0d0887"
             ],
             [
              0.1111111111111111,
              "#46039f"
             ],
             [
              0.2222222222222222,
              "#7201a8"
             ],
             [
              0.3333333333333333,
              "#9c179e"
             ],
             [
              0.4444444444444444,
              "#bd3786"
             ],
             [
              0.5555555555555556,
              "#d8576b"
             ],
             [
              0.6666666666666666,
              "#ed7953"
             ],
             [
              0.7777777777777778,
              "#fb9f3a"
             ],
             [
              0.8888888888888888,
              "#fdca26"
             ],
             [
              1,
              "#f0f921"
             ]
            ],
            "type": "heatmap"
           }
          ],
          "heatmapgl": [
           {
            "colorbar": {
             "outlinewidth": 0,
             "ticks": ""
            },
            "colorscale": [
             [
              0,
              "#0d0887"
             ],
             [
              0.1111111111111111,
              "#46039f"
             ],
             [
              0.2222222222222222,
              "#7201a8"
             ],
             [
              0.3333333333333333,
              "#9c179e"
             ],
             [
              0.4444444444444444,
              "#bd3786"
             ],
             [
              0.5555555555555556,
              "#d8576b"
             ],
             [
              0.6666666666666666,
              "#ed7953"
             ],
             [
              0.7777777777777778,
              "#fb9f3a"
             ],
             [
              0.8888888888888888,
              "#fdca26"
             ],
             [
              1,
              "#f0f921"
             ]
            ],
            "type": "heatmapgl"
           }
          ],
          "histogram": [
           {
            "marker": {
             "pattern": {
              "fillmode": "overlay",
              "size": 10,
              "solidity": 0.2
             }
            },
            "type": "histogram"
           }
          ],
          "histogram2d": [
           {
            "colorbar": {
             "outlinewidth": 0,
             "ticks": ""
            },
            "colorscale": [
             [
              0,
              "#0d0887"
             ],
             [
              0.1111111111111111,
              "#46039f"
             ],
             [
              0.2222222222222222,
              "#7201a8"
             ],
             [
              0.3333333333333333,
              "#9c179e"
             ],
             [
              0.4444444444444444,
              "#bd3786"
             ],
             [
              0.5555555555555556,
              "#d8576b"
             ],
             [
              0.6666666666666666,
              "#ed7953"
             ],
             [
              0.7777777777777778,
              "#fb9f3a"
             ],
             [
              0.8888888888888888,
              "#fdca26"
             ],
             [
              1,
              "#f0f921"
             ]
            ],
            "type": "histogram2d"
           }
          ],
          "histogram2dcontour": [
           {
            "colorbar": {
             "outlinewidth": 0,
             "ticks": ""
            },
            "colorscale": [
             [
              0,
              "#0d0887"
             ],
             [
              0.1111111111111111,
              "#46039f"
             ],
             [
              0.2222222222222222,
              "#7201a8"
             ],
             [
              0.3333333333333333,
              "#9c179e"
             ],
             [
              0.4444444444444444,
              "#bd3786"
             ],
             [
              0.5555555555555556,
              "#d8576b"
             ],
             [
              0.6666666666666666,
              "#ed7953"
             ],
             [
              0.7777777777777778,
              "#fb9f3a"
             ],
             [
              0.8888888888888888,
              "#fdca26"
             ],
             [
              1,
              "#f0f921"
             ]
            ],
            "type": "histogram2dcontour"
           }
          ],
          "mesh3d": [
           {
            "colorbar": {
             "outlinewidth": 0,
             "ticks": ""
            },
            "type": "mesh3d"
           }
          ],
          "parcoords": [
           {
            "line": {
             "colorbar": {
              "outlinewidth": 0,
              "ticks": ""
             }
            },
            "type": "parcoords"
           }
          ],
          "pie": [
           {
            "automargin": true,
            "type": "pie"
           }
          ],
          "scatter": [
           {
            "fillpattern": {
             "fillmode": "overlay",
             "size": 10,
             "solidity": 0.2
            },
            "type": "scatter"
           }
          ],
          "scatter3d": [
           {
            "line": {
             "colorbar": {
              "outlinewidth": 0,
              "ticks": ""
             }
            },
            "marker": {
             "colorbar": {
              "outlinewidth": 0,
              "ticks": ""
             }
            },
            "type": "scatter3d"
           }
          ],
          "scattercarpet": [
           {
            "marker": {
             "colorbar": {
              "outlinewidth": 0,
              "ticks": ""
             }
            },
            "type": "scattercarpet"
           }
          ],
          "scattergeo": [
           {
            "marker": {
             "colorbar": {
              "outlinewidth": 0,
              "ticks": ""
             }
            },
            "type": "scattergeo"
           }
          ],
          "scattergl": [
           {
            "marker": {
             "colorbar": {
              "outlinewidth": 0,
              "ticks": ""
             }
            },
            "type": "scattergl"
           }
          ],
          "scattermapbox": [
           {
            "marker": {
             "colorbar": {
              "outlinewidth": 0,
              "ticks": ""
             }
            },
            "type": "scattermapbox"
           }
          ],
          "scatterpolar": [
           {
            "marker": {
             "colorbar": {
              "outlinewidth": 0,
              "ticks": ""
             }
            },
            "type": "scatterpolar"
           }
          ],
          "scatterpolargl": [
           {
            "marker": {
             "colorbar": {
              "outlinewidth": 0,
              "ticks": ""
             }
            },
            "type": "scatterpolargl"
           }
          ],
          "scatterternary": [
           {
            "marker": {
             "colorbar": {
              "outlinewidth": 0,
              "ticks": ""
             }
            },
            "type": "scatterternary"
           }
          ],
          "surface": [
           {
            "colorbar": {
             "outlinewidth": 0,
             "ticks": ""
            },
            "colorscale": [
             [
              0,
              "#0d0887"
             ],
             [
              0.1111111111111111,
              "#46039f"
             ],
             [
              0.2222222222222222,
              "#7201a8"
             ],
             [
              0.3333333333333333,
              "#9c179e"
             ],
             [
              0.4444444444444444,
              "#bd3786"
             ],
             [
              0.5555555555555556,
              "#d8576b"
             ],
             [
              0.6666666666666666,
              "#ed7953"
             ],
             [
              0.7777777777777778,
              "#fb9f3a"
             ],
             [
              0.8888888888888888,
              "#fdca26"
             ],
             [
              1,
              "#f0f921"
             ]
            ],
            "type": "surface"
           }
          ],
          "table": [
           {
            "cells": {
             "fill": {
              "color": "#EBF0F8"
             },
             "line": {
              "color": "white"
             }
            },
            "header": {
             "fill": {
              "color": "#C8D4E3"
             },
             "line": {
              "color": "white"
             }
            },
            "type": "table"
           }
          ]
         },
         "layout": {
          "annotationdefaults": {
           "arrowcolor": "#2a3f5f",
           "arrowhead": 0,
           "arrowwidth": 1
          },
          "autotypenumbers": "strict",
          "coloraxis": {
           "colorbar": {
            "outlinewidth": 0,
            "ticks": ""
           }
          },
          "colorscale": {
           "diverging": [
            [
             0,
             "#8e0152"
            ],
            [
             0.1,
             "#c51b7d"
            ],
            [
             0.2,
             "#de77ae"
            ],
            [
             0.3,
             "#f1b6da"
            ],
            [
             0.4,
             "#fde0ef"
            ],
            [
             0.5,
             "#f7f7f7"
            ],
            [
             0.6,
             "#e6f5d0"
            ],
            [
             0.7,
             "#b8e186"
            ],
            [
             0.8,
             "#7fbc41"
            ],
            [
             0.9,
             "#4d9221"
            ],
            [
             1,
             "#276419"
            ]
           ],
           "sequential": [
            [
             0,
             "#0d0887"
            ],
            [
             0.1111111111111111,
             "#46039f"
            ],
            [
             0.2222222222222222,
             "#7201a8"
            ],
            [
             0.3333333333333333,
             "#9c179e"
            ],
            [
             0.4444444444444444,
             "#bd3786"
            ],
            [
             0.5555555555555556,
             "#d8576b"
            ],
            [
             0.6666666666666666,
             "#ed7953"
            ],
            [
             0.7777777777777778,
             "#fb9f3a"
            ],
            [
             0.8888888888888888,
             "#fdca26"
            ],
            [
             1,
             "#f0f921"
            ]
           ],
           "sequentialminus": [
            [
             0,
             "#0d0887"
            ],
            [
             0.1111111111111111,
             "#46039f"
            ],
            [
             0.2222222222222222,
             "#7201a8"
            ],
            [
             0.3333333333333333,
             "#9c179e"
            ],
            [
             0.4444444444444444,
             "#bd3786"
            ],
            [
             0.5555555555555556,
             "#d8576b"
            ],
            [
             0.6666666666666666,
             "#ed7953"
            ],
            [
             0.7777777777777778,
             "#fb9f3a"
            ],
            [
             0.8888888888888888,
             "#fdca26"
            ],
            [
             1,
             "#f0f921"
            ]
           ]
          },
          "colorway": [
           "#636efa",
           "#EF553B",
           "#00cc96",
           "#ab63fa",
           "#FFA15A",
           "#19d3f3",
           "#FF6692",
           "#B6E880",
           "#FF97FF",
           "#FECB52"
          ],
          "font": {
           "color": "#2a3f5f"
          },
          "geo": {
           "bgcolor": "white",
           "lakecolor": "white",
           "landcolor": "#E5ECF6",
           "showlakes": true,
           "showland": true,
           "subunitcolor": "white"
          },
          "hoverlabel": {
           "align": "left"
          },
          "hovermode": "closest",
          "mapbox": {
           "style": "light"
          },
          "paper_bgcolor": "white",
          "plot_bgcolor": "#E5ECF6",
          "polar": {
           "angularaxis": {
            "gridcolor": "white",
            "linecolor": "white",
            "ticks": ""
           },
           "bgcolor": "#E5ECF6",
           "radialaxis": {
            "gridcolor": "white",
            "linecolor": "white",
            "ticks": ""
           }
          },
          "scene": {
           "xaxis": {
            "backgroundcolor": "#E5ECF6",
            "gridcolor": "white",
            "gridwidth": 2,
            "linecolor": "white",
            "showbackground": true,
            "ticks": "",
            "zerolinecolor": "white"
           },
           "yaxis": {
            "backgroundcolor": "#E5ECF6",
            "gridcolor": "white",
            "gridwidth": 2,
            "linecolor": "white",
            "showbackground": true,
            "ticks": "",
            "zerolinecolor": "white"
           },
           "zaxis": {
            "backgroundcolor": "#E5ECF6",
            "gridcolor": "white",
            "gridwidth": 2,
            "linecolor": "white",
            "showbackground": true,
            "ticks": "",
            "zerolinecolor": "white"
           }
          },
          "shapedefaults": {
           "line": {
            "color": "#2a3f5f"
           }
          },
          "ternary": {
           "aaxis": {
            "gridcolor": "white",
            "linecolor": "white",
            "ticks": ""
           },
           "baxis": {
            "gridcolor": "white",
            "linecolor": "white",
            "ticks": ""
           },
           "bgcolor": "#E5ECF6",
           "caxis": {
            "gridcolor": "white",
            "linecolor": "white",
            "ticks": ""
           }
          },
          "title": {
           "x": 0.05
          },
          "xaxis": {
           "automargin": true,
           "gridcolor": "white",
           "linecolor": "white",
           "ticks": "",
           "title": {
            "standoff": 15
           },
           "zerolinecolor": "white",
           "zerolinewidth": 2
          },
          "yaxis": {
           "automargin": true,
           "gridcolor": "white",
           "linecolor": "white",
           "ticks": "",
           "title": {
            "standoff": 15
           },
           "zerolinecolor": "white",
           "zerolinewidth": 2
          }
         }
        },
        "title": {
         "text": "Runtime: 1000",
         "x": 0.5
        },
        "width": 1000,
        "xaxis": {
         "anchor": "y",
         "categoryarray": [
          "AS-classification",
          "AS-pairwise-classification",
          "AS-regression"
         ],
         "categoryorder": "array",
         "domain": [
          0,
          1
         ],
         "title": {
          "text": ""
         }
        },
        "yaxis": {
         "anchor": "x",
         "domain": [
          0,
          1
         ],
         "title": {
          "text": "Loss"
         }
        }
       }
      }
     },
     "metadata": {},
     "output_type": "display_data"
    },
    {
     "name": "stdout",
     "output_type": "stream",
     "text": [
      "Runtime: 2500\n",
      "Loss classification pairwise sum: AS-pairwise-classification    42.228354\n",
      "dtype: float64\n",
      "Loss classification sum: AS-classification    36.761861\n",
      "dtype: float64\n",
      "Loss regression sum: AS-regression    30.151878\n",
      "dtype: float64\n"
     ]
    },
    {
     "data": {
      "application/vnd.plotly.v1+json": {
       "config": {
        "plotlyServerURL": "https://plot.ly"
       },
       "data": [
        {
         "alignmentgroup": "True",
         "hovertemplate": "=%{x}<br>Loss=%{y}<extra></extra>",
         "legendgroup": "AS-classification",
         "marker": {
          "color": "rgb(41, 24, 107)"
         },
         "name": "AS-classification",
         "notched": false,
         "offsetgroup": "AS-classification",
         "orientation": "v",
         "showlegend": true,
         "type": "box",
         "x": [
          "AS-classification",
          "AS-classification",
          "AS-classification",
          "AS-classification",
          "AS-classification",
          "AS-classification",
          "AS-classification",
          "AS-classification",
          "AS-classification",
          "AS-classification",
          "AS-classification",
          "AS-classification",
          "AS-classification",
          "AS-classification",
          "AS-classification",
          "AS-classification",
          "AS-classification",
          "AS-classification",
          "AS-classification",
          "AS-classification",
          "AS-classification",
          "AS-classification",
          "AS-classification",
          "AS-classification",
          "AS-classification",
          "AS-classification",
          "AS-classification",
          "AS-classification",
          "AS-classification",
          "AS-classification",
          "AS-classification",
          "AS-classification",
          "AS-classification",
          "AS-classification",
          "AS-classification",
          "AS-classification",
          "AS-classification",
          "AS-classification",
          "AS-classification",
          "AS-classification",
          "AS-classification",
          "AS-classification",
          "AS-classification",
          "AS-classification",
          "AS-classification",
          "AS-classification",
          "AS-classification",
          "AS-classification",
          "AS-classification",
          "AS-classification",
          "AS-classification",
          "AS-classification",
          "AS-classification",
          "AS-classification",
          "AS-classification",
          "AS-classification",
          "AS-classification",
          "AS-classification",
          "AS-classification",
          "AS-classification",
          "AS-classification",
          "AS-classification",
          "AS-classification",
          "AS-classification",
          "AS-classification",
          "AS-classification",
          "AS-classification",
          "AS-classification",
          "AS-classification",
          "AS-classification",
          "AS-classification",
          "AS-classification",
          "AS-classification",
          "AS-classification",
          "AS-classification",
          "AS-classification",
          "AS-classification",
          "AS-classification",
          "AS-classification",
          "AS-classification",
          "AS-classification",
          "AS-classification",
          "AS-classification",
          "AS-classification",
          "AS-classification",
          "AS-classification",
          "AS-classification",
          "AS-classification",
          "AS-classification",
          "AS-classification",
          "AS-classification",
          "AS-classification",
          "AS-classification",
          "AS-classification",
          "AS-classification",
          "AS-classification",
          "AS-classification",
          "AS-classification",
          "AS-classification",
          "AS-classification",
          "AS-classification",
          "AS-classification",
          "AS-classification",
          "AS-classification",
          "AS-classification",
          "AS-classification",
          "AS-classification",
          "AS-classification",
          "AS-classification",
          "AS-classification",
          "AS-classification",
          "AS-classification",
          "AS-classification",
          "AS-classification",
          "AS-classification",
          "AS-classification",
          "AS-classification",
          "AS-classification",
          "AS-classification",
          "AS-classification",
          "AS-classification",
          "AS-classification",
          "AS-classification",
          "AS-classification",
          "AS-classification",
          "AS-classification",
          "AS-classification",
          "AS-classification",
          "AS-classification",
          "AS-classification",
          "AS-classification",
          "AS-classification",
          "AS-classification",
          "AS-classification",
          "AS-classification",
          "AS-classification",
          "AS-classification",
          "AS-classification",
          "AS-classification",
          "AS-classification",
          "AS-classification",
          "AS-classification",
          "AS-classification",
          "AS-classification",
          "AS-classification",
          "AS-classification",
          "AS-classification",
          "AS-classification",
          "AS-classification",
          "AS-classification",
          "AS-classification",
          "AS-classification",
          "AS-classification",
          "AS-classification",
          "AS-classification",
          "AS-classification",
          "AS-classification",
          "AS-classification",
          "AS-classification",
          "AS-classification",
          "AS-classification",
          "AS-classification",
          "AS-classification",
          "AS-classification",
          "AS-classification",
          "AS-classification",
          "AS-classification",
          "AS-classification",
          "AS-classification",
          "AS-classification",
          "AS-classification",
          "AS-classification",
          "AS-classification",
          "AS-classification",
          "AS-classification",
          "AS-classification",
          "AS-classification",
          "AS-classification",
          "AS-classification",
          "AS-classification",
          "AS-classification",
          "AS-classification",
          "AS-classification",
          "AS-classification",
          "AS-classification",
          "AS-classification",
          "AS-classification",
          "AS-classification",
          "AS-classification",
          "AS-classification",
          "AS-classification",
          "AS-classification",
          "AS-classification",
          "AS-classification",
          "AS-classification",
          "AS-classification",
          "AS-classification",
          "AS-classification",
          "AS-classification",
          "AS-classification",
          "AS-classification",
          "AS-classification",
          "AS-classification",
          "AS-classification",
          "AS-classification",
          "AS-classification",
          "AS-classification",
          "AS-classification",
          "AS-classification",
          "AS-classification",
          "AS-classification",
          "AS-classification",
          "AS-classification",
          "AS-classification",
          "AS-classification",
          "AS-classification",
          "AS-classification",
          "AS-classification",
          "AS-classification",
          "AS-classification",
          "AS-classification",
          "AS-classification",
          "AS-classification",
          "AS-classification",
          "AS-classification",
          "AS-classification",
          "AS-classification",
          "AS-classification",
          "AS-classification",
          "AS-classification",
          "AS-classification",
          "AS-classification",
          "AS-classification",
          "AS-classification",
          "AS-classification",
          "AS-classification",
          "AS-classification",
          "AS-classification",
          "AS-classification",
          "AS-classification"
         ],
         "x0": " ",
         "xaxis": "x",
         "y": [
          0,
          0,
          0,
          0,
          0,
          0,
          0,
          0,
          0,
          0,
          0,
          0,
          0,
          0,
          0,
          0,
          0,
          0,
          0,
          0,
          0,
          1.744060291296519,
          0,
          0,
          0,
          0,
          0,
          0,
          0,
          4.242311276518019,
          0,
          0,
          0,
          0,
          0,
          0,
          0,
          0,
          0,
          0,
          0.1774854676394284,
          0.2992997296092277,
          0.2219090766735441,
          0.3235230441449559,
          0.2076648077678253,
          0.2219090766735441,
          0.1644135786424581,
          0.2128685851464862,
          0.1581163692873453,
          0.211254100081387,
          0,
          0.0484553363459461,
          0,
          0,
          0,
          0,
          0.0705806733828096,
          0.0014425133883927,
          0,
          0.2430349746656784,
          0,
          0,
          0,
          0,
          0,
          0,
          0,
          0.077238914824502,
          0.4124998570659755,
          0.7091497666110007,
          0,
          0,
          0.1682227238293294,
          0,
          0,
          0,
          0,
          0,
          0,
          0,
          0,
          0,
          0.3177028326528714,
          0,
          0,
          0,
          0,
          0,
          0,
          0,
          0,
          0,
          0,
          0,
          0,
          0,
          0,
          0,
          0,
          0,
          0,
          0,
          0,
          0,
          0,
          0,
          0,
          0,
          0,
          0,
          0,
          0,
          0,
          0,
          0,
          0,
          0,
          0,
          0,
          0,
          0,
          0.0092109126870214,
          0,
          0,
          0,
          7.591312422867377,
          0,
          0,
          0,
          0,
          0.5692669558414963,
          7.840309492398584,
          0,
          0,
          0,
          0,
          0.0124152729159393,
          7.138250480799498,
          0,
          0,
          0,
          0,
          0,
          0,
          0,
          0,
          0,
          0.252695696628186,
          0,
          0,
          0,
          0,
          0,
          0,
          0,
          0,
          0.0398050038561375,
          0.0595123068506568,
          0,
          0,
          0,
          0,
          0,
          0,
          0,
          0,
          0,
          0,
          0,
          0,
          0.0601066038981982,
          0.0554183617776382,
          0,
          0,
          0.0493278450800944,
          0.1788244817093427,
          0,
          0,
          0,
          0,
          0,
          0,
          0,
          0,
          0,
          0,
          0,
          0.0477916140343235,
          0,
          0,
          0,
          0,
          0,
          0,
          0,
          0,
          0,
          0,
          0,
          0,
          0,
          0,
          0,
          0.9498147274412184,
          0.8912580278930466,
          0.2147285300590518,
          0.0026215277061858,
          0,
          0.0430930738081407,
          0,
          0,
          0.2113848325461101,
          0,
          0,
          0,
          0.3115701892648732,
          0,
          0,
          0,
          0,
          0,
          0,
          0,
          0,
          0,
          0,
          0,
          0,
          0,
          0,
          0,
          0,
          0,
          0,
          0,
          0,
          0,
          0,
          0,
          0
         ],
         "y0": " ",
         "yaxis": "y"
        },
        {
         "alignmentgroup": "True",
         "hovertemplate": "=%{x}<br>Loss=%{y}<extra></extra>",
         "legendgroup": "AS-pairwise-classification",
         "marker": {
          "color": "rgb(42, 35, 160)"
         },
         "name": "AS-pairwise-classification",
         "notched": false,
         "offsetgroup": "AS-pairwise-classification",
         "orientation": "v",
         "showlegend": true,
         "type": "box",
         "x": [
          "AS-pairwise-classification",
          "AS-pairwise-classification",
          "AS-pairwise-classification",
          "AS-pairwise-classification",
          "AS-pairwise-classification",
          "AS-pairwise-classification",
          "AS-pairwise-classification",
          "AS-pairwise-classification",
          "AS-pairwise-classification",
          "AS-pairwise-classification",
          "AS-pairwise-classification",
          "AS-pairwise-classification",
          "AS-pairwise-classification",
          "AS-pairwise-classification",
          "AS-pairwise-classification",
          "AS-pairwise-classification",
          "AS-pairwise-classification",
          "AS-pairwise-classification",
          "AS-pairwise-classification",
          "AS-pairwise-classification",
          "AS-pairwise-classification",
          "AS-pairwise-classification",
          "AS-pairwise-classification",
          "AS-pairwise-classification",
          "AS-pairwise-classification",
          "AS-pairwise-classification",
          "AS-pairwise-classification",
          "AS-pairwise-classification",
          "AS-pairwise-classification",
          "AS-pairwise-classification",
          "AS-pairwise-classification",
          "AS-pairwise-classification",
          "AS-pairwise-classification",
          "AS-pairwise-classification",
          "AS-pairwise-classification",
          "AS-pairwise-classification",
          "AS-pairwise-classification",
          "AS-pairwise-classification",
          "AS-pairwise-classification",
          "AS-pairwise-classification",
          "AS-pairwise-classification",
          "AS-pairwise-classification",
          "AS-pairwise-classification",
          "AS-pairwise-classification",
          "AS-pairwise-classification",
          "AS-pairwise-classification",
          "AS-pairwise-classification",
          "AS-pairwise-classification",
          "AS-pairwise-classification",
          "AS-pairwise-classification",
          "AS-pairwise-classification",
          "AS-pairwise-classification",
          "AS-pairwise-classification",
          "AS-pairwise-classification",
          "AS-pairwise-classification",
          "AS-pairwise-classification",
          "AS-pairwise-classification",
          "AS-pairwise-classification",
          "AS-pairwise-classification",
          "AS-pairwise-classification",
          "AS-pairwise-classification",
          "AS-pairwise-classification",
          "AS-pairwise-classification",
          "AS-pairwise-classification",
          "AS-pairwise-classification",
          "AS-pairwise-classification",
          "AS-pairwise-classification",
          "AS-pairwise-classification",
          "AS-pairwise-classification",
          "AS-pairwise-classification",
          "AS-pairwise-classification",
          "AS-pairwise-classification",
          "AS-pairwise-classification",
          "AS-pairwise-classification",
          "AS-pairwise-classification",
          "AS-pairwise-classification",
          "AS-pairwise-classification",
          "AS-pairwise-classification",
          "AS-pairwise-classification",
          "AS-pairwise-classification",
          "AS-pairwise-classification",
          "AS-pairwise-classification",
          "AS-pairwise-classification",
          "AS-pairwise-classification",
          "AS-pairwise-classification",
          "AS-pairwise-classification",
          "AS-pairwise-classification",
          "AS-pairwise-classification",
          "AS-pairwise-classification",
          "AS-pairwise-classification",
          "AS-pairwise-classification",
          "AS-pairwise-classification",
          "AS-pairwise-classification",
          "AS-pairwise-classification",
          "AS-pairwise-classification",
          "AS-pairwise-classification",
          "AS-pairwise-classification",
          "AS-pairwise-classification",
          "AS-pairwise-classification",
          "AS-pairwise-classification",
          "AS-pairwise-classification",
          "AS-pairwise-classification",
          "AS-pairwise-classification",
          "AS-pairwise-classification",
          "AS-pairwise-classification",
          "AS-pairwise-classification",
          "AS-pairwise-classification",
          "AS-pairwise-classification",
          "AS-pairwise-classification",
          "AS-pairwise-classification",
          "AS-pairwise-classification",
          "AS-pairwise-classification",
          "AS-pairwise-classification",
          "AS-pairwise-classification",
          "AS-pairwise-classification",
          "AS-pairwise-classification",
          "AS-pairwise-classification",
          "AS-pairwise-classification",
          "AS-pairwise-classification",
          "AS-pairwise-classification",
          "AS-pairwise-classification",
          "AS-pairwise-classification",
          "AS-pairwise-classification",
          "AS-pairwise-classification",
          "AS-pairwise-classification",
          "AS-pairwise-classification",
          "AS-pairwise-classification",
          "AS-pairwise-classification",
          "AS-pairwise-classification",
          "AS-pairwise-classification",
          "AS-pairwise-classification",
          "AS-pairwise-classification",
          "AS-pairwise-classification",
          "AS-pairwise-classification",
          "AS-pairwise-classification",
          "AS-pairwise-classification",
          "AS-pairwise-classification",
          "AS-pairwise-classification",
          "AS-pairwise-classification",
          "AS-pairwise-classification",
          "AS-pairwise-classification",
          "AS-pairwise-classification",
          "AS-pairwise-classification",
          "AS-pairwise-classification",
          "AS-pairwise-classification",
          "AS-pairwise-classification",
          "AS-pairwise-classification",
          "AS-pairwise-classification",
          "AS-pairwise-classification",
          "AS-pairwise-classification",
          "AS-pairwise-classification",
          "AS-pairwise-classification",
          "AS-pairwise-classification",
          "AS-pairwise-classification",
          "AS-pairwise-classification",
          "AS-pairwise-classification",
          "AS-pairwise-classification",
          "AS-pairwise-classification",
          "AS-pairwise-classification",
          "AS-pairwise-classification",
          "AS-pairwise-classification",
          "AS-pairwise-classification",
          "AS-pairwise-classification",
          "AS-pairwise-classification",
          "AS-pairwise-classification",
          "AS-pairwise-classification",
          "AS-pairwise-classification",
          "AS-pairwise-classification",
          "AS-pairwise-classification",
          "AS-pairwise-classification",
          "AS-pairwise-classification",
          "AS-pairwise-classification",
          "AS-pairwise-classification",
          "AS-pairwise-classification",
          "AS-pairwise-classification",
          "AS-pairwise-classification",
          "AS-pairwise-classification",
          "AS-pairwise-classification",
          "AS-pairwise-classification",
          "AS-pairwise-classification",
          "AS-pairwise-classification",
          "AS-pairwise-classification",
          "AS-pairwise-classification",
          "AS-pairwise-classification",
          "AS-pairwise-classification",
          "AS-pairwise-classification",
          "AS-pairwise-classification",
          "AS-pairwise-classification",
          "AS-pairwise-classification",
          "AS-pairwise-classification",
          "AS-pairwise-classification",
          "AS-pairwise-classification",
          "AS-pairwise-classification",
          "AS-pairwise-classification",
          "AS-pairwise-classification",
          "AS-pairwise-classification",
          "AS-pairwise-classification",
          "AS-pairwise-classification",
          "AS-pairwise-classification",
          "AS-pairwise-classification",
          "AS-pairwise-classification",
          "AS-pairwise-classification",
          "AS-pairwise-classification",
          "AS-pairwise-classification",
          "AS-pairwise-classification",
          "AS-pairwise-classification",
          "AS-pairwise-classification",
          "AS-pairwise-classification",
          "AS-pairwise-classification",
          "AS-pairwise-classification",
          "AS-pairwise-classification",
          "AS-pairwise-classification",
          "AS-pairwise-classification",
          "AS-pairwise-classification",
          "AS-pairwise-classification",
          "AS-pairwise-classification",
          "AS-pairwise-classification",
          "AS-pairwise-classification",
          "AS-pairwise-classification",
          "AS-pairwise-classification",
          "AS-pairwise-classification",
          "AS-pairwise-classification",
          "AS-pairwise-classification",
          "AS-pairwise-classification",
          "AS-pairwise-classification",
          "AS-pairwise-classification",
          "AS-pairwise-classification",
          "AS-pairwise-classification",
          "AS-pairwise-classification",
          "AS-pairwise-classification",
          "AS-pairwise-classification",
          "AS-pairwise-classification",
          "AS-pairwise-classification",
          "AS-pairwise-classification",
          "AS-pairwise-classification",
          "AS-pairwise-classification",
          "AS-pairwise-classification",
          "AS-pairwise-classification",
          "AS-pairwise-classification",
          "AS-pairwise-classification"
         ],
         "x0": " ",
         "xaxis": "x",
         "y": [
          0,
          0,
          0,
          0,
          0,
          0,
          0,
          0,
          0,
          0,
          0,
          0,
          0,
          0,
          0,
          0,
          0,
          0,
          0,
          0,
          0,
          0,
          0,
          0,
          0,
          0,
          0,
          0,
          0,
          4.242311276518019,
          0,
          0,
          0,
          0,
          0,
          0,
          0,
          0,
          0,
          0,
          0.1774854676394284,
          0.2992997296092277,
          0.2219090766735441,
          0.3235230441449559,
          0.2076648077678253,
          0.2219090766735441,
          0.1644135786424581,
          0.2128685851464862,
          0.1581163692873453,
          0.211254100081387,
          0,
          0.0484553363459461,
          0,
          0,
          0,
          0,
          0.0705806733828096,
          0.0014425133883927,
          0.0115918370689268,
          0.2430349746656784,
          0,
          0,
          0,
          0,
          0,
          0,
          0,
          0.077238914824502,
          0.4124998570659755,
          0.7091497666110007,
          0,
          0,
          0.1682227238293294,
          0,
          0,
          0,
          0,
          0,
          0,
          0,
          0,
          0,
          0.3177028326528714,
          0,
          0,
          0,
          0,
          0,
          0,
          0,
          0.8263880655680316,
          1.03367260928174,
          0.7950047979177823,
          1.306827874951897,
          1.1311029360791949,
          0,
          0,
          0,
          0,
          0.897357041810373,
          0,
          0,
          0,
          0,
          0,
          0,
          0,
          0,
          0,
          0,
          0,
          0,
          0,
          0,
          0,
          0,
          0,
          0,
          0,
          0,
          0,
          0.0092109126870214,
          0,
          0,
          0,
          7.591312422867377,
          0,
          0,
          0,
          0,
          0.5692669558414963,
          7.840309492398584,
          0,
          0,
          1.020282044919273,
          0,
          0.0124152729159393,
          7.138250480799498,
          0,
          0,
          0,
          0,
          0,
          0,
          0,
          0,
          0,
          0.252695696628186,
          0,
          0,
          0,
          0,
          0,
          0,
          0,
          0,
          0.0398050038561375,
          0.0595123068506568,
          0,
          0,
          0,
          0,
          0,
          0,
          0,
          0,
          0,
          0,
          0,
          0,
          0.0601066038981982,
          0.0554183617776382,
          0,
          0,
          0.0493278450800944,
          0,
          0.0977395860815961,
          0,
          0.1012731741531391,
          0,
          0,
          0,
          0,
          0,
          0,
          0.1681375015517909,
          0,
          0.0477916140343235,
          0,
          0,
          0,
          0,
          0,
          0,
          0,
          0,
          0,
          0,
          0,
          0,
          0,
          0,
          0,
          0.9498147274412184,
          0.8912580278930466,
          0.2147285300590518,
          0.0026215277061858,
          0,
          0.0430930738081407,
          0,
          0,
          0.2113848325461101,
          0,
          0,
          0,
          0.3115701892648732,
          0,
          0,
          0,
          0,
          0,
          0,
          0,
          0,
          0,
          0,
          0,
          0,
          0,
          0,
          0,
          0,
          0,
          0,
          0,
          0,
          0,
          0,
          0,
          0
         ],
         "y0": " ",
         "yaxis": "y"
        },
        {
         "alignmentgroup": "True",
         "hovertemplate": "=%{x}<br>Loss=%{y}<extra></extra>",
         "legendgroup": "AS-regression",
         "marker": {
          "color": "rgb(15, 71, 153)"
         },
         "name": "AS-regression",
         "notched": false,
         "offsetgroup": "AS-regression",
         "orientation": "v",
         "showlegend": true,
         "type": "box",
         "x": [
          "AS-regression",
          "AS-regression",
          "AS-regression",
          "AS-regression",
          "AS-regression",
          "AS-regression",
          "AS-regression",
          "AS-regression",
          "AS-regression",
          "AS-regression",
          "AS-regression",
          "AS-regression",
          "AS-regression",
          "AS-regression",
          "AS-regression",
          "AS-regression",
          "AS-regression",
          "AS-regression",
          "AS-regression",
          "AS-regression",
          "AS-regression",
          "AS-regression",
          "AS-regression",
          "AS-regression",
          "AS-regression",
          "AS-regression",
          "AS-regression",
          "AS-regression",
          "AS-regression",
          "AS-regression",
          "AS-regression",
          "AS-regression",
          "AS-regression",
          "AS-regression",
          "AS-regression",
          "AS-regression",
          "AS-regression",
          "AS-regression",
          "AS-regression",
          "AS-regression",
          "AS-regression",
          "AS-regression",
          "AS-regression",
          "AS-regression",
          "AS-regression",
          "AS-regression",
          "AS-regression",
          "AS-regression",
          "AS-regression",
          "AS-regression",
          "AS-regression",
          "AS-regression",
          "AS-regression",
          "AS-regression",
          "AS-regression",
          "AS-regression",
          "AS-regression",
          "AS-regression",
          "AS-regression",
          "AS-regression",
          "AS-regression",
          "AS-regression",
          "AS-regression",
          "AS-regression",
          "AS-regression",
          "AS-regression",
          "AS-regression",
          "AS-regression",
          "AS-regression",
          "AS-regression",
          "AS-regression",
          "AS-regression",
          "AS-regression",
          "AS-regression",
          "AS-regression",
          "AS-regression",
          "AS-regression",
          "AS-regression",
          "AS-regression",
          "AS-regression",
          "AS-regression",
          "AS-regression",
          "AS-regression",
          "AS-regression",
          "AS-regression",
          "AS-regression",
          "AS-regression",
          "AS-regression",
          "AS-regression",
          "AS-regression",
          "AS-regression",
          "AS-regression",
          "AS-regression",
          "AS-regression",
          "AS-regression",
          "AS-regression",
          "AS-regression",
          "AS-regression",
          "AS-regression",
          "AS-regression",
          "AS-regression",
          "AS-regression",
          "AS-regression",
          "AS-regression",
          "AS-regression",
          "AS-regression",
          "AS-regression",
          "AS-regression",
          "AS-regression",
          "AS-regression",
          "AS-regression",
          "AS-regression",
          "AS-regression",
          "AS-regression",
          "AS-regression",
          "AS-regression",
          "AS-regression",
          "AS-regression",
          "AS-regression",
          "AS-regression",
          "AS-regression",
          "AS-regression",
          "AS-regression",
          "AS-regression",
          "AS-regression",
          "AS-regression",
          "AS-regression",
          "AS-regression",
          "AS-regression",
          "AS-regression",
          "AS-regression",
          "AS-regression",
          "AS-regression",
          "AS-regression",
          "AS-regression",
          "AS-regression",
          "AS-regression",
          "AS-regression",
          "AS-regression",
          "AS-regression",
          "AS-regression",
          "AS-regression",
          "AS-regression",
          "AS-regression",
          "AS-regression",
          "AS-regression",
          "AS-regression",
          "AS-regression",
          "AS-regression",
          "AS-regression",
          "AS-regression",
          "AS-regression",
          "AS-regression",
          "AS-regression",
          "AS-regression",
          "AS-regression",
          "AS-regression",
          "AS-regression",
          "AS-regression",
          "AS-regression",
          "AS-regression",
          "AS-regression",
          "AS-regression",
          "AS-regression",
          "AS-regression",
          "AS-regression",
          "AS-regression",
          "AS-regression",
          "AS-regression",
          "AS-regression",
          "AS-regression",
          "AS-regression",
          "AS-regression",
          "AS-regression",
          "AS-regression",
          "AS-regression",
          "AS-regression",
          "AS-regression",
          "AS-regression",
          "AS-regression",
          "AS-regression",
          "AS-regression",
          "AS-regression",
          "AS-regression",
          "AS-regression",
          "AS-regression",
          "AS-regression",
          "AS-regression",
          "AS-regression",
          "AS-regression",
          "AS-regression",
          "AS-regression",
          "AS-regression",
          "AS-regression",
          "AS-regression",
          "AS-regression",
          "AS-regression",
          "AS-regression",
          "AS-regression",
          "AS-regression",
          "AS-regression",
          "AS-regression",
          "AS-regression",
          "AS-regression",
          "AS-regression",
          "AS-regression",
          "AS-regression",
          "AS-regression",
          "AS-regression",
          "AS-regression",
          "AS-regression",
          "AS-regression",
          "AS-regression",
          "AS-regression",
          "AS-regression",
          "AS-regression",
          "AS-regression",
          "AS-regression",
          "AS-regression",
          "AS-regression",
          "AS-regression",
          "AS-regression",
          "AS-regression",
          "AS-regression",
          "AS-regression",
          "AS-regression",
          "AS-regression",
          "AS-regression",
          "AS-regression",
          "AS-regression",
          "AS-regression",
          "AS-regression",
          "AS-regression",
          "AS-regression",
          "AS-regression",
          "AS-regression",
          "AS-regression",
          "AS-regression",
          "AS-regression",
          "AS-regression"
         ],
         "x0": " ",
         "xaxis": "x",
         "y": [
          0,
          0,
          0,
          0,
          0,
          0,
          0,
          0,
          0,
          0,
          0,
          0,
          0,
          0,
          0,
          0,
          0,
          0,
          0,
          0,
          0,
          0,
          0,
          0,
          0,
          0,
          0,
          0,
          0,
          4.242311276518019,
          0,
          0,
          0,
          0,
          0,
          0,
          0,
          0,
          0,
          0,
          0,
          0.2992997296092277,
          0.2219090766735441,
          0.3235230441449559,
          0.2076648077678253,
          0.2219090766735441,
          0.1644135786424581,
          0.2128685851464862,
          0.1581163692873453,
          0.211254100081387,
          0.1901054223384582,
          0,
          0.0969100130080564,
          0,
          0.3266060448235887,
          0.2675558400260163,
          0.0705806733828096,
          0.0014425133883927,
          0.0115918370689268,
          0.2430349746656784,
          0,
          0,
          0,
          0,
          0,
          0,
          0,
          0.077238914824502,
          0.4124998570659755,
          0.7091497666110007,
          0,
          0,
          0.1682227238293294,
          0,
          0,
          0,
          0,
          0,
          0,
          0,
          0,
          0,
          0.3177028326528714,
          0,
          0.3966542113327844,
          0,
          0,
          0,
          0,
          0.5188197234020269,
          0,
          0,
          0,
          0,
          0,
          0,
          0,
          0,
          0,
          0,
          0,
          0,
          0,
          0,
          0,
          0,
          0,
          0,
          0,
          0,
          0.1783754822147372,
          0.1592182962761878,
          0.2026887368799789,
          0.1458595147172296,
          0.1981067139851492,
          0.2139790358265421,
          0.1783754822147372,
          0.1264513205987193,
          0.1935952199278329,
          0.0874075647995397,
          0,
          0.0092109126870214,
          0,
          0,
          0,
          0,
          0.6767162060477878,
          0,
          0.3813219744155651,
          0.6475893585645649,
          0.5692669558414963,
          4.468159395243553,
          0.45997225425025,
          0.4918438843042074,
          1.020282044919273,
          1.5648373571799516,
          0,
          0,
          1.4930214785918177,
          0.8470469890351916,
          0,
          0,
          0,
          0,
          0,
          0,
          0,
          0.252695696628186,
          0,
          0,
          0.024915117015121,
          0,
          0,
          0,
          0,
          0,
          0,
          0.0595123068506568,
          0.0148984319671441,
          0.0132430824909774,
          0,
          0,
          0,
          0,
          0,
          0,
          0,
          0,
          0,
          0,
          0.2362980055132407,
          0.0554183617776382,
          0.0669584884916332,
          0.1276361041662843,
          0.0493278450800944,
          0.1788244817093427,
          0.0977395860815961,
          0.0791808795445883,
          0.1012731741531391,
          0.1944411696945068,
          0.2637543447552567,
          0.3482040685931432,
          0.0646212890110624,
          0.0121654704044195,
          0.1332213379509982,
          0.1681375015517909,
          0.2494137229842703,
          0.0959412834321639,
          0.0644117695844883,
          0.1904621848253813,
          0,
          0,
          0,
          0,
          0,
          0,
          0,
          0,
          0,
          0,
          0,
          0,
          0,
          0.9498147274412184,
          0.8912580278930466,
          0.2147285300590518,
          0.0026215277061858,
          0,
          0.0430930738081407,
          0,
          0,
          0.2113848325461101,
          0,
          0,
          0,
          0.3115701892648732,
          0,
          0,
          0,
          0,
          0,
          0,
          0,
          0,
          0,
          0,
          0,
          0,
          0,
          0,
          0,
          0,
          0,
          0,
          0,
          0,
          0,
          0,
          0,
          0
         ],
         "y0": " ",
         "yaxis": "y"
        }
       ],
       "layout": {
        "autosize": false,
        "boxmode": "overlay",
        "font": {
         "size": 22
        },
        "height": 700,
        "legend": {
         "title": {
          "text": ""
         },
         "tracegroupgap": 0
        },
        "margin": {
         "b": 0,
         "l": 50,
         "pad": 4,
         "r": 50,
         "t": 50
        },
        "showlegend": false,
        "template": {
         "data": {
          "bar": [
           {
            "error_x": {
             "color": "#2a3f5f"
            },
            "error_y": {
             "color": "#2a3f5f"
            },
            "marker": {
             "line": {
              "color": "#E5ECF6",
              "width": 0.5
             },
             "pattern": {
              "fillmode": "overlay",
              "size": 10,
              "solidity": 0.2
             }
            },
            "type": "bar"
           }
          ],
          "barpolar": [
           {
            "marker": {
             "line": {
              "color": "#E5ECF6",
              "width": 0.5
             },
             "pattern": {
              "fillmode": "overlay",
              "size": 10,
              "solidity": 0.2
             }
            },
            "type": "barpolar"
           }
          ],
          "carpet": [
           {
            "aaxis": {
             "endlinecolor": "#2a3f5f",
             "gridcolor": "white",
             "linecolor": "white",
             "minorgridcolor": "white",
             "startlinecolor": "#2a3f5f"
            },
            "baxis": {
             "endlinecolor": "#2a3f5f",
             "gridcolor": "white",
             "linecolor": "white",
             "minorgridcolor": "white",
             "startlinecolor": "#2a3f5f"
            },
            "type": "carpet"
           }
          ],
          "choropleth": [
           {
            "colorbar": {
             "outlinewidth": 0,
             "ticks": ""
            },
            "type": "choropleth"
           }
          ],
          "contour": [
           {
            "colorbar": {
             "outlinewidth": 0,
             "ticks": ""
            },
            "colorscale": [
             [
              0,
              "#0d0887"
             ],
             [
              0.1111111111111111,
              "#46039f"
             ],
             [
              0.2222222222222222,
              "#7201a8"
             ],
             [
              0.3333333333333333,
              "#9c179e"
             ],
             [
              0.4444444444444444,
              "#bd3786"
             ],
             [
              0.5555555555555556,
              "#d8576b"
             ],
             [
              0.6666666666666666,
              "#ed7953"
             ],
             [
              0.7777777777777778,
              "#fb9f3a"
             ],
             [
              0.8888888888888888,
              "#fdca26"
             ],
             [
              1,
              "#f0f921"
             ]
            ],
            "type": "contour"
           }
          ],
          "contourcarpet": [
           {
            "colorbar": {
             "outlinewidth": 0,
             "ticks": ""
            },
            "type": "contourcarpet"
           }
          ],
          "heatmap": [
           {
            "colorbar": {
             "outlinewidth": 0,
             "ticks": ""
            },
            "colorscale": [
             [
              0,
              "#0d0887"
             ],
             [
              0.1111111111111111,
              "#46039f"
             ],
             [
              0.2222222222222222,
              "#7201a8"
             ],
             [
              0.3333333333333333,
              "#9c179e"
             ],
             [
              0.4444444444444444,
              "#bd3786"
             ],
             [
              0.5555555555555556,
              "#d8576b"
             ],
             [
              0.6666666666666666,
              "#ed7953"
             ],
             [
              0.7777777777777778,
              "#fb9f3a"
             ],
             [
              0.8888888888888888,
              "#fdca26"
             ],
             [
              1,
              "#f0f921"
             ]
            ],
            "type": "heatmap"
           }
          ],
          "heatmapgl": [
           {
            "colorbar": {
             "outlinewidth": 0,
             "ticks": ""
            },
            "colorscale": [
             [
              0,
              "#0d0887"
             ],
             [
              0.1111111111111111,
              "#46039f"
             ],
             [
              0.2222222222222222,
              "#7201a8"
             ],
             [
              0.3333333333333333,
              "#9c179e"
             ],
             [
              0.4444444444444444,
              "#bd3786"
             ],
             [
              0.5555555555555556,
              "#d8576b"
             ],
             [
              0.6666666666666666,
              "#ed7953"
             ],
             [
              0.7777777777777778,
              "#fb9f3a"
             ],
             [
              0.8888888888888888,
              "#fdca26"
             ],
             [
              1,
              "#f0f921"
             ]
            ],
            "type": "heatmapgl"
           }
          ],
          "histogram": [
           {
            "marker": {
             "pattern": {
              "fillmode": "overlay",
              "size": 10,
              "solidity": 0.2
             }
            },
            "type": "histogram"
           }
          ],
          "histogram2d": [
           {
            "colorbar": {
             "outlinewidth": 0,
             "ticks": ""
            },
            "colorscale": [
             [
              0,
              "#0d0887"
             ],
             [
              0.1111111111111111,
              "#46039f"
             ],
             [
              0.2222222222222222,
              "#7201a8"
             ],
             [
              0.3333333333333333,
              "#9c179e"
             ],
             [
              0.4444444444444444,
              "#bd3786"
             ],
             [
              0.5555555555555556,
              "#d8576b"
             ],
             [
              0.6666666666666666,
              "#ed7953"
             ],
             [
              0.7777777777777778,
              "#fb9f3a"
             ],
             [
              0.8888888888888888,
              "#fdca26"
             ],
             [
              1,
              "#f0f921"
             ]
            ],
            "type": "histogram2d"
           }
          ],
          "histogram2dcontour": [
           {
            "colorbar": {
             "outlinewidth": 0,
             "ticks": ""
            },
            "colorscale": [
             [
              0,
              "#0d0887"
             ],
             [
              0.1111111111111111,
              "#46039f"
             ],
             [
              0.2222222222222222,
              "#7201a8"
             ],
             [
              0.3333333333333333,
              "#9c179e"
             ],
             [
              0.4444444444444444,
              "#bd3786"
             ],
             [
              0.5555555555555556,
              "#d8576b"
             ],
             [
              0.6666666666666666,
              "#ed7953"
             ],
             [
              0.7777777777777778,
              "#fb9f3a"
             ],
             [
              0.8888888888888888,
              "#fdca26"
             ],
             [
              1,
              "#f0f921"
             ]
            ],
            "type": "histogram2dcontour"
           }
          ],
          "mesh3d": [
           {
            "colorbar": {
             "outlinewidth": 0,
             "ticks": ""
            },
            "type": "mesh3d"
           }
          ],
          "parcoords": [
           {
            "line": {
             "colorbar": {
              "outlinewidth": 0,
              "ticks": ""
             }
            },
            "type": "parcoords"
           }
          ],
          "pie": [
           {
            "automargin": true,
            "type": "pie"
           }
          ],
          "scatter": [
           {
            "fillpattern": {
             "fillmode": "overlay",
             "size": 10,
             "solidity": 0.2
            },
            "type": "scatter"
           }
          ],
          "scatter3d": [
           {
            "line": {
             "colorbar": {
              "outlinewidth": 0,
              "ticks": ""
             }
            },
            "marker": {
             "colorbar": {
              "outlinewidth": 0,
              "ticks": ""
             }
            },
            "type": "scatter3d"
           }
          ],
          "scattercarpet": [
           {
            "marker": {
             "colorbar": {
              "outlinewidth": 0,
              "ticks": ""
             }
            },
            "type": "scattercarpet"
           }
          ],
          "scattergeo": [
           {
            "marker": {
             "colorbar": {
              "outlinewidth": 0,
              "ticks": ""
             }
            },
            "type": "scattergeo"
           }
          ],
          "scattergl": [
           {
            "marker": {
             "colorbar": {
              "outlinewidth": 0,
              "ticks": ""
             }
            },
            "type": "scattergl"
           }
          ],
          "scattermapbox": [
           {
            "marker": {
             "colorbar": {
              "outlinewidth": 0,
              "ticks": ""
             }
            },
            "type": "scattermapbox"
           }
          ],
          "scatterpolar": [
           {
            "marker": {
             "colorbar": {
              "outlinewidth": 0,
              "ticks": ""
             }
            },
            "type": "scatterpolar"
           }
          ],
          "scatterpolargl": [
           {
            "marker": {
             "colorbar": {
              "outlinewidth": 0,
              "ticks": ""
             }
            },
            "type": "scatterpolargl"
           }
          ],
          "scatterternary": [
           {
            "marker": {
             "colorbar": {
              "outlinewidth": 0,
              "ticks": ""
             }
            },
            "type": "scatterternary"
           }
          ],
          "surface": [
           {
            "colorbar": {
             "outlinewidth": 0,
             "ticks": ""
            },
            "colorscale": [
             [
              0,
              "#0d0887"
             ],
             [
              0.1111111111111111,
              "#46039f"
             ],
             [
              0.2222222222222222,
              "#7201a8"
             ],
             [
              0.3333333333333333,
              "#9c179e"
             ],
             [
              0.4444444444444444,
              "#bd3786"
             ],
             [
              0.5555555555555556,
              "#d8576b"
             ],
             [
              0.6666666666666666,
              "#ed7953"
             ],
             [
              0.7777777777777778,
              "#fb9f3a"
             ],
             [
              0.8888888888888888,
              "#fdca26"
             ],
             [
              1,
              "#f0f921"
             ]
            ],
            "type": "surface"
           }
          ],
          "table": [
           {
            "cells": {
             "fill": {
              "color": "#EBF0F8"
             },
             "line": {
              "color": "white"
             }
            },
            "header": {
             "fill": {
              "color": "#C8D4E3"
             },
             "line": {
              "color": "white"
             }
            },
            "type": "table"
           }
          ]
         },
         "layout": {
          "annotationdefaults": {
           "arrowcolor": "#2a3f5f",
           "arrowhead": 0,
           "arrowwidth": 1
          },
          "autotypenumbers": "strict",
          "coloraxis": {
           "colorbar": {
            "outlinewidth": 0,
            "ticks": ""
           }
          },
          "colorscale": {
           "diverging": [
            [
             0,
             "#8e0152"
            ],
            [
             0.1,
             "#c51b7d"
            ],
            [
             0.2,
             "#de77ae"
            ],
            [
             0.3,
             "#f1b6da"
            ],
            [
             0.4,
             "#fde0ef"
            ],
            [
             0.5,
             "#f7f7f7"
            ],
            [
             0.6,
             "#e6f5d0"
            ],
            [
             0.7,
             "#b8e186"
            ],
            [
             0.8,
             "#7fbc41"
            ],
            [
             0.9,
             "#4d9221"
            ],
            [
             1,
             "#276419"
            ]
           ],
           "sequential": [
            [
             0,
             "#0d0887"
            ],
            [
             0.1111111111111111,
             "#46039f"
            ],
            [
             0.2222222222222222,
             "#7201a8"
            ],
            [
             0.3333333333333333,
             "#9c179e"
            ],
            [
             0.4444444444444444,
             "#bd3786"
            ],
            [
             0.5555555555555556,
             "#d8576b"
            ],
            [
             0.6666666666666666,
             "#ed7953"
            ],
            [
             0.7777777777777778,
             "#fb9f3a"
            ],
            [
             0.8888888888888888,
             "#fdca26"
            ],
            [
             1,
             "#f0f921"
            ]
           ],
           "sequentialminus": [
            [
             0,
             "#0d0887"
            ],
            [
             0.1111111111111111,
             "#46039f"
            ],
            [
             0.2222222222222222,
             "#7201a8"
            ],
            [
             0.3333333333333333,
             "#9c179e"
            ],
            [
             0.4444444444444444,
             "#bd3786"
            ],
            [
             0.5555555555555556,
             "#d8576b"
            ],
            [
             0.6666666666666666,
             "#ed7953"
            ],
            [
             0.7777777777777778,
             "#fb9f3a"
            ],
            [
             0.8888888888888888,
             "#fdca26"
            ],
            [
             1,
             "#f0f921"
            ]
           ]
          },
          "colorway": [
           "#636efa",
           "#EF553B",
           "#00cc96",
           "#ab63fa",
           "#FFA15A",
           "#19d3f3",
           "#FF6692",
           "#B6E880",
           "#FF97FF",
           "#FECB52"
          ],
          "font": {
           "color": "#2a3f5f"
          },
          "geo": {
           "bgcolor": "white",
           "lakecolor": "white",
           "landcolor": "#E5ECF6",
           "showlakes": true,
           "showland": true,
           "subunitcolor": "white"
          },
          "hoverlabel": {
           "align": "left"
          },
          "hovermode": "closest",
          "mapbox": {
           "style": "light"
          },
          "paper_bgcolor": "white",
          "plot_bgcolor": "#E5ECF6",
          "polar": {
           "angularaxis": {
            "gridcolor": "white",
            "linecolor": "white",
            "ticks": ""
           },
           "bgcolor": "#E5ECF6",
           "radialaxis": {
            "gridcolor": "white",
            "linecolor": "white",
            "ticks": ""
           }
          },
          "scene": {
           "xaxis": {
            "backgroundcolor": "#E5ECF6",
            "gridcolor": "white",
            "gridwidth": 2,
            "linecolor": "white",
            "showbackground": true,
            "ticks": "",
            "zerolinecolor": "white"
           },
           "yaxis": {
            "backgroundcolor": "#E5ECF6",
            "gridcolor": "white",
            "gridwidth": 2,
            "linecolor": "white",
            "showbackground": true,
            "ticks": "",
            "zerolinecolor": "white"
           },
           "zaxis": {
            "backgroundcolor": "#E5ECF6",
            "gridcolor": "white",
            "gridwidth": 2,
            "linecolor": "white",
            "showbackground": true,
            "ticks": "",
            "zerolinecolor": "white"
           }
          },
          "shapedefaults": {
           "line": {
            "color": "#2a3f5f"
           }
          },
          "ternary": {
           "aaxis": {
            "gridcolor": "white",
            "linecolor": "white",
            "ticks": ""
           },
           "baxis": {
            "gridcolor": "white",
            "linecolor": "white",
            "ticks": ""
           },
           "bgcolor": "#E5ECF6",
           "caxis": {
            "gridcolor": "white",
            "linecolor": "white",
            "ticks": ""
           }
          },
          "title": {
           "x": 0.05
          },
          "xaxis": {
           "automargin": true,
           "gridcolor": "white",
           "linecolor": "white",
           "ticks": "",
           "title": {
            "standoff": 15
           },
           "zerolinecolor": "white",
           "zerolinewidth": 2
          },
          "yaxis": {
           "automargin": true,
           "gridcolor": "white",
           "linecolor": "white",
           "ticks": "",
           "title": {
            "standoff": 15
           },
           "zerolinecolor": "white",
           "zerolinewidth": 2
          }
         }
        },
        "title": {
         "text": "Runtime: 2500",
         "x": 0.5
        },
        "width": 1000,
        "xaxis": {
         "anchor": "y",
         "categoryarray": [
          "AS-classification",
          "AS-pairwise-classification",
          "AS-regression"
         ],
         "categoryorder": "array",
         "domain": [
          0,
          1
         ],
         "title": {
          "text": ""
         }
        },
        "yaxis": {
         "anchor": "x",
         "domain": [
          0,
          1
         ],
         "title": {
          "text": "Loss"
         }
        }
       }
      }
     },
     "metadata": {},
     "output_type": "display_data"
    },
    {
     "name": "stdout",
     "output_type": "stream",
     "text": [
      "Runtime: 5000\n",
      "Loss classification pairwise sum: AS-pairwise-classification    41.753159\n",
      "dtype: float64\n",
      "Loss classification sum: AS-classification    44.937096\n",
      "dtype: float64\n",
      "Loss regression sum: AS-regression    41.634474\n",
      "dtype: float64\n"
     ]
    },
    {
     "data": {
      "application/vnd.plotly.v1+json": {
       "config": {
        "plotlyServerURL": "https://plot.ly"
       },
       "data": [
        {
         "alignmentgroup": "True",
         "hovertemplate": "=%{x}<br>Loss=%{y}<extra></extra>",
         "legendgroup": "AS-classification",
         "marker": {
          "color": "rgb(41, 24, 107)"
         },
         "name": "AS-classification",
         "notched": false,
         "offsetgroup": "AS-classification",
         "orientation": "v",
         "showlegend": true,
         "type": "box",
         "x": [
          "AS-classification",
          "AS-classification",
          "AS-classification",
          "AS-classification",
          "AS-classification",
          "AS-classification",
          "AS-classification",
          "AS-classification",
          "AS-classification",
          "AS-classification",
          "AS-classification",
          "AS-classification",
          "AS-classification",
          "AS-classification",
          "AS-classification",
          "AS-classification",
          "AS-classification",
          "AS-classification",
          "AS-classification",
          "AS-classification",
          "AS-classification",
          "AS-classification",
          "AS-classification",
          "AS-classification",
          "AS-classification",
          "AS-classification",
          "AS-classification",
          "AS-classification",
          "AS-classification",
          "AS-classification",
          "AS-classification",
          "AS-classification",
          "AS-classification",
          "AS-classification",
          "AS-classification",
          "AS-classification",
          "AS-classification",
          "AS-classification",
          "AS-classification",
          "AS-classification",
          "AS-classification",
          "AS-classification",
          "AS-classification",
          "AS-classification",
          "AS-classification",
          "AS-classification",
          "AS-classification",
          "AS-classification",
          "AS-classification",
          "AS-classification",
          "AS-classification",
          "AS-classification",
          "AS-classification",
          "AS-classification",
          "AS-classification",
          "AS-classification",
          "AS-classification",
          "AS-classification",
          "AS-classification",
          "AS-classification",
          "AS-classification",
          "AS-classification",
          "AS-classification",
          "AS-classification",
          "AS-classification",
          "AS-classification",
          "AS-classification",
          "AS-classification",
          "AS-classification",
          "AS-classification",
          "AS-classification",
          "AS-classification",
          "AS-classification",
          "AS-classification",
          "AS-classification",
          "AS-classification",
          "AS-classification",
          "AS-classification",
          "AS-classification",
          "AS-classification",
          "AS-classification",
          "AS-classification",
          "AS-classification",
          "AS-classification",
          "AS-classification",
          "AS-classification",
          "AS-classification",
          "AS-classification",
          "AS-classification",
          "AS-classification",
          "AS-classification",
          "AS-classification",
          "AS-classification",
          "AS-classification",
          "AS-classification",
          "AS-classification",
          "AS-classification",
          "AS-classification",
          "AS-classification",
          "AS-classification",
          "AS-classification",
          "AS-classification",
          "AS-classification",
          "AS-classification",
          "AS-classification",
          "AS-classification",
          "AS-classification",
          "AS-classification",
          "AS-classification",
          "AS-classification",
          "AS-classification",
          "AS-classification",
          "AS-classification",
          "AS-classification",
          "AS-classification",
          "AS-classification",
          "AS-classification",
          "AS-classification",
          "AS-classification",
          "AS-classification",
          "AS-classification",
          "AS-classification",
          "AS-classification",
          "AS-classification",
          "AS-classification",
          "AS-classification",
          "AS-classification",
          "AS-classification",
          "AS-classification",
          "AS-classification",
          "AS-classification",
          "AS-classification",
          "AS-classification",
          "AS-classification",
          "AS-classification",
          "AS-classification",
          "AS-classification",
          "AS-classification",
          "AS-classification",
          "AS-classification",
          "AS-classification",
          "AS-classification",
          "AS-classification",
          "AS-classification",
          "AS-classification",
          "AS-classification",
          "AS-classification",
          "AS-classification",
          "AS-classification",
          "AS-classification",
          "AS-classification",
          "AS-classification",
          "AS-classification",
          "AS-classification",
          "AS-classification",
          "AS-classification",
          "AS-classification",
          "AS-classification",
          "AS-classification",
          "AS-classification",
          "AS-classification",
          "AS-classification",
          "AS-classification",
          "AS-classification",
          "AS-classification",
          "AS-classification",
          "AS-classification",
          "AS-classification",
          "AS-classification",
          "AS-classification",
          "AS-classification",
          "AS-classification",
          "AS-classification",
          "AS-classification",
          "AS-classification",
          "AS-classification",
          "AS-classification",
          "AS-classification",
          "AS-classification",
          "AS-classification",
          "AS-classification",
          "AS-classification",
          "AS-classification",
          "AS-classification",
          "AS-classification",
          "AS-classification",
          "AS-classification",
          "AS-classification",
          "AS-classification",
          "AS-classification",
          "AS-classification",
          "AS-classification",
          "AS-classification",
          "AS-classification",
          "AS-classification",
          "AS-classification",
          "AS-classification",
          "AS-classification",
          "AS-classification",
          "AS-classification",
          "AS-classification",
          "AS-classification",
          "AS-classification",
          "AS-classification",
          "AS-classification",
          "AS-classification",
          "AS-classification",
          "AS-classification",
          "AS-classification",
          "AS-classification",
          "AS-classification",
          "AS-classification",
          "AS-classification",
          "AS-classification",
          "AS-classification",
          "AS-classification",
          "AS-classification",
          "AS-classification",
          "AS-classification",
          "AS-classification",
          "AS-classification",
          "AS-classification",
          "AS-classification",
          "AS-classification",
          "AS-classification",
          "AS-classification",
          "AS-classification",
          "AS-classification",
          "AS-classification",
          "AS-classification",
          "AS-classification",
          "AS-classification",
          "AS-classification",
          "AS-classification",
          "AS-classification",
          "AS-classification",
          "AS-classification",
          "AS-classification",
          "AS-classification",
          "AS-classification"
         ],
         "x0": " ",
         "xaxis": "x",
         "y": [
          0,
          0,
          0,
          0,
          0,
          0,
          0,
          0,
          0,
          0,
          0,
          0,
          0,
          0,
          0,
          0,
          0,
          0,
          0,
          0,
          0,
          0,
          0,
          0,
          0,
          0,
          0,
          0,
          0,
          0,
          1.1549019599857449,
          0.9586073148417746,
          1.3010299956639797,
          1.0457574905606766,
          0.9586073148417746,
          1.0969100130080562,
          1.1259059864968997,
          1.0969100130080562,
          1.1549019599857449,
          0.6883753548010496,
          0,
          0,
          0,
          0,
          0,
          0,
          0,
          0,
          0,
          0,
          0.0395904397722941,
          0.1733935232104877,
          0.1249386912419422,
          0.2218483098126754,
          0.1270272221629936,
          0.0334734209941044,
          0,
          0.4614322341596072,
          0.0969098480762546,
          0.3010296291609446,
          0,
          0,
          0,
          0,
          0,
          0,
          0,
          0,
          0.3395972762264344,
          0.6605957434242529,
          0,
          0,
          0.7970022168282132,
          0,
          0,
          1.996393209932786,
          0,
          0,
          0,
          0,
          0,
          0,
          0.7432033884750797,
          0,
          0,
          0,
          0,
          0,
          0.0710741694562161,
          0.2324026944485786,
          0,
          0,
          0,
          0,
          0,
          0,
          0,
          0,
          0,
          0,
          0,
          0,
          0,
          0,
          0,
          0,
          0,
          0,
          0,
          0,
          0,
          0,
          0,
          0,
          0,
          0,
          0,
          0,
          0,
          0,
          0,
          0,
          0,
          0,
          0,
          6.164689830098792,
          0,
          0,
          0,
          0,
          0,
          0,
          0,
          7.397588426953103,
          1.636132332183552,
          2.762841324213324,
          0.0027785622925374,
          6.375167183580503,
          1.4979830967527512,
          0,
          0,
          0.0012700740911728,
          0,
          0,
          0,
          0,
          0,
          0.2118078209850576,
          0,
          0,
          0,
          0,
          0,
          0,
          0,
          0.0060939905431279,
          0,
          0,
          0,
          0,
          0,
          0,
          0,
          0,
          0,
          0,
          0,
          0,
          0,
          0,
          0.3456465501775384,
          0.2317560963407094,
          0,
          0.0506939612172558,
          0.2432792857196246,
          0,
          0,
          0,
          0,
          0,
          0,
          0,
          0,
          0,
          0,
          0,
          0,
          0,
          0,
          0,
          0,
          0,
          0,
          0,
          0,
          0,
          0,
          0,
          0,
          0,
          0,
          0,
          0,
          0,
          0,
          0,
          0,
          0,
          0,
          0,
          0,
          1.0075481807810696,
          0,
          0,
          0,
          0,
          0,
          0,
          0,
          0,
          0,
          0,
          0,
          0,
          0,
          0,
          0,
          0,
          0,
          0,
          0,
          0,
          0,
          0,
          0,
          0,
          0,
          0,
          0,
          0
         ],
         "y0": " ",
         "yaxis": "y"
        },
        {
         "alignmentgroup": "True",
         "hovertemplate": "=%{x}<br>Loss=%{y}<extra></extra>",
         "legendgroup": "AS-pairwise-classification",
         "marker": {
          "color": "rgb(42, 35, 160)"
         },
         "name": "AS-pairwise-classification",
         "notched": false,
         "offsetgroup": "AS-pairwise-classification",
         "orientation": "v",
         "showlegend": true,
         "type": "box",
         "x": [
          "AS-pairwise-classification",
          "AS-pairwise-classification",
          "AS-pairwise-classification",
          "AS-pairwise-classification",
          "AS-pairwise-classification",
          "AS-pairwise-classification",
          "AS-pairwise-classification",
          "AS-pairwise-classification",
          "AS-pairwise-classification",
          "AS-pairwise-classification",
          "AS-pairwise-classification",
          "AS-pairwise-classification",
          "AS-pairwise-classification",
          "AS-pairwise-classification",
          "AS-pairwise-classification",
          "AS-pairwise-classification",
          "AS-pairwise-classification",
          "AS-pairwise-classification",
          "AS-pairwise-classification",
          "AS-pairwise-classification",
          "AS-pairwise-classification",
          "AS-pairwise-classification",
          "AS-pairwise-classification",
          "AS-pairwise-classification",
          "AS-pairwise-classification",
          "AS-pairwise-classification",
          "AS-pairwise-classification",
          "AS-pairwise-classification",
          "AS-pairwise-classification",
          "AS-pairwise-classification",
          "AS-pairwise-classification",
          "AS-pairwise-classification",
          "AS-pairwise-classification",
          "AS-pairwise-classification",
          "AS-pairwise-classification",
          "AS-pairwise-classification",
          "AS-pairwise-classification",
          "AS-pairwise-classification",
          "AS-pairwise-classification",
          "AS-pairwise-classification",
          "AS-pairwise-classification",
          "AS-pairwise-classification",
          "AS-pairwise-classification",
          "AS-pairwise-classification",
          "AS-pairwise-classification",
          "AS-pairwise-classification",
          "AS-pairwise-classification",
          "AS-pairwise-classification",
          "AS-pairwise-classification",
          "AS-pairwise-classification",
          "AS-pairwise-classification",
          "AS-pairwise-classification",
          "AS-pairwise-classification",
          "AS-pairwise-classification",
          "AS-pairwise-classification",
          "AS-pairwise-classification",
          "AS-pairwise-classification",
          "AS-pairwise-classification",
          "AS-pairwise-classification",
          "AS-pairwise-classification",
          "AS-pairwise-classification",
          "AS-pairwise-classification",
          "AS-pairwise-classification",
          "AS-pairwise-classification",
          "AS-pairwise-classification",
          "AS-pairwise-classification",
          "AS-pairwise-classification",
          "AS-pairwise-classification",
          "AS-pairwise-classification",
          "AS-pairwise-classification",
          "AS-pairwise-classification",
          "AS-pairwise-classification",
          "AS-pairwise-classification",
          "AS-pairwise-classification",
          "AS-pairwise-classification",
          "AS-pairwise-classification",
          "AS-pairwise-classification",
          "AS-pairwise-classification",
          "AS-pairwise-classification",
          "AS-pairwise-classification",
          "AS-pairwise-classification",
          "AS-pairwise-classification",
          "AS-pairwise-classification",
          "AS-pairwise-classification",
          "AS-pairwise-classification",
          "AS-pairwise-classification",
          "AS-pairwise-classification",
          "AS-pairwise-classification",
          "AS-pairwise-classification",
          "AS-pairwise-classification",
          "AS-pairwise-classification",
          "AS-pairwise-classification",
          "AS-pairwise-classification",
          "AS-pairwise-classification",
          "AS-pairwise-classification",
          "AS-pairwise-classification",
          "AS-pairwise-classification",
          "AS-pairwise-classification",
          "AS-pairwise-classification",
          "AS-pairwise-classification",
          "AS-pairwise-classification",
          "AS-pairwise-classification",
          "AS-pairwise-classification",
          "AS-pairwise-classification",
          "AS-pairwise-classification",
          "AS-pairwise-classification",
          "AS-pairwise-classification",
          "AS-pairwise-classification",
          "AS-pairwise-classification",
          "AS-pairwise-classification",
          "AS-pairwise-classification",
          "AS-pairwise-classification",
          "AS-pairwise-classification",
          "AS-pairwise-classification",
          "AS-pairwise-classification",
          "AS-pairwise-classification",
          "AS-pairwise-classification",
          "AS-pairwise-classification",
          "AS-pairwise-classification",
          "AS-pairwise-classification",
          "AS-pairwise-classification",
          "AS-pairwise-classification",
          "AS-pairwise-classification",
          "AS-pairwise-classification",
          "AS-pairwise-classification",
          "AS-pairwise-classification",
          "AS-pairwise-classification",
          "AS-pairwise-classification",
          "AS-pairwise-classification",
          "AS-pairwise-classification",
          "AS-pairwise-classification",
          "AS-pairwise-classification",
          "AS-pairwise-classification",
          "AS-pairwise-classification",
          "AS-pairwise-classification",
          "AS-pairwise-classification",
          "AS-pairwise-classification",
          "AS-pairwise-classification",
          "AS-pairwise-classification",
          "AS-pairwise-classification",
          "AS-pairwise-classification",
          "AS-pairwise-classification",
          "AS-pairwise-classification",
          "AS-pairwise-classification",
          "AS-pairwise-classification",
          "AS-pairwise-classification",
          "AS-pairwise-classification",
          "AS-pairwise-classification",
          "AS-pairwise-classification",
          "AS-pairwise-classification",
          "AS-pairwise-classification",
          "AS-pairwise-classification",
          "AS-pairwise-classification",
          "AS-pairwise-classification",
          "AS-pairwise-classification",
          "AS-pairwise-classification",
          "AS-pairwise-classification",
          "AS-pairwise-classification",
          "AS-pairwise-classification",
          "AS-pairwise-classification",
          "AS-pairwise-classification",
          "AS-pairwise-classification",
          "AS-pairwise-classification",
          "AS-pairwise-classification",
          "AS-pairwise-classification",
          "AS-pairwise-classification",
          "AS-pairwise-classification",
          "AS-pairwise-classification",
          "AS-pairwise-classification",
          "AS-pairwise-classification",
          "AS-pairwise-classification",
          "AS-pairwise-classification",
          "AS-pairwise-classification",
          "AS-pairwise-classification",
          "AS-pairwise-classification",
          "AS-pairwise-classification",
          "AS-pairwise-classification",
          "AS-pairwise-classification",
          "AS-pairwise-classification",
          "AS-pairwise-classification",
          "AS-pairwise-classification",
          "AS-pairwise-classification",
          "AS-pairwise-classification",
          "AS-pairwise-classification",
          "AS-pairwise-classification",
          "AS-pairwise-classification",
          "AS-pairwise-classification",
          "AS-pairwise-classification",
          "AS-pairwise-classification",
          "AS-pairwise-classification",
          "AS-pairwise-classification",
          "AS-pairwise-classification",
          "AS-pairwise-classification",
          "AS-pairwise-classification",
          "AS-pairwise-classification",
          "AS-pairwise-classification",
          "AS-pairwise-classification",
          "AS-pairwise-classification",
          "AS-pairwise-classification",
          "AS-pairwise-classification",
          "AS-pairwise-classification",
          "AS-pairwise-classification",
          "AS-pairwise-classification",
          "AS-pairwise-classification",
          "AS-pairwise-classification",
          "AS-pairwise-classification",
          "AS-pairwise-classification",
          "AS-pairwise-classification",
          "AS-pairwise-classification",
          "AS-pairwise-classification",
          "AS-pairwise-classification",
          "AS-pairwise-classification",
          "AS-pairwise-classification",
          "AS-pairwise-classification",
          "AS-pairwise-classification",
          "AS-pairwise-classification",
          "AS-pairwise-classification",
          "AS-pairwise-classification",
          "AS-pairwise-classification",
          "AS-pairwise-classification",
          "AS-pairwise-classification",
          "AS-pairwise-classification",
          "AS-pairwise-classification",
          "AS-pairwise-classification",
          "AS-pairwise-classification",
          "AS-pairwise-classification",
          "AS-pairwise-classification",
          "AS-pairwise-classification",
          "AS-pairwise-classification",
          "AS-pairwise-classification",
          "AS-pairwise-classification",
          "AS-pairwise-classification",
          "AS-pairwise-classification",
          "AS-pairwise-classification",
          "AS-pairwise-classification",
          "AS-pairwise-classification",
          "AS-pairwise-classification",
          "AS-pairwise-classification",
          "AS-pairwise-classification",
          "AS-pairwise-classification"
         ],
         "x0": " ",
         "xaxis": "x",
         "y": [
          0,
          0,
          0,
          0,
          0,
          0,
          0,
          0,
          0,
          0,
          0,
          0,
          0,
          0,
          0,
          0,
          0,
          0,
          0,
          0,
          0,
          0,
          0,
          1.9340945742691,
          0,
          0,
          0,
          0,
          2.1033221953505867,
          0,
          1.1549019599857449,
          0.9586073148417746,
          1.3010299956639797,
          1.0457574905606766,
          0.9586073148417746,
          1.0969100130080562,
          1.1259059864968997,
          1.0969100130080562,
          1.1549019599857449,
          0.6883753548010496,
          0,
          0,
          0,
          0,
          0,
          0,
          0,
          0,
          0,
          0,
          0.0395904397722941,
          0,
          0.1249386912419422,
          0.2218483098126754,
          0.1270272221629936,
          0.0334734209941044,
          0,
          0,
          0,
          0.1249387366082999,
          0,
          0,
          0,
          0,
          0,
          0,
          0,
          0,
          0.3395972762264344,
          0.6605957434242529,
          0,
          0,
          0.7970022168282132,
          0,
          0.9649191343551552,
          0,
          0,
          0,
          0,
          0,
          0,
          0,
          0.7432033884750797,
          0,
          0.2392914069690556,
          0.0281482352306363,
          0,
          0,
          0.0710741694562161,
          0.2324026944485786,
          0,
          0,
          0,
          0,
          0,
          0,
          0,
          0,
          0,
          0,
          0,
          0,
          0,
          0,
          0,
          0,
          0,
          0,
          0,
          0,
          0,
          0,
          0,
          0,
          0,
          0,
          0,
          0,
          0,
          0,
          0.9416496485623852,
          0,
          0.9313306354013956,
          0,
          1.048470239278558,
          0,
          0.5471203221157168,
          0.9768057350304522,
          0,
          0.0065589624526243,
          0,
          0,
          0.6214409388885715,
          7.4441669447511805,
          1.636132332183552,
          2.762841324213324,
          0.0012785157388268,
          0,
          1.4979830967527512,
          1.7670774626212582,
          0,
          0.0012700740911728,
          0,
          0,
          0,
          0,
          0,
          0.2118078209850576,
          0,
          0,
          0,
          0,
          0,
          0,
          0,
          0.0060939905431279,
          0,
          0,
          0,
          0,
          0,
          0,
          0,
          0,
          0,
          0,
          0,
          0,
          0,
          0,
          0.3456465501775384,
          0.2317560963407094,
          0,
          0,
          0.1640979663713554,
          0,
          0.120886653404122,
          0.111737067523946,
          0.0020835060658154,
          0,
          0,
          0,
          0,
          0,
          0,
          0,
          0,
          0,
          0,
          0,
          0,
          0,
          0,
          0,
          0,
          0,
          0,
          0,
          0,
          0,
          0,
          0,
          0,
          0,
          0,
          0,
          0,
          0,
          0,
          0,
          0,
          1.0075481807810696,
          0,
          0,
          0,
          0,
          0,
          0,
          0,
          0,
          0,
          0,
          0,
          0,
          0,
          0,
          0,
          0,
          0,
          0,
          0,
          0,
          0,
          0,
          0,
          0,
          0,
          0,
          0,
          0
         ],
         "y0": " ",
         "yaxis": "y"
        },
        {
         "alignmentgroup": "True",
         "hovertemplate": "=%{x}<br>Loss=%{y}<extra></extra>",
         "legendgroup": "AS-regression",
         "marker": {
          "color": "rgb(15, 71, 153)"
         },
         "name": "AS-regression",
         "notched": false,
         "offsetgroup": "AS-regression",
         "orientation": "v",
         "showlegend": true,
         "type": "box",
         "x": [
          "AS-regression",
          "AS-regression",
          "AS-regression",
          "AS-regression",
          "AS-regression",
          "AS-regression",
          "AS-regression",
          "AS-regression",
          "AS-regression",
          "AS-regression",
          "AS-regression",
          "AS-regression",
          "AS-regression",
          "AS-regression",
          "AS-regression",
          "AS-regression",
          "AS-regression",
          "AS-regression",
          "AS-regression",
          "AS-regression",
          "AS-regression",
          "AS-regression",
          "AS-regression",
          "AS-regression",
          "AS-regression",
          "AS-regression",
          "AS-regression",
          "AS-regression",
          "AS-regression",
          "AS-regression",
          "AS-regression",
          "AS-regression",
          "AS-regression",
          "AS-regression",
          "AS-regression",
          "AS-regression",
          "AS-regression",
          "AS-regression",
          "AS-regression",
          "AS-regression",
          "AS-regression",
          "AS-regression",
          "AS-regression",
          "AS-regression",
          "AS-regression",
          "AS-regression",
          "AS-regression",
          "AS-regression",
          "AS-regression",
          "AS-regression",
          "AS-regression",
          "AS-regression",
          "AS-regression",
          "AS-regression",
          "AS-regression",
          "AS-regression",
          "AS-regression",
          "AS-regression",
          "AS-regression",
          "AS-regression",
          "AS-regression",
          "AS-regression",
          "AS-regression",
          "AS-regression",
          "AS-regression",
          "AS-regression",
          "AS-regression",
          "AS-regression",
          "AS-regression",
          "AS-regression",
          "AS-regression",
          "AS-regression",
          "AS-regression",
          "AS-regression",
          "AS-regression",
          "AS-regression",
          "AS-regression",
          "AS-regression",
          "AS-regression",
          "AS-regression",
          "AS-regression",
          "AS-regression",
          "AS-regression",
          "AS-regression",
          "AS-regression",
          "AS-regression",
          "AS-regression",
          "AS-regression",
          "AS-regression",
          "AS-regression",
          "AS-regression",
          "AS-regression",
          "AS-regression",
          "AS-regression",
          "AS-regression",
          "AS-regression",
          "AS-regression",
          "AS-regression",
          "AS-regression",
          "AS-regression",
          "AS-regression",
          "AS-regression",
          "AS-regression",
          "AS-regression",
          "AS-regression",
          "AS-regression",
          "AS-regression",
          "AS-regression",
          "AS-regression",
          "AS-regression",
          "AS-regression",
          "AS-regression",
          "AS-regression",
          "AS-regression",
          "AS-regression",
          "AS-regression",
          "AS-regression",
          "AS-regression",
          "AS-regression",
          "AS-regression",
          "AS-regression",
          "AS-regression",
          "AS-regression",
          "AS-regression",
          "AS-regression",
          "AS-regression",
          "AS-regression",
          "AS-regression",
          "AS-regression",
          "AS-regression",
          "AS-regression",
          "AS-regression",
          "AS-regression",
          "AS-regression",
          "AS-regression",
          "AS-regression",
          "AS-regression",
          "AS-regression",
          "AS-regression",
          "AS-regression",
          "AS-regression",
          "AS-regression",
          "AS-regression",
          "AS-regression",
          "AS-regression",
          "AS-regression",
          "AS-regression",
          "AS-regression",
          "AS-regression",
          "AS-regression",
          "AS-regression",
          "AS-regression",
          "AS-regression",
          "AS-regression",
          "AS-regression",
          "AS-regression",
          "AS-regression",
          "AS-regression",
          "AS-regression",
          "AS-regression",
          "AS-regression",
          "AS-regression",
          "AS-regression",
          "AS-regression",
          "AS-regression",
          "AS-regression",
          "AS-regression",
          "AS-regression",
          "AS-regression",
          "AS-regression",
          "AS-regression",
          "AS-regression",
          "AS-regression",
          "AS-regression",
          "AS-regression",
          "AS-regression",
          "AS-regression",
          "AS-regression",
          "AS-regression",
          "AS-regression",
          "AS-regression",
          "AS-regression",
          "AS-regression",
          "AS-regression",
          "AS-regression",
          "AS-regression",
          "AS-regression",
          "AS-regression",
          "AS-regression",
          "AS-regression",
          "AS-regression",
          "AS-regression",
          "AS-regression",
          "AS-regression",
          "AS-regression",
          "AS-regression",
          "AS-regression",
          "AS-regression",
          "AS-regression",
          "AS-regression",
          "AS-regression",
          "AS-regression",
          "AS-regression",
          "AS-regression",
          "AS-regression",
          "AS-regression",
          "AS-regression",
          "AS-regression",
          "AS-regression",
          "AS-regression",
          "AS-regression",
          "AS-regression",
          "AS-regression",
          "AS-regression",
          "AS-regression",
          "AS-regression",
          "AS-regression",
          "AS-regression",
          "AS-regression",
          "AS-regression",
          "AS-regression",
          "AS-regression",
          "AS-regression",
          "AS-regression",
          "AS-regression",
          "AS-regression",
          "AS-regression",
          "AS-regression",
          "AS-regression",
          "AS-regression",
          "AS-regression",
          "AS-regression",
          "AS-regression",
          "AS-regression",
          "AS-regression",
          "AS-regression",
          "AS-regression",
          "AS-regression",
          "AS-regression",
          "AS-regression"
         ],
         "x0": " ",
         "xaxis": "x",
         "y": [
          0,
          0,
          0,
          0,
          0,
          0,
          0,
          0,
          0,
          0,
          0,
          0,
          0,
          0,
          0,
          0,
          0,
          0,
          0,
          0,
          0,
          0,
          0,
          0,
          0,
          0,
          0,
          0,
          0,
          0,
          0,
          0,
          0,
          1.0457574905606766,
          0,
          0,
          0,
          0,
          0,
          0,
          0,
          0,
          0,
          0,
          0,
          0,
          0,
          0,
          0,
          0,
          0.0395904397722941,
          0,
          0.1249386912419422,
          0,
          0.1270272221629936,
          0.0334734209941044,
          0,
          0,
          0,
          0.1249387366082999,
          0,
          0,
          0,
          0,
          0,
          0,
          0,
          0,
          0.3395972762264344,
          0.6605957434242529,
          0,
          0,
          0.7970022168282132,
          0,
          0,
          1.996393209932786,
          0,
          0,
          0,
          0,
          0,
          0,
          0,
          0,
          0.2392914069690556,
          0.0281482352306363,
          0,
          0,
          0.0710741694562161,
          0,
          0.568528200099726,
          0,
          0,
          0,
          0.9458894447619756,
          0,
          0,
          0,
          0,
          0,
          0,
          0,
          0,
          0,
          0,
          0,
          0,
          0,
          0,
          0,
          0.3527749659693275,
          0.3515365809913829,
          0.2404278086662544,
          0.2561837836017755,
          0.3334790765996018,
          0.3882355893422576,
          0.3527749659693275,
          0.3365672312114638,
          0.449477080805244,
          0.4167871459067529,
          0,
          0,
          0,
          0,
          0,
          6.164689830098792,
          2.053575323193042,
          0,
          0,
          0,
          7.792369478763528,
          0,
          1.1723043496962082,
          0,
          1.636132332183552,
          2.762841324213324,
          0,
          0,
          1.4979830967527512,
          1.7670774626212582,
          0,
          0.0012700740911728,
          0,
          0,
          0,
          0,
          0,
          0.2118078209850576,
          0,
          0,
          0.1163131693056794,
          0,
          0,
          0,
          0,
          0.0060939905431279,
          0,
          0.2143031603257637,
          0,
          0,
          0,
          0,
          0,
          0,
          0,
          0,
          0,
          0,
          0,
          0,
          0.3456465501775384,
          0.2317560963407094,
          0.2270737736467378,
          0.3679764711491534,
          0.2432792857196246,
          0.1419337864941342,
          0.120886653404122,
          0.2086476302757607,
          0.0020835060658154,
          0.3414285659658206,
          0.2789876396830189,
          0.3896264083376675,
          0.2365507301794263,
          0.1981100635786852,
          0.2442677730046129,
          0.2400658381372625,
          0.2976021289780952,
          0.1280903134127957,
          0.1901730574864523,
          0.1754879031248498,
          0,
          0,
          0,
          0,
          0,
          0,
          0,
          0,
          0,
          0,
          0,
          0,
          0,
          0,
          0,
          0,
          0,
          0,
          0,
          0,
          0,
          1.0075481807810696,
          0,
          0,
          0,
          0,
          0,
          0,
          0,
          0,
          0,
          0,
          0,
          0,
          0,
          0,
          0,
          0,
          0,
          0,
          0,
          0,
          0,
          0,
          0,
          0,
          0,
          0,
          0,
          0
         ],
         "y0": " ",
         "yaxis": "y"
        }
       ],
       "layout": {
        "autosize": false,
        "boxmode": "overlay",
        "font": {
         "size": 22
        },
        "height": 700,
        "legend": {
         "title": {
          "text": ""
         },
         "tracegroupgap": 0
        },
        "margin": {
         "b": 0,
         "l": 50,
         "pad": 4,
         "r": 50,
         "t": 50
        },
        "showlegend": false,
        "template": {
         "data": {
          "bar": [
           {
            "error_x": {
             "color": "#2a3f5f"
            },
            "error_y": {
             "color": "#2a3f5f"
            },
            "marker": {
             "line": {
              "color": "#E5ECF6",
              "width": 0.5
             },
             "pattern": {
              "fillmode": "overlay",
              "size": 10,
              "solidity": 0.2
             }
            },
            "type": "bar"
           }
          ],
          "barpolar": [
           {
            "marker": {
             "line": {
              "color": "#E5ECF6",
              "width": 0.5
             },
             "pattern": {
              "fillmode": "overlay",
              "size": 10,
              "solidity": 0.2
             }
            },
            "type": "barpolar"
           }
          ],
          "carpet": [
           {
            "aaxis": {
             "endlinecolor": "#2a3f5f",
             "gridcolor": "white",
             "linecolor": "white",
             "minorgridcolor": "white",
             "startlinecolor": "#2a3f5f"
            },
            "baxis": {
             "endlinecolor": "#2a3f5f",
             "gridcolor": "white",
             "linecolor": "white",
             "minorgridcolor": "white",
             "startlinecolor": "#2a3f5f"
            },
            "type": "carpet"
           }
          ],
          "choropleth": [
           {
            "colorbar": {
             "outlinewidth": 0,
             "ticks": ""
            },
            "type": "choropleth"
           }
          ],
          "contour": [
           {
            "colorbar": {
             "outlinewidth": 0,
             "ticks": ""
            },
            "colorscale": [
             [
              0,
              "#0d0887"
             ],
             [
              0.1111111111111111,
              "#46039f"
             ],
             [
              0.2222222222222222,
              "#7201a8"
             ],
             [
              0.3333333333333333,
              "#9c179e"
             ],
             [
              0.4444444444444444,
              "#bd3786"
             ],
             [
              0.5555555555555556,
              "#d8576b"
             ],
             [
              0.6666666666666666,
              "#ed7953"
             ],
             [
              0.7777777777777778,
              "#fb9f3a"
             ],
             [
              0.8888888888888888,
              "#fdca26"
             ],
             [
              1,
              "#f0f921"
             ]
            ],
            "type": "contour"
           }
          ],
          "contourcarpet": [
           {
            "colorbar": {
             "outlinewidth": 0,
             "ticks": ""
            },
            "type": "contourcarpet"
           }
          ],
          "heatmap": [
           {
            "colorbar": {
             "outlinewidth": 0,
             "ticks": ""
            },
            "colorscale": [
             [
              0,
              "#0d0887"
             ],
             [
              0.1111111111111111,
              "#46039f"
             ],
             [
              0.2222222222222222,
              "#7201a8"
             ],
             [
              0.3333333333333333,
              "#9c179e"
             ],
             [
              0.4444444444444444,
              "#bd3786"
             ],
             [
              0.5555555555555556,
              "#d8576b"
             ],
             [
              0.6666666666666666,
              "#ed7953"
             ],
             [
              0.7777777777777778,
              "#fb9f3a"
             ],
             [
              0.8888888888888888,
              "#fdca26"
             ],
             [
              1,
              "#f0f921"
             ]
            ],
            "type": "heatmap"
           }
          ],
          "heatmapgl": [
           {
            "colorbar": {
             "outlinewidth": 0,
             "ticks": ""
            },
            "colorscale": [
             [
              0,
              "#0d0887"
             ],
             [
              0.1111111111111111,
              "#46039f"
             ],
             [
              0.2222222222222222,
              "#7201a8"
             ],
             [
              0.3333333333333333,
              "#9c179e"
             ],
             [
              0.4444444444444444,
              "#bd3786"
             ],
             [
              0.5555555555555556,
              "#d8576b"
             ],
             [
              0.6666666666666666,
              "#ed7953"
             ],
             [
              0.7777777777777778,
              "#fb9f3a"
             ],
             [
              0.8888888888888888,
              "#fdca26"
             ],
             [
              1,
              "#f0f921"
             ]
            ],
            "type": "heatmapgl"
           }
          ],
          "histogram": [
           {
            "marker": {
             "pattern": {
              "fillmode": "overlay",
              "size": 10,
              "solidity": 0.2
             }
            },
            "type": "histogram"
           }
          ],
          "histogram2d": [
           {
            "colorbar": {
             "outlinewidth": 0,
             "ticks": ""
            },
            "colorscale": [
             [
              0,
              "#0d0887"
             ],
             [
              0.1111111111111111,
              "#46039f"
             ],
             [
              0.2222222222222222,
              "#7201a8"
             ],
             [
              0.3333333333333333,
              "#9c179e"
             ],
             [
              0.4444444444444444,
              "#bd3786"
             ],
             [
              0.5555555555555556,
              "#d8576b"
             ],
             [
              0.6666666666666666,
              "#ed7953"
             ],
             [
              0.7777777777777778,
              "#fb9f3a"
             ],
             [
              0.8888888888888888,
              "#fdca26"
             ],
             [
              1,
              "#f0f921"
             ]
            ],
            "type": "histogram2d"
           }
          ],
          "histogram2dcontour": [
           {
            "colorbar": {
             "outlinewidth": 0,
             "ticks": ""
            },
            "colorscale": [
             [
              0,
              "#0d0887"
             ],
             [
              0.1111111111111111,
              "#46039f"
             ],
             [
              0.2222222222222222,
              "#7201a8"
             ],
             [
              0.3333333333333333,
              "#9c179e"
             ],
             [
              0.4444444444444444,
              "#bd3786"
             ],
             [
              0.5555555555555556,
              "#d8576b"
             ],
             [
              0.6666666666666666,
              "#ed7953"
             ],
             [
              0.7777777777777778,
              "#fb9f3a"
             ],
             [
              0.8888888888888888,
              "#fdca26"
             ],
             [
              1,
              "#f0f921"
             ]
            ],
            "type": "histogram2dcontour"
           }
          ],
          "mesh3d": [
           {
            "colorbar": {
             "outlinewidth": 0,
             "ticks": ""
            },
            "type": "mesh3d"
           }
          ],
          "parcoords": [
           {
            "line": {
             "colorbar": {
              "outlinewidth": 0,
              "ticks": ""
             }
            },
            "type": "parcoords"
           }
          ],
          "pie": [
           {
            "automargin": true,
            "type": "pie"
           }
          ],
          "scatter": [
           {
            "fillpattern": {
             "fillmode": "overlay",
             "size": 10,
             "solidity": 0.2
            },
            "type": "scatter"
           }
          ],
          "scatter3d": [
           {
            "line": {
             "colorbar": {
              "outlinewidth": 0,
              "ticks": ""
             }
            },
            "marker": {
             "colorbar": {
              "outlinewidth": 0,
              "ticks": ""
             }
            },
            "type": "scatter3d"
           }
          ],
          "scattercarpet": [
           {
            "marker": {
             "colorbar": {
              "outlinewidth": 0,
              "ticks": ""
             }
            },
            "type": "scattercarpet"
           }
          ],
          "scattergeo": [
           {
            "marker": {
             "colorbar": {
              "outlinewidth": 0,
              "ticks": ""
             }
            },
            "type": "scattergeo"
           }
          ],
          "scattergl": [
           {
            "marker": {
             "colorbar": {
              "outlinewidth": 0,
              "ticks": ""
             }
            },
            "type": "scattergl"
           }
          ],
          "scattermapbox": [
           {
            "marker": {
             "colorbar": {
              "outlinewidth": 0,
              "ticks": ""
             }
            },
            "type": "scattermapbox"
           }
          ],
          "scatterpolar": [
           {
            "marker": {
             "colorbar": {
              "outlinewidth": 0,
              "ticks": ""
             }
            },
            "type": "scatterpolar"
           }
          ],
          "scatterpolargl": [
           {
            "marker": {
             "colorbar": {
              "outlinewidth": 0,
              "ticks": ""
             }
            },
            "type": "scatterpolargl"
           }
          ],
          "scatterternary": [
           {
            "marker": {
             "colorbar": {
              "outlinewidth": 0,
              "ticks": ""
             }
            },
            "type": "scatterternary"
           }
          ],
          "surface": [
           {
            "colorbar": {
             "outlinewidth": 0,
             "ticks": ""
            },
            "colorscale": [
             [
              0,
              "#0d0887"
             ],
             [
              0.1111111111111111,
              "#46039f"
             ],
             [
              0.2222222222222222,
              "#7201a8"
             ],
             [
              0.3333333333333333,
              "#9c179e"
             ],
             [
              0.4444444444444444,
              "#bd3786"
             ],
             [
              0.5555555555555556,
              "#d8576b"
             ],
             [
              0.6666666666666666,
              "#ed7953"
             ],
             [
              0.7777777777777778,
              "#fb9f3a"
             ],
             [
              0.8888888888888888,
              "#fdca26"
             ],
             [
              1,
              "#f0f921"
             ]
            ],
            "type": "surface"
           }
          ],
          "table": [
           {
            "cells": {
             "fill": {
              "color": "#EBF0F8"
             },
             "line": {
              "color": "white"
             }
            },
            "header": {
             "fill": {
              "color": "#C8D4E3"
             },
             "line": {
              "color": "white"
             }
            },
            "type": "table"
           }
          ]
         },
         "layout": {
          "annotationdefaults": {
           "arrowcolor": "#2a3f5f",
           "arrowhead": 0,
           "arrowwidth": 1
          },
          "autotypenumbers": "strict",
          "coloraxis": {
           "colorbar": {
            "outlinewidth": 0,
            "ticks": ""
           }
          },
          "colorscale": {
           "diverging": [
            [
             0,
             "#8e0152"
            ],
            [
             0.1,
             "#c51b7d"
            ],
            [
             0.2,
             "#de77ae"
            ],
            [
             0.3,
             "#f1b6da"
            ],
            [
             0.4,
             "#fde0ef"
            ],
            [
             0.5,
             "#f7f7f7"
            ],
            [
             0.6,
             "#e6f5d0"
            ],
            [
             0.7,
             "#b8e186"
            ],
            [
             0.8,
             "#7fbc41"
            ],
            [
             0.9,
             "#4d9221"
            ],
            [
             1,
             "#276419"
            ]
           ],
           "sequential": [
            [
             0,
             "#0d0887"
            ],
            [
             0.1111111111111111,
             "#46039f"
            ],
            [
             0.2222222222222222,
             "#7201a8"
            ],
            [
             0.3333333333333333,
             "#9c179e"
            ],
            [
             0.4444444444444444,
             "#bd3786"
            ],
            [
             0.5555555555555556,
             "#d8576b"
            ],
            [
             0.6666666666666666,
             "#ed7953"
            ],
            [
             0.7777777777777778,
             "#fb9f3a"
            ],
            [
             0.8888888888888888,
             "#fdca26"
            ],
            [
             1,
             "#f0f921"
            ]
           ],
           "sequentialminus": [
            [
             0,
             "#0d0887"
            ],
            [
             0.1111111111111111,
             "#46039f"
            ],
            [
             0.2222222222222222,
             "#7201a8"
            ],
            [
             0.3333333333333333,
             "#9c179e"
            ],
            [
             0.4444444444444444,
             "#bd3786"
            ],
            [
             0.5555555555555556,
             "#d8576b"
            ],
            [
             0.6666666666666666,
             "#ed7953"
            ],
            [
             0.7777777777777778,
             "#fb9f3a"
            ],
            [
             0.8888888888888888,
             "#fdca26"
            ],
            [
             1,
             "#f0f921"
            ]
           ]
          },
          "colorway": [
           "#636efa",
           "#EF553B",
           "#00cc96",
           "#ab63fa",
           "#FFA15A",
           "#19d3f3",
           "#FF6692",
           "#B6E880",
           "#FF97FF",
           "#FECB52"
          ],
          "font": {
           "color": "#2a3f5f"
          },
          "geo": {
           "bgcolor": "white",
           "lakecolor": "white",
           "landcolor": "#E5ECF6",
           "showlakes": true,
           "showland": true,
           "subunitcolor": "white"
          },
          "hoverlabel": {
           "align": "left"
          },
          "hovermode": "closest",
          "mapbox": {
           "style": "light"
          },
          "paper_bgcolor": "white",
          "plot_bgcolor": "#E5ECF6",
          "polar": {
           "angularaxis": {
            "gridcolor": "white",
            "linecolor": "white",
            "ticks": ""
           },
           "bgcolor": "#E5ECF6",
           "radialaxis": {
            "gridcolor": "white",
            "linecolor": "white",
            "ticks": ""
           }
          },
          "scene": {
           "xaxis": {
            "backgroundcolor": "#E5ECF6",
            "gridcolor": "white",
            "gridwidth": 2,
            "linecolor": "white",
            "showbackground": true,
            "ticks": "",
            "zerolinecolor": "white"
           },
           "yaxis": {
            "backgroundcolor": "#E5ECF6",
            "gridcolor": "white",
            "gridwidth": 2,
            "linecolor": "white",
            "showbackground": true,
            "ticks": "",
            "zerolinecolor": "white"
           },
           "zaxis": {
            "backgroundcolor": "#E5ECF6",
            "gridcolor": "white",
            "gridwidth": 2,
            "linecolor": "white",
            "showbackground": true,
            "ticks": "",
            "zerolinecolor": "white"
           }
          },
          "shapedefaults": {
           "line": {
            "color": "#2a3f5f"
           }
          },
          "ternary": {
           "aaxis": {
            "gridcolor": "white",
            "linecolor": "white",
            "ticks": ""
           },
           "baxis": {
            "gridcolor": "white",
            "linecolor": "white",
            "ticks": ""
           },
           "bgcolor": "#E5ECF6",
           "caxis": {
            "gridcolor": "white",
            "linecolor": "white",
            "ticks": ""
           }
          },
          "title": {
           "x": 0.05
          },
          "xaxis": {
           "automargin": true,
           "gridcolor": "white",
           "linecolor": "white",
           "ticks": "",
           "title": {
            "standoff": 15
           },
           "zerolinecolor": "white",
           "zerolinewidth": 2
          },
          "yaxis": {
           "automargin": true,
           "gridcolor": "white",
           "linecolor": "white",
           "ticks": "",
           "title": {
            "standoff": 15
           },
           "zerolinecolor": "white",
           "zerolinewidth": 2
          }
         }
        },
        "title": {
         "text": "Runtime: 5000",
         "x": 0.5
        },
        "width": 1000,
        "xaxis": {
         "anchor": "y",
         "categoryarray": [
          "AS-classification",
          "AS-pairwise-classification",
          "AS-regression"
         ],
         "categoryorder": "array",
         "domain": [
          0,
          1
         ],
         "title": {
          "text": ""
         }
        },
        "yaxis": {
         "anchor": "x",
         "domain": [
          0,
          1
         ],
         "title": {
          "text": "Loss"
         }
        }
       }
      }
     },
     "metadata": {},
     "output_type": "display_data"
    },
    {
     "name": "stdout",
     "output_type": "stream",
     "text": [
      "Runtime: 10000\n",
      "Loss classification pairwise sum: AS-pairwise-classification    56.622214\n",
      "dtype: float64\n",
      "Loss classification sum: AS-classification    71.39547\n",
      "dtype: float64\n",
      "Loss regression sum: AS-regression    73.499655\n",
      "dtype: float64\n"
     ]
    },
    {
     "data": {
      "application/vnd.plotly.v1+json": {
       "config": {
        "plotlyServerURL": "https://plot.ly"
       },
       "data": [
        {
         "alignmentgroup": "True",
         "hovertemplate": "=%{x}<br>Loss=%{y}<extra></extra>",
         "legendgroup": "AS-classification",
         "marker": {
          "color": "rgb(41, 24, 107)"
         },
         "name": "AS-classification",
         "notched": false,
         "offsetgroup": "AS-classification",
         "orientation": "v",
         "showlegend": true,
         "type": "box",
         "x": [
          "AS-classification",
          "AS-classification",
          "AS-classification",
          "AS-classification",
          "AS-classification",
          "AS-classification",
          "AS-classification",
          "AS-classification",
          "AS-classification",
          "AS-classification",
          "AS-classification",
          "AS-classification",
          "AS-classification",
          "AS-classification",
          "AS-classification",
          "AS-classification",
          "AS-classification",
          "AS-classification",
          "AS-classification",
          "AS-classification",
          "AS-classification",
          "AS-classification",
          "AS-classification",
          "AS-classification",
          "AS-classification",
          "AS-classification",
          "AS-classification",
          "AS-classification",
          "AS-classification",
          "AS-classification",
          "AS-classification",
          "AS-classification",
          "AS-classification",
          "AS-classification",
          "AS-classification",
          "AS-classification",
          "AS-classification",
          "AS-classification",
          "AS-classification",
          "AS-classification",
          "AS-classification",
          "AS-classification",
          "AS-classification",
          "AS-classification",
          "AS-classification",
          "AS-classification",
          "AS-classification",
          "AS-classification",
          "AS-classification",
          "AS-classification",
          "AS-classification",
          "AS-classification",
          "AS-classification",
          "AS-classification",
          "AS-classification",
          "AS-classification",
          "AS-classification",
          "AS-classification",
          "AS-classification",
          "AS-classification",
          "AS-classification",
          "AS-classification",
          "AS-classification",
          "AS-classification",
          "AS-classification",
          "AS-classification",
          "AS-classification",
          "AS-classification",
          "AS-classification",
          "AS-classification",
          "AS-classification",
          "AS-classification",
          "AS-classification",
          "AS-classification",
          "AS-classification",
          "AS-classification",
          "AS-classification",
          "AS-classification",
          "AS-classification",
          "AS-classification",
          "AS-classification",
          "AS-classification",
          "AS-classification",
          "AS-classification",
          "AS-classification",
          "AS-classification",
          "AS-classification",
          "AS-classification",
          "AS-classification",
          "AS-classification",
          "AS-classification",
          "AS-classification",
          "AS-classification",
          "AS-classification",
          "AS-classification",
          "AS-classification",
          "AS-classification",
          "AS-classification",
          "AS-classification",
          "AS-classification",
          "AS-classification",
          "AS-classification",
          "AS-classification",
          "AS-classification",
          "AS-classification",
          "AS-classification",
          "AS-classification",
          "AS-classification",
          "AS-classification",
          "AS-classification",
          "AS-classification",
          "AS-classification",
          "AS-classification",
          "AS-classification",
          "AS-classification",
          "AS-classification",
          "AS-classification",
          "AS-classification",
          "AS-classification",
          "AS-classification",
          "AS-classification",
          "AS-classification",
          "AS-classification",
          "AS-classification",
          "AS-classification",
          "AS-classification",
          "AS-classification",
          "AS-classification",
          "AS-classification",
          "AS-classification",
          "AS-classification",
          "AS-classification",
          "AS-classification",
          "AS-classification",
          "AS-classification",
          "AS-classification",
          "AS-classification",
          "AS-classification",
          "AS-classification",
          "AS-classification",
          "AS-classification",
          "AS-classification",
          "AS-classification",
          "AS-classification",
          "AS-classification",
          "AS-classification",
          "AS-classification",
          "AS-classification",
          "AS-classification",
          "AS-classification",
          "AS-classification",
          "AS-classification",
          "AS-classification",
          "AS-classification",
          "AS-classification",
          "AS-classification",
          "AS-classification",
          "AS-classification",
          "AS-classification",
          "AS-classification",
          "AS-classification",
          "AS-classification",
          "AS-classification",
          "AS-classification",
          "AS-classification",
          "AS-classification",
          "AS-classification",
          "AS-classification",
          "AS-classification",
          "AS-classification",
          "AS-classification",
          "AS-classification",
          "AS-classification",
          "AS-classification",
          "AS-classification",
          "AS-classification",
          "AS-classification",
          "AS-classification",
          "AS-classification",
          "AS-classification",
          "AS-classification",
          "AS-classification",
          "AS-classification",
          "AS-classification",
          "AS-classification",
          "AS-classification",
          "AS-classification",
          "AS-classification",
          "AS-classification",
          "AS-classification",
          "AS-classification",
          "AS-classification",
          "AS-classification",
          "AS-classification",
          "AS-classification",
          "AS-classification",
          "AS-classification",
          "AS-classification",
          "AS-classification",
          "AS-classification",
          "AS-classification",
          "AS-classification",
          "AS-classification",
          "AS-classification",
          "AS-classification",
          "AS-classification",
          "AS-classification",
          "AS-classification",
          "AS-classification",
          "AS-classification",
          "AS-classification",
          "AS-classification",
          "AS-classification",
          "AS-classification",
          "AS-classification",
          "AS-classification",
          "AS-classification",
          "AS-classification",
          "AS-classification",
          "AS-classification",
          "AS-classification",
          "AS-classification",
          "AS-classification",
          "AS-classification",
          "AS-classification",
          "AS-classification",
          "AS-classification",
          "AS-classification",
          "AS-classification",
          "AS-classification",
          "AS-classification",
          "AS-classification",
          "AS-classification",
          "AS-classification",
          "AS-classification",
          "AS-classification",
          "AS-classification",
          "AS-classification",
          "AS-classification",
          "AS-classification"
         ],
         "x0": " ",
         "xaxis": "x",
         "y": [
          0,
          0,
          0,
          0,
          0,
          0,
          0,
          0,
          0,
          0,
          0,
          0,
          0,
          0,
          0,
          0,
          0,
          0,
          0,
          0,
          0,
          2.128916635660957,
          0,
          3.66679583400412,
          0,
          0,
          0,
          0,
          0,
          3.1927289297699994,
          1.3979400086720355,
          1.221848749616356,
          1.5228787452803356,
          1.3010299956639797,
          1.3010299956639797,
          1.3979400086720355,
          1.3979400086720355,
          1.3010299956639797,
          1.3979400086720355,
          0.9586073148417746,
          0,
          0,
          0,
          0,
          0,
          0,
          0,
          0,
          0,
          0,
          0,
          0.1532122641362214,
          0,
          0,
          0,
          0,
          0.1884658101756213,
          0.1759379769318981,
          0.0618617243108534,
          0.1185002120859951,
          0,
          0,
          0,
          0,
          0,
          0,
          0,
          0,
          0.3395972762264344,
          0.5524797978383704,
          2.0500952166256843,
          0,
          0,
          1.2460295347339392,
          0,
          0.4893651686067621,
          0,
          0,
          0.1340156339953502,
          0,
          0.5545201686514869,
          0.3367401375091243,
          0,
          0.388817898211101,
          0.0804867885225055,
          0,
          0,
          0.2418763536819341,
          0,
          0,
          0,
          0,
          0,
          0,
          0,
          0,
          0,
          0,
          0,
          0,
          0.795880017344075,
          0.7695510786217259,
          0.9208187539523748,
          0.903437700822769,
          0.8860566476931631,
          0.7827155479828996,
          0.8239087409443187,
          0.8699643060074624,
          0.8860566476931631,
          0.7695510786217259,
          0,
          0,
          0,
          0,
          0,
          0,
          0,
          0,
          0,
          0,
          0,
          0,
          0,
          0,
          0,
          3.920702111892375,
          0,
          3.3473950992050074,
          0,
          0,
          0,
          6.061105907292513,
          0,
          5.671533123708978,
          3.3783165988677024,
          4.14376337237433,
          0,
          4.772161055721349,
          2.376131161631336,
          0,
          0,
          0,
          0,
          0,
          0,
          0,
          0,
          0,
          0,
          0,
          0,
          0,
          0,
          0,
          0,
          0.0177932947408847,
          0,
          0,
          0,
          0,
          0,
          0,
          0,
          0,
          0,
          0,
          0,
          0,
          0,
          0,
          0,
          0,
          0,
          0,
          0,
          0,
          0,
          0,
          0,
          0,
          0,
          0,
          0,
          0,
          0,
          0,
          0,
          0,
          0,
          0,
          0,
          0,
          0,
          0,
          0,
          0,
          0,
          0,
          0,
          0,
          0,
          0,
          0,
          0,
          0,
          0,
          0,
          0,
          0,
          0,
          0,
          0,
          0,
          0,
          0,
          0,
          0,
          0,
          0,
          0,
          0,
          0,
          0,
          0,
          0,
          0,
          0,
          0,
          0,
          0,
          0,
          0,
          0,
          0,
          0,
          0,
          0,
          0,
          0,
          0
         ],
         "y0": " ",
         "yaxis": "y"
        },
        {
         "alignmentgroup": "True",
         "hovertemplate": "=%{x}<br>Loss=%{y}<extra></extra>",
         "legendgroup": "AS-pairwise-classification",
         "marker": {
          "color": "rgb(42, 35, 160)"
         },
         "name": "AS-pairwise-classification",
         "notched": false,
         "offsetgroup": "AS-pairwise-classification",
         "orientation": "v",
         "showlegend": true,
         "type": "box",
         "x": [
          "AS-pairwise-classification",
          "AS-pairwise-classification",
          "AS-pairwise-classification",
          "AS-pairwise-classification",
          "AS-pairwise-classification",
          "AS-pairwise-classification",
          "AS-pairwise-classification",
          "AS-pairwise-classification",
          "AS-pairwise-classification",
          "AS-pairwise-classification",
          "AS-pairwise-classification",
          "AS-pairwise-classification",
          "AS-pairwise-classification",
          "AS-pairwise-classification",
          "AS-pairwise-classification",
          "AS-pairwise-classification",
          "AS-pairwise-classification",
          "AS-pairwise-classification",
          "AS-pairwise-classification",
          "AS-pairwise-classification",
          "AS-pairwise-classification",
          "AS-pairwise-classification",
          "AS-pairwise-classification",
          "AS-pairwise-classification",
          "AS-pairwise-classification",
          "AS-pairwise-classification",
          "AS-pairwise-classification",
          "AS-pairwise-classification",
          "AS-pairwise-classification",
          "AS-pairwise-classification",
          "AS-pairwise-classification",
          "AS-pairwise-classification",
          "AS-pairwise-classification",
          "AS-pairwise-classification",
          "AS-pairwise-classification",
          "AS-pairwise-classification",
          "AS-pairwise-classification",
          "AS-pairwise-classification",
          "AS-pairwise-classification",
          "AS-pairwise-classification",
          "AS-pairwise-classification",
          "AS-pairwise-classification",
          "AS-pairwise-classification",
          "AS-pairwise-classification",
          "AS-pairwise-classification",
          "AS-pairwise-classification",
          "AS-pairwise-classification",
          "AS-pairwise-classification",
          "AS-pairwise-classification",
          "AS-pairwise-classification",
          "AS-pairwise-classification",
          "AS-pairwise-classification",
          "AS-pairwise-classification",
          "AS-pairwise-classification",
          "AS-pairwise-classification",
          "AS-pairwise-classification",
          "AS-pairwise-classification",
          "AS-pairwise-classification",
          "AS-pairwise-classification",
          "AS-pairwise-classification",
          "AS-pairwise-classification",
          "AS-pairwise-classification",
          "AS-pairwise-classification",
          "AS-pairwise-classification",
          "AS-pairwise-classification",
          "AS-pairwise-classification",
          "AS-pairwise-classification",
          "AS-pairwise-classification",
          "AS-pairwise-classification",
          "AS-pairwise-classification",
          "AS-pairwise-classification",
          "AS-pairwise-classification",
          "AS-pairwise-classification",
          "AS-pairwise-classification",
          "AS-pairwise-classification",
          "AS-pairwise-classification",
          "AS-pairwise-classification",
          "AS-pairwise-classification",
          "AS-pairwise-classification",
          "AS-pairwise-classification",
          "AS-pairwise-classification",
          "AS-pairwise-classification",
          "AS-pairwise-classification",
          "AS-pairwise-classification",
          "AS-pairwise-classification",
          "AS-pairwise-classification",
          "AS-pairwise-classification",
          "AS-pairwise-classification",
          "AS-pairwise-classification",
          "AS-pairwise-classification",
          "AS-pairwise-classification",
          "AS-pairwise-classification",
          "AS-pairwise-classification",
          "AS-pairwise-classification",
          "AS-pairwise-classification",
          "AS-pairwise-classification",
          "AS-pairwise-classification",
          "AS-pairwise-classification",
          "AS-pairwise-classification",
          "AS-pairwise-classification",
          "AS-pairwise-classification",
          "AS-pairwise-classification",
          "AS-pairwise-classification",
          "AS-pairwise-classification",
          "AS-pairwise-classification",
          "AS-pairwise-classification",
          "AS-pairwise-classification",
          "AS-pairwise-classification",
          "AS-pairwise-classification",
          "AS-pairwise-classification",
          "AS-pairwise-classification",
          "AS-pairwise-classification",
          "AS-pairwise-classification",
          "AS-pairwise-classification",
          "AS-pairwise-classification",
          "AS-pairwise-classification",
          "AS-pairwise-classification",
          "AS-pairwise-classification",
          "AS-pairwise-classification",
          "AS-pairwise-classification",
          "AS-pairwise-classification",
          "AS-pairwise-classification",
          "AS-pairwise-classification",
          "AS-pairwise-classification",
          "AS-pairwise-classification",
          "AS-pairwise-classification",
          "AS-pairwise-classification",
          "AS-pairwise-classification",
          "AS-pairwise-classification",
          "AS-pairwise-classification",
          "AS-pairwise-classification",
          "AS-pairwise-classification",
          "AS-pairwise-classification",
          "AS-pairwise-classification",
          "AS-pairwise-classification",
          "AS-pairwise-classification",
          "AS-pairwise-classification",
          "AS-pairwise-classification",
          "AS-pairwise-classification",
          "AS-pairwise-classification",
          "AS-pairwise-classification",
          "AS-pairwise-classification",
          "AS-pairwise-classification",
          "AS-pairwise-classification",
          "AS-pairwise-classification",
          "AS-pairwise-classification",
          "AS-pairwise-classification",
          "AS-pairwise-classification",
          "AS-pairwise-classification",
          "AS-pairwise-classification",
          "AS-pairwise-classification",
          "AS-pairwise-classification",
          "AS-pairwise-classification",
          "AS-pairwise-classification",
          "AS-pairwise-classification",
          "AS-pairwise-classification",
          "AS-pairwise-classification",
          "AS-pairwise-classification",
          "AS-pairwise-classification",
          "AS-pairwise-classification",
          "AS-pairwise-classification",
          "AS-pairwise-classification",
          "AS-pairwise-classification",
          "AS-pairwise-classification",
          "AS-pairwise-classification",
          "AS-pairwise-classification",
          "AS-pairwise-classification",
          "AS-pairwise-classification",
          "AS-pairwise-classification",
          "AS-pairwise-classification",
          "AS-pairwise-classification",
          "AS-pairwise-classification",
          "AS-pairwise-classification",
          "AS-pairwise-classification",
          "AS-pairwise-classification",
          "AS-pairwise-classification",
          "AS-pairwise-classification",
          "AS-pairwise-classification",
          "AS-pairwise-classification",
          "AS-pairwise-classification",
          "AS-pairwise-classification",
          "AS-pairwise-classification",
          "AS-pairwise-classification",
          "AS-pairwise-classification",
          "AS-pairwise-classification",
          "AS-pairwise-classification",
          "AS-pairwise-classification",
          "AS-pairwise-classification",
          "AS-pairwise-classification",
          "AS-pairwise-classification",
          "AS-pairwise-classification",
          "AS-pairwise-classification",
          "AS-pairwise-classification",
          "AS-pairwise-classification",
          "AS-pairwise-classification",
          "AS-pairwise-classification",
          "AS-pairwise-classification",
          "AS-pairwise-classification",
          "AS-pairwise-classification",
          "AS-pairwise-classification",
          "AS-pairwise-classification",
          "AS-pairwise-classification",
          "AS-pairwise-classification",
          "AS-pairwise-classification",
          "AS-pairwise-classification",
          "AS-pairwise-classification",
          "AS-pairwise-classification",
          "AS-pairwise-classification",
          "AS-pairwise-classification",
          "AS-pairwise-classification",
          "AS-pairwise-classification",
          "AS-pairwise-classification",
          "AS-pairwise-classification",
          "AS-pairwise-classification",
          "AS-pairwise-classification",
          "AS-pairwise-classification",
          "AS-pairwise-classification",
          "AS-pairwise-classification",
          "AS-pairwise-classification",
          "AS-pairwise-classification",
          "AS-pairwise-classification",
          "AS-pairwise-classification",
          "AS-pairwise-classification",
          "AS-pairwise-classification",
          "AS-pairwise-classification",
          "AS-pairwise-classification",
          "AS-pairwise-classification",
          "AS-pairwise-classification",
          "AS-pairwise-classification",
          "AS-pairwise-classification",
          "AS-pairwise-classification",
          "AS-pairwise-classification",
          "AS-pairwise-classification",
          "AS-pairwise-classification",
          "AS-pairwise-classification",
          "AS-pairwise-classification",
          "AS-pairwise-classification",
          "AS-pairwise-classification",
          "AS-pairwise-classification",
          "AS-pairwise-classification"
         ],
         "x0": " ",
         "xaxis": "x",
         "y": [
          0,
          0,
          0,
          0,
          0,
          0,
          0,
          0,
          0,
          0,
          0,
          0,
          0,
          0,
          0,
          0,
          0,
          0,
          0,
          0,
          0,
          0,
          0,
          0,
          0,
          0,
          0,
          0,
          0,
          0,
          1.3979400086720355,
          1.221848749616356,
          1.5228787452803356,
          1.3010299956639797,
          1.3010299956639797,
          0,
          0,
          1.3010299956639797,
          1.3979400086720355,
          0.9586073148417746,
          0,
          0,
          0,
          0,
          0,
          0,
          0,
          0,
          0,
          0,
          0,
          0.1532122641362214,
          0.0401045688426607,
          0,
          0.045203812599797,
          0,
          0,
          0.1759379769318981,
          0.0618617243108534,
          0.1185002120859951,
          0,
          0,
          0,
          0,
          0,
          0,
          0,
          0,
          0.3395972762264344,
          0.5524797978383704,
          2.0500952166256843,
          0,
          0,
          1.2460295347339392,
          0,
          0.4893651686067621,
          0,
          0,
          0.1340156339953502,
          0,
          0.5545201686514869,
          0.3367401375091243,
          0,
          0.388817898211101,
          0,
          0,
          0,
          0.2418763536819341,
          0.1314077296416813,
          0,
          0,
          0,
          0,
          0.7307582170923856,
          0.7093401003245039,
          0.6055963361978518,
          0,
          0,
          0.5880769320668728,
          0.5443467125502834,
          0.795880017344075,
          0.7695510786217259,
          0.9208187539523748,
          0.903437700822769,
          0.8860566476931631,
          0.7827155479828996,
          0.8239087409443187,
          0.8699643060074624,
          0.8860566476931631,
          0.7695510786217259,
          0,
          0,
          0,
          0,
          0,
          0,
          0,
          0,
          0,
          0,
          0,
          0,
          0,
          0,
          0,
          0,
          0,
          3.3473950992050074,
          0,
          0,
          0,
          1.1549019599857449,
          0,
          5.671533123708978,
          3.3783165988677024,
          4.14376337237433,
          0,
          4.772161055721349,
          2.376131161631336,
          0,
          0,
          0,
          0,
          0,
          0,
          0,
          0,
          0,
          0,
          0,
          0,
          0,
          0,
          0,
          0,
          0.0177932947408847,
          0,
          0,
          0,
          0,
          0,
          0,
          0,
          0,
          0,
          0,
          0,
          0,
          0,
          0,
          1.4810020449985126,
          0,
          0,
          0,
          1.231086699136073,
          0,
          0,
          0,
          0,
          0,
          0,
          0,
          0,
          0,
          0,
          0,
          0,
          0,
          0,
          0,
          0,
          0,
          0,
          0,
          0,
          0,
          0,
          0,
          0,
          0,
          0,
          0,
          0,
          0,
          0,
          0,
          0,
          0,
          0,
          0,
          0,
          0,
          0,
          0,
          0,
          0,
          0,
          0,
          0,
          0,
          0,
          0,
          0,
          0,
          0,
          0,
          0,
          0,
          0,
          0,
          0,
          0,
          0,
          0,
          0,
          0,
          0,
          0,
          0,
          0
         ],
         "y0": " ",
         "yaxis": "y"
        },
        {
         "alignmentgroup": "True",
         "hovertemplate": "=%{x}<br>Loss=%{y}<extra></extra>",
         "legendgroup": "AS-regression",
         "marker": {
          "color": "rgb(15, 71, 153)"
         },
         "name": "AS-regression",
         "notched": false,
         "offsetgroup": "AS-regression",
         "orientation": "v",
         "showlegend": true,
         "type": "box",
         "x": [
          "AS-regression",
          "AS-regression",
          "AS-regression",
          "AS-regression",
          "AS-regression",
          "AS-regression",
          "AS-regression",
          "AS-regression",
          "AS-regression",
          "AS-regression",
          "AS-regression",
          "AS-regression",
          "AS-regression",
          "AS-regression",
          "AS-regression",
          "AS-regression",
          "AS-regression",
          "AS-regression",
          "AS-regression",
          "AS-regression",
          "AS-regression",
          "AS-regression",
          "AS-regression",
          "AS-regression",
          "AS-regression",
          "AS-regression",
          "AS-regression",
          "AS-regression",
          "AS-regression",
          "AS-regression",
          "AS-regression",
          "AS-regression",
          "AS-regression",
          "AS-regression",
          "AS-regression",
          "AS-regression",
          "AS-regression",
          "AS-regression",
          "AS-regression",
          "AS-regression",
          "AS-regression",
          "AS-regression",
          "AS-regression",
          "AS-regression",
          "AS-regression",
          "AS-regression",
          "AS-regression",
          "AS-regression",
          "AS-regression",
          "AS-regression",
          "AS-regression",
          "AS-regression",
          "AS-regression",
          "AS-regression",
          "AS-regression",
          "AS-regression",
          "AS-regression",
          "AS-regression",
          "AS-regression",
          "AS-regression",
          "AS-regression",
          "AS-regression",
          "AS-regression",
          "AS-regression",
          "AS-regression",
          "AS-regression",
          "AS-regression",
          "AS-regression",
          "AS-regression",
          "AS-regression",
          "AS-regression",
          "AS-regression",
          "AS-regression",
          "AS-regression",
          "AS-regression",
          "AS-regression",
          "AS-regression",
          "AS-regression",
          "AS-regression",
          "AS-regression",
          "AS-regression",
          "AS-regression",
          "AS-regression",
          "AS-regression",
          "AS-regression",
          "AS-regression",
          "AS-regression",
          "AS-regression",
          "AS-regression",
          "AS-regression",
          "AS-regression",
          "AS-regression",
          "AS-regression",
          "AS-regression",
          "AS-regression",
          "AS-regression",
          "AS-regression",
          "AS-regression",
          "AS-regression",
          "AS-regression",
          "AS-regression",
          "AS-regression",
          "AS-regression",
          "AS-regression",
          "AS-regression",
          "AS-regression",
          "AS-regression",
          "AS-regression",
          "AS-regression",
          "AS-regression",
          "AS-regression",
          "AS-regression",
          "AS-regression",
          "AS-regression",
          "AS-regression",
          "AS-regression",
          "AS-regression",
          "AS-regression",
          "AS-regression",
          "AS-regression",
          "AS-regression",
          "AS-regression",
          "AS-regression",
          "AS-regression",
          "AS-regression",
          "AS-regression",
          "AS-regression",
          "AS-regression",
          "AS-regression",
          "AS-regression",
          "AS-regression",
          "AS-regression",
          "AS-regression",
          "AS-regression",
          "AS-regression",
          "AS-regression",
          "AS-regression",
          "AS-regression",
          "AS-regression",
          "AS-regression",
          "AS-regression",
          "AS-regression",
          "AS-regression",
          "AS-regression",
          "AS-regression",
          "AS-regression",
          "AS-regression",
          "AS-regression",
          "AS-regression",
          "AS-regression",
          "AS-regression",
          "AS-regression",
          "AS-regression",
          "AS-regression",
          "AS-regression",
          "AS-regression",
          "AS-regression",
          "AS-regression",
          "AS-regression",
          "AS-regression",
          "AS-regression",
          "AS-regression",
          "AS-regression",
          "AS-regression",
          "AS-regression",
          "AS-regression",
          "AS-regression",
          "AS-regression",
          "AS-regression",
          "AS-regression",
          "AS-regression",
          "AS-regression",
          "AS-regression",
          "AS-regression",
          "AS-regression",
          "AS-regression",
          "AS-regression",
          "AS-regression",
          "AS-regression",
          "AS-regression",
          "AS-regression",
          "AS-regression",
          "AS-regression",
          "AS-regression",
          "AS-regression",
          "AS-regression",
          "AS-regression",
          "AS-regression",
          "AS-regression",
          "AS-regression",
          "AS-regression",
          "AS-regression",
          "AS-regression",
          "AS-regression",
          "AS-regression",
          "AS-regression",
          "AS-regression",
          "AS-regression",
          "AS-regression",
          "AS-regression",
          "AS-regression",
          "AS-regression",
          "AS-regression",
          "AS-regression",
          "AS-regression",
          "AS-regression",
          "AS-regression",
          "AS-regression",
          "AS-regression",
          "AS-regression",
          "AS-regression",
          "AS-regression",
          "AS-regression",
          "AS-regression",
          "AS-regression",
          "AS-regression",
          "AS-regression",
          "AS-regression",
          "AS-regression",
          "AS-regression",
          "AS-regression",
          "AS-regression",
          "AS-regression",
          "AS-regression",
          "AS-regression",
          "AS-regression",
          "AS-regression",
          "AS-regression",
          "AS-regression",
          "AS-regression",
          "AS-regression",
          "AS-regression",
          "AS-regression",
          "AS-regression",
          "AS-regression",
          "AS-regression",
          "AS-regression",
          "AS-regression",
          "AS-regression",
          "AS-regression"
         ],
         "x0": " ",
         "xaxis": "x",
         "y": [
          0,
          0,
          0,
          0,
          0,
          0,
          0,
          0,
          0,
          0,
          0,
          0,
          0,
          0,
          0,
          0,
          0,
          0,
          0,
          0,
          0,
          0,
          0,
          0,
          0,
          0,
          0,
          0,
          0,
          0,
          0,
          0,
          0.5228787452803356,
          0,
          0,
          0,
          0.5590496560389955,
          0,
          0,
          0,
          0,
          0,
          0,
          0,
          0,
          0,
          0,
          0,
          0,
          0,
          0.0480908218360366,
          0,
          0.1650427557072023,
          0.0170320924611921,
          0.045203812599797,
          0,
          0,
          0.1760912590556813,
          0,
          0.1760872339777601,
          0,
          0,
          0,
          0,
          0,
          0,
          0,
          0,
          0.3395972762264344,
          0.5524797978383704,
          2.0500952166256843,
          0.2586936751493449,
          0,
          1.2460295347339392,
          1.1764888886023008,
          0.4893651686067621,
          0.2761574062802121,
          0.0153614993733208,
          0.1340156339953502,
          0,
          0.5545201686514869,
          0,
          0,
          0.388817898211101,
          0,
          0,
          0,
          0.2712715114066302,
          0,
          0,
          0,
          0,
          0,
          0,
          0,
          0.6055963361978518,
          0,
          0,
          0,
          0,
          0,
          0,
          0.9208187539523748,
          0,
          0,
          0,
          0,
          0.8699643060074624,
          0,
          0,
          0.5727795917607685,
          0.6439414640187835,
          0.6778309879482922,
          0.6067439076450373,
          0.7420102058062001,
          0.7225189925334777,
          0.5529920066290256,
          0.7249769738713008,
          0.671241551018618,
          0.5471527807545404,
          0,
          0,
          0,
          0,
          0,
          3.920702111892375,
          4.635427965758871,
          3.3473950992050074,
          0,
          0,
          0,
          1.1549019599857449,
          2.360943185951448,
          0,
          3.3783165988677024,
          4.14376337237433,
          0.6809509562843659,
          4.772161055721349,
          2.376131161631336,
          3.85280197468949,
          0,
          0,
          0,
          0,
          0,
          0,
          0,
          0,
          0,
          0,
          0,
          0,
          0,
          0,
          0,
          0.0177932947408847,
          0,
          0,
          0.1472327322055375,
          0,
          0,
          0,
          0,
          0,
          0,
          0,
          0,
          0,
          0,
          0,
          1.4810020449985126,
          1.6228413905222616,
          0,
          0,
          1.5321163282970174,
          1.3384518044958835,
          1.5798479079250547,
          1.318822591012234,
          1.2525103148550645,
          1.6512193556686323,
          0.9798159821599456,
          1.1106012806308312,
          0.7471210391902141,
          0.8497693499929011,
          0,
          0.9537385942129144,
          1.0575013294395843,
          0.847398581612753,
          0.8797043647543767,
          1.1877333260718832,
          0,
          0,
          0,
          0,
          0,
          0,
          0,
          0,
          0,
          0,
          0,
          0,
          0,
          0,
          0,
          0,
          0,
          0,
          0,
          0,
          0,
          0,
          0,
          0,
          0,
          0,
          0,
          0,
          0,
          0,
          0,
          0,
          0,
          0,
          0,
          0,
          0,
          0,
          0,
          0,
          0,
          0,
          0,
          0,
          0,
          0,
          0,
          0,
          0,
          0
         ],
         "y0": " ",
         "yaxis": "y"
        }
       ],
       "layout": {
        "autosize": false,
        "boxmode": "overlay",
        "font": {
         "size": 22
        },
        "height": 700,
        "legend": {
         "title": {
          "text": ""
         },
         "tracegroupgap": 0
        },
        "margin": {
         "b": 0,
         "l": 50,
         "pad": 4,
         "r": 50,
         "t": 50
        },
        "showlegend": false,
        "template": {
         "data": {
          "bar": [
           {
            "error_x": {
             "color": "#2a3f5f"
            },
            "error_y": {
             "color": "#2a3f5f"
            },
            "marker": {
             "line": {
              "color": "#E5ECF6",
              "width": 0.5
             },
             "pattern": {
              "fillmode": "overlay",
              "size": 10,
              "solidity": 0.2
             }
            },
            "type": "bar"
           }
          ],
          "barpolar": [
           {
            "marker": {
             "line": {
              "color": "#E5ECF6",
              "width": 0.5
             },
             "pattern": {
              "fillmode": "overlay",
              "size": 10,
              "solidity": 0.2
             }
            },
            "type": "barpolar"
           }
          ],
          "carpet": [
           {
            "aaxis": {
             "endlinecolor": "#2a3f5f",
             "gridcolor": "white",
             "linecolor": "white",
             "minorgridcolor": "white",
             "startlinecolor": "#2a3f5f"
            },
            "baxis": {
             "endlinecolor": "#2a3f5f",
             "gridcolor": "white",
             "linecolor": "white",
             "minorgridcolor": "white",
             "startlinecolor": "#2a3f5f"
            },
            "type": "carpet"
           }
          ],
          "choropleth": [
           {
            "colorbar": {
             "outlinewidth": 0,
             "ticks": ""
            },
            "type": "choropleth"
           }
          ],
          "contour": [
           {
            "colorbar": {
             "outlinewidth": 0,
             "ticks": ""
            },
            "colorscale": [
             [
              0,
              "#0d0887"
             ],
             [
              0.1111111111111111,
              "#46039f"
             ],
             [
              0.2222222222222222,
              "#7201a8"
             ],
             [
              0.3333333333333333,
              "#9c179e"
             ],
             [
              0.4444444444444444,
              "#bd3786"
             ],
             [
              0.5555555555555556,
              "#d8576b"
             ],
             [
              0.6666666666666666,
              "#ed7953"
             ],
             [
              0.7777777777777778,
              "#fb9f3a"
             ],
             [
              0.8888888888888888,
              "#fdca26"
             ],
             [
              1,
              "#f0f921"
             ]
            ],
            "type": "contour"
           }
          ],
          "contourcarpet": [
           {
            "colorbar": {
             "outlinewidth": 0,
             "ticks": ""
            },
            "type": "contourcarpet"
           }
          ],
          "heatmap": [
           {
            "colorbar": {
             "outlinewidth": 0,
             "ticks": ""
            },
            "colorscale": [
             [
              0,
              "#0d0887"
             ],
             [
              0.1111111111111111,
              "#46039f"
             ],
             [
              0.2222222222222222,
              "#7201a8"
             ],
             [
              0.3333333333333333,
              "#9c179e"
             ],
             [
              0.4444444444444444,
              "#bd3786"
             ],
             [
              0.5555555555555556,
              "#d8576b"
             ],
             [
              0.6666666666666666,
              "#ed7953"
             ],
             [
              0.7777777777777778,
              "#fb9f3a"
             ],
             [
              0.8888888888888888,
              "#fdca26"
             ],
             [
              1,
              "#f0f921"
             ]
            ],
            "type": "heatmap"
           }
          ],
          "heatmapgl": [
           {
            "colorbar": {
             "outlinewidth": 0,
             "ticks": ""
            },
            "colorscale": [
             [
              0,
              "#0d0887"
             ],
             [
              0.1111111111111111,
              "#46039f"
             ],
             [
              0.2222222222222222,
              "#7201a8"
             ],
             [
              0.3333333333333333,
              "#9c179e"
             ],
             [
              0.4444444444444444,
              "#bd3786"
             ],
             [
              0.5555555555555556,
              "#d8576b"
             ],
             [
              0.6666666666666666,
              "#ed7953"
             ],
             [
              0.7777777777777778,
              "#fb9f3a"
             ],
             [
              0.8888888888888888,
              "#fdca26"
             ],
             [
              1,
              "#f0f921"
             ]
            ],
            "type": "heatmapgl"
           }
          ],
          "histogram": [
           {
            "marker": {
             "pattern": {
              "fillmode": "overlay",
              "size": 10,
              "solidity": 0.2
             }
            },
            "type": "histogram"
           }
          ],
          "histogram2d": [
           {
            "colorbar": {
             "outlinewidth": 0,
             "ticks": ""
            },
            "colorscale": [
             [
              0,
              "#0d0887"
             ],
             [
              0.1111111111111111,
              "#46039f"
             ],
             [
              0.2222222222222222,
              "#7201a8"
             ],
             [
              0.3333333333333333,
              "#9c179e"
             ],
             [
              0.4444444444444444,
              "#bd3786"
             ],
             [
              0.5555555555555556,
              "#d8576b"
             ],
             [
              0.6666666666666666,
              "#ed7953"
             ],
             [
              0.7777777777777778,
              "#fb9f3a"
             ],
             [
              0.8888888888888888,
              "#fdca26"
             ],
             [
              1,
              "#f0f921"
             ]
            ],
            "type": "histogram2d"
           }
          ],
          "histogram2dcontour": [
           {
            "colorbar": {
             "outlinewidth": 0,
             "ticks": ""
            },
            "colorscale": [
             [
              0,
              "#0d0887"
             ],
             [
              0.1111111111111111,
              "#46039f"
             ],
             [
              0.2222222222222222,
              "#7201a8"
             ],
             [
              0.3333333333333333,
              "#9c179e"
             ],
             [
              0.4444444444444444,
              "#bd3786"
             ],
             [
              0.5555555555555556,
              "#d8576b"
             ],
             [
              0.6666666666666666,
              "#ed7953"
             ],
             [
              0.7777777777777778,
              "#fb9f3a"
             ],
             [
              0.8888888888888888,
              "#fdca26"
             ],
             [
              1,
              "#f0f921"
             ]
            ],
            "type": "histogram2dcontour"
           }
          ],
          "mesh3d": [
           {
            "colorbar": {
             "outlinewidth": 0,
             "ticks": ""
            },
            "type": "mesh3d"
           }
          ],
          "parcoords": [
           {
            "line": {
             "colorbar": {
              "outlinewidth": 0,
              "ticks": ""
             }
            },
            "type": "parcoords"
           }
          ],
          "pie": [
           {
            "automargin": true,
            "type": "pie"
           }
          ],
          "scatter": [
           {
            "fillpattern": {
             "fillmode": "overlay",
             "size": 10,
             "solidity": 0.2
            },
            "type": "scatter"
           }
          ],
          "scatter3d": [
           {
            "line": {
             "colorbar": {
              "outlinewidth": 0,
              "ticks": ""
             }
            },
            "marker": {
             "colorbar": {
              "outlinewidth": 0,
              "ticks": ""
             }
            },
            "type": "scatter3d"
           }
          ],
          "scattercarpet": [
           {
            "marker": {
             "colorbar": {
              "outlinewidth": 0,
              "ticks": ""
             }
            },
            "type": "scattercarpet"
           }
          ],
          "scattergeo": [
           {
            "marker": {
             "colorbar": {
              "outlinewidth": 0,
              "ticks": ""
             }
            },
            "type": "scattergeo"
           }
          ],
          "scattergl": [
           {
            "marker": {
             "colorbar": {
              "outlinewidth": 0,
              "ticks": ""
             }
            },
            "type": "scattergl"
           }
          ],
          "scattermapbox": [
           {
            "marker": {
             "colorbar": {
              "outlinewidth": 0,
              "ticks": ""
             }
            },
            "type": "scattermapbox"
           }
          ],
          "scatterpolar": [
           {
            "marker": {
             "colorbar": {
              "outlinewidth": 0,
              "ticks": ""
             }
            },
            "type": "scatterpolar"
           }
          ],
          "scatterpolargl": [
           {
            "marker": {
             "colorbar": {
              "outlinewidth": 0,
              "ticks": ""
             }
            },
            "type": "scatterpolargl"
           }
          ],
          "scatterternary": [
           {
            "marker": {
             "colorbar": {
              "outlinewidth": 0,
              "ticks": ""
             }
            },
            "type": "scatterternary"
           }
          ],
          "surface": [
           {
            "colorbar": {
             "outlinewidth": 0,
             "ticks": ""
            },
            "colorscale": [
             [
              0,
              "#0d0887"
             ],
             [
              0.1111111111111111,
              "#46039f"
             ],
             [
              0.2222222222222222,
              "#7201a8"
             ],
             [
              0.3333333333333333,
              "#9c179e"
             ],
             [
              0.4444444444444444,
              "#bd3786"
             ],
             [
              0.5555555555555556,
              "#d8576b"
             ],
             [
              0.6666666666666666,
              "#ed7953"
             ],
             [
              0.7777777777777778,
              "#fb9f3a"
             ],
             [
              0.8888888888888888,
              "#fdca26"
             ],
             [
              1,
              "#f0f921"
             ]
            ],
            "type": "surface"
           }
          ],
          "table": [
           {
            "cells": {
             "fill": {
              "color": "#EBF0F8"
             },
             "line": {
              "color": "white"
             }
            },
            "header": {
             "fill": {
              "color": "#C8D4E3"
             },
             "line": {
              "color": "white"
             }
            },
            "type": "table"
           }
          ]
         },
         "layout": {
          "annotationdefaults": {
           "arrowcolor": "#2a3f5f",
           "arrowhead": 0,
           "arrowwidth": 1
          },
          "autotypenumbers": "strict",
          "coloraxis": {
           "colorbar": {
            "outlinewidth": 0,
            "ticks": ""
           }
          },
          "colorscale": {
           "diverging": [
            [
             0,
             "#8e0152"
            ],
            [
             0.1,
             "#c51b7d"
            ],
            [
             0.2,
             "#de77ae"
            ],
            [
             0.3,
             "#f1b6da"
            ],
            [
             0.4,
             "#fde0ef"
            ],
            [
             0.5,
             "#f7f7f7"
            ],
            [
             0.6,
             "#e6f5d0"
            ],
            [
             0.7,
             "#b8e186"
            ],
            [
             0.8,
             "#7fbc41"
            ],
            [
             0.9,
             "#4d9221"
            ],
            [
             1,
             "#276419"
            ]
           ],
           "sequential": [
            [
             0,
             "#0d0887"
            ],
            [
             0.1111111111111111,
             "#46039f"
            ],
            [
             0.2222222222222222,
             "#7201a8"
            ],
            [
             0.3333333333333333,
             "#9c179e"
            ],
            [
             0.4444444444444444,
             "#bd3786"
            ],
            [
             0.5555555555555556,
             "#d8576b"
            ],
            [
             0.6666666666666666,
             "#ed7953"
            ],
            [
             0.7777777777777778,
             "#fb9f3a"
            ],
            [
             0.8888888888888888,
             "#fdca26"
            ],
            [
             1,
             "#f0f921"
            ]
           ],
           "sequentialminus": [
            [
             0,
             "#0d0887"
            ],
            [
             0.1111111111111111,
             "#46039f"
            ],
            [
             0.2222222222222222,
             "#7201a8"
            ],
            [
             0.3333333333333333,
             "#9c179e"
            ],
            [
             0.4444444444444444,
             "#bd3786"
            ],
            [
             0.5555555555555556,
             "#d8576b"
            ],
            [
             0.6666666666666666,
             "#ed7953"
            ],
            [
             0.7777777777777778,
             "#fb9f3a"
            ],
            [
             0.8888888888888888,
             "#fdca26"
            ],
            [
             1,
             "#f0f921"
            ]
           ]
          },
          "colorway": [
           "#636efa",
           "#EF553B",
           "#00cc96",
           "#ab63fa",
           "#FFA15A",
           "#19d3f3",
           "#FF6692",
           "#B6E880",
           "#FF97FF",
           "#FECB52"
          ],
          "font": {
           "color": "#2a3f5f"
          },
          "geo": {
           "bgcolor": "white",
           "lakecolor": "white",
           "landcolor": "#E5ECF6",
           "showlakes": true,
           "showland": true,
           "subunitcolor": "white"
          },
          "hoverlabel": {
           "align": "left"
          },
          "hovermode": "closest",
          "mapbox": {
           "style": "light"
          },
          "paper_bgcolor": "white",
          "plot_bgcolor": "#E5ECF6",
          "polar": {
           "angularaxis": {
            "gridcolor": "white",
            "linecolor": "white",
            "ticks": ""
           },
           "bgcolor": "#E5ECF6",
           "radialaxis": {
            "gridcolor": "white",
            "linecolor": "white",
            "ticks": ""
           }
          },
          "scene": {
           "xaxis": {
            "backgroundcolor": "#E5ECF6",
            "gridcolor": "white",
            "gridwidth": 2,
            "linecolor": "white",
            "showbackground": true,
            "ticks": "",
            "zerolinecolor": "white"
           },
           "yaxis": {
            "backgroundcolor": "#E5ECF6",
            "gridcolor": "white",
            "gridwidth": 2,
            "linecolor": "white",
            "showbackground": true,
            "ticks": "",
            "zerolinecolor": "white"
           },
           "zaxis": {
            "backgroundcolor": "#E5ECF6",
            "gridcolor": "white",
            "gridwidth": 2,
            "linecolor": "white",
            "showbackground": true,
            "ticks": "",
            "zerolinecolor": "white"
           }
          },
          "shapedefaults": {
           "line": {
            "color": "#2a3f5f"
           }
          },
          "ternary": {
           "aaxis": {
            "gridcolor": "white",
            "linecolor": "white",
            "ticks": ""
           },
           "baxis": {
            "gridcolor": "white",
            "linecolor": "white",
            "ticks": ""
           },
           "bgcolor": "#E5ECF6",
           "caxis": {
            "gridcolor": "white",
            "linecolor": "white",
            "ticks": ""
           }
          },
          "title": {
           "x": 0.05
          },
          "xaxis": {
           "automargin": true,
           "gridcolor": "white",
           "linecolor": "white",
           "ticks": "",
           "title": {
            "standoff": 15
           },
           "zerolinecolor": "white",
           "zerolinewidth": 2
          },
          "yaxis": {
           "automargin": true,
           "gridcolor": "white",
           "linecolor": "white",
           "ticks": "",
           "title": {
            "standoff": 15
           },
           "zerolinecolor": "white",
           "zerolinewidth": 2
          }
         }
        },
        "title": {
         "text": "Runtime: 10000",
         "x": 0.5
        },
        "width": 1000,
        "xaxis": {
         "anchor": "y",
         "categoryarray": [
          "AS-classification",
          "AS-pairwise-classification",
          "AS-regression"
         ],
         "categoryorder": "array",
         "domain": [
          0,
          1
         ],
         "title": {
          "text": ""
         }
        },
        "yaxis": {
         "anchor": "x",
         "domain": [
          0,
          1
         ],
         "title": {
          "text": "Loss"
         }
        }
       }
      }
     },
     "metadata": {},
     "output_type": "display_data"
    }
   ],
   "source": [
    "import pandas as pd\n",
    "import plotly.express as px\n",
    "import numpy as np\n",
    "\n",
    "def compare_approaches_boxplot(runtimes, dim, ML_algo, transform_target):\n",
    "    for runtime in runtimes:\n",
    "        print(f'Runtime: {runtime}')\n",
    "        df_classification_pairwise = pd.read_csv(f\"./results/classification_pairwise/{ML_algo}/selector/as_{dim}D_{runtime}.csv\", index_col=0)\n",
    "        df_classification_pairwise = df_classification_pairwise['AS-pairwise-classification']\n",
    "        \n",
    "        df_classification_pairwise = pd.DataFrame(df_classification_pairwise, columns=['AS-pairwise-classification'])\n",
    "        if transform_target:\n",
    "            df_classification_pairwise['AS-pairwise-classification'] = df_classification_pairwise.apply(lambda row: 10**(-8) if row['AS-pairwise-classification'] == 0 else row['AS-pairwise-classification'] , axis=1)\n",
    "            df_classification_pairwise['AS-pairwise-classification'] = df_classification_pairwise.apply(lambda row: np.log10(row['AS-pairwise-classification']), axis=1)\n",
    "            # df_classification_pairwise['AS-pairwise-classification'] = df_classification_pairwise.apply(lambda row: 10**row['AS-pairwise-classification'], axis=1)\n",
    "        print(f'Loss classification pairwise sum: {np.sum(df_classification_pairwise)}')\n",
    "        df_comparison = df_classification_pairwise\n",
    "        df_classification = pd.read_csv(f\"./results/classification/{ML_algo}/selector/as_{dim}D_{runtime}.csv\", index_col=0)\n",
    "        df_classification = df_classification['AS-classification']\n",
    "        df_classification = pd.DataFrame(df_classification, columns=['AS-classification'])\n",
    "        if transform_target:\n",
    "            df_classification['AS-classification'] = df_classification.apply(lambda row: 10**(-8) if row['AS-classification'] == 0 else row['AS-classification'] , axis=1)\n",
    "            df_classification['AS-classification'] = df_classification.apply(lambda row: np.log10(row['AS-classification']), axis=1)\n",
    "            # df_classification['AS-classification'] = df_classification.apply(lambda row: 10**(row['AS-classification']), axis=1)\n",
    "        print(f'Loss classification sum: {np.sum(df_classification)}')\n",
    "        df_comparison = df_classification.join(df_comparison)\n",
    "        df_regression = pd.read_csv(f\"./results/regression/{ML_algo}/selector/as_{dim}D_{runtime}.csv\", index_col=0)\n",
    "        df_regression = df_regression['AS-regression']\n",
    "        df_regression = pd.DataFrame(df_regression, columns=['AS-regression'])\n",
    "        if transform_target:\n",
    "            df_regression['AS-regression'] = df_regression.apply(lambda row: 10**(-8) if row['AS-regression'] == 0 else row['AS-regression'] , axis=1)\n",
    "            df_regression['AS-regression'] = df_regression.apply(lambda row: np.log10(row['AS-regression']), axis=1)\n",
    "            # df_regression['AS-regression'] = df_regression.apply(lambda row: 10**(row['AS-regression']), axis=1)\n",
    "        print(f'Loss regression sum: {np.sum(df_regression)}')\n",
    "        \n",
    "        df_comparison = df_comparison.join(df_regression)\n",
    "\n",
    "        # print(df_comparison)\n",
    "\n",
    "        fig = px.box(df_comparison, \n",
    "                    labels={\"variable\": \"\",  \"value\": \"Loss\"}, \n",
    "                    title=runtime, \n",
    "                    color = 'variable', \n",
    "                    color_discrete_sequence = px.colors.sequential.haline\n",
    "                    )\n",
    "        fig.update_layout(\n",
    "            title_text=f'Runtime: {runtime}', title_x=0.5,\n",
    "            autosize=False,\n",
    "            width=1000,\n",
    "            height=700,\n",
    "            margin=dict(\n",
    "                l=50,\n",
    "                r=50,\n",
    "                b=0,\n",
    "                t=50,\n",
    "                pad=4\n",
    "            ),\n",
    "            showlegend=False,\n",
    "            font=dict(\n",
    "                size=22\n",
    "            )\n",
    "        )\n",
    "        fig.show()\n",
    "\n",
    "dim = 5\n",
    "runtimes = [100, 250, 500, 1000, 2500, 5000, 10000]\n",
    "ML_algo = \"RForest\"\n",
    "compare_approaches_boxplot(runtimes, dim, ML_algo, False)"
   ]
  }
 ],
 "metadata": {
  "kernelspec": {
   "display_name": "Python 3.8.3 64-bit",
   "language": "python",
   "name": "python3"
  },
  "language_info": {
   "codemirror_mode": {
    "name": "ipython",
    "version": 3
   },
   "file_extension": ".py",
   "mimetype": "text/x-python",
   "name": "python",
   "nbconvert_exporter": "python",
   "pygments_lexer": "ipython3",
   "version": "3.8.3"
  },
  "orig_nbformat": 4,
  "vscode": {
   "interpreter": {
    "hash": "949777d72b0d2535278d3dc13498b2535136f6dfe0678499012e853ee9abcab1"
   }
  }
 },
 "nbformat": 4,
 "nbformat_minor": 2
}
